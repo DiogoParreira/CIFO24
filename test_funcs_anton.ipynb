{
 "cells": [
  {
   "cell_type": "code",
   "execution_count": 1,
   "metadata": {},
   "outputs": [],
   "source": [
    "import Objects.population as pop\n",
    "import numpy as np\n",
    "from scipy.spatial import distance_matrix\n",
    "from scipy.spatial.distance import cdist\n",
    "import pandas as pd\n",
    "import matplotlib.pyplot as plt\n",
    "from tqdm import tqdm"
   ]
  },
  {
   "cell_type": "code",
   "execution_count": 2,
   "metadata": {},
   "outputs": [],
   "source": [
    "test_board = np.array([[9, 4, 7, 3, 2, 6, 5, 8, 1],\n",
    "       [0, 0, 0, 0, 0, 0, 0, 0, 0],\n",
    "       [0, 0, 0, 0, 0, 0, 0, 0, 0],\n",
    "       [4, 7, 3, 5, 9, 2, 1, 6, 8],\n",
    "       [1, 2, 9, 8, 0, 4, 7, 3, 5],\n",
    "       [5, 6, 8, 7, 1, 3, 4, 9, 2],\n",
    "       [7, 9, 2, 4, 5, 8, 3, 1, 6],\n",
    "       [6, 1, 5, 2, 3, 9, 8, 7, 4],\n",
    "       [3, 8, 4, 6, 7, 1, 2, 5, 9]])"
   ]
  },
  {
   "cell_type": "code",
   "execution_count": 17,
   "metadata": {},
   "outputs": [],
   "source": [
    "# !pip install py-sudoku\n",
    "from sudoku import Sudoku "
   ]
  },
  {
   "cell_type": "code",
   "execution_count": 18,
   "metadata": {},
   "outputs": [
    {
     "data": {
      "text/plain": [
       "array([[7, 2, 5, 1, 0, 0, 6, 3, 8],\n",
       "       [1, 0, 6, 3, 7, 8, 4, 0, 5],\n",
       "       [0, 8, 4, 6, 2, 5, 7, 9, 1],\n",
       "       [2, 4, 9, 0, 8, 6, 1, 7, 3],\n",
       "       [8, 7, 3, 9, 1, 0, 0, 4, 6],\n",
       "       [5, 6, 1, 0, 0, 4, 9, 8, 2],\n",
       "       [4, 3, 7, 2, 0, 1, 8, 0, 9],\n",
       "       [9, 1, 0, 8, 5, 7, 0, 6, 4],\n",
       "       [0, 5, 8, 4, 9, 3, 2, 1, 0]])"
      ]
     },
     "execution_count": 18,
     "metadata": {},
     "output_type": "execute_result"
    }
   ],
   "source": [
    "puzzle = Sudoku(3).difficulty(0.2)\n",
    "test_board = np.where(np.array(puzzle.board) == None, 0, np.array(puzzle.board)).astype(int)\n",
    "test_board"
   ]
  },
  {
   "cell_type": "code",
   "execution_count": 23,
   "metadata": {},
   "outputs": [
    {
     "data": {
      "text/plain": [
       "[<matplotlib.lines.Line2D at 0x14cb9bd50>]"
      ]
     },
     "execution_count": 23,
     "metadata": {},
     "output_type": "execute_result"
    },
    {
     "data": {
      "image/png": "[encoded data removed]",
      "text/plain": [
       "<Figure size 640x480 with 1 Axes>"
      ]
     },
     "metadata": {},
     "output_type": "display_data"
    }
   ],
   "source": [
    "plt.plot(pd.DataFrame(population.history).T[0])"
   ]
  },
  {
   "cell_type": "code",
   "execution_count": 5,
   "metadata": {},
   "outputs": [],
   "source": [
    "test_board = np.array([[0, 0, 0, 0, 0, 0, 0, 0, 0],\n",
    "       [0, 0, 0, 0, 0, 0, 0, 0, 0],\n",
    "       [0, 0, 0, 0, 0, 0, 0, 0, 0],\n",
    "       [0, 0, 0, 0, 0, 0, 0, 0, 0],\n",
    "       [9, 6, 2, 0, 5, 7, 0, 4, 3],\n",
    "       [0, 5, 7, 8, 3, 4, 2, 0, 9],\n",
    "       [7, 3, 0, 5, 8, 9, 4, 2, 6],\n",
    "       [8, 2, 4, 6, 7, 1, 9, 0, 5],\n",
    "       [6, 9, 5, 3, 4, 2, 0, 7, 8]])"
   ]
  },
  {
   "cell_type": "code",
   "execution_count": 19,
   "metadata": {},
   "outputs": [
    {
     "name": "stderr",
     "output_type": "stream",
     "text": [
      "  0%|          | 0/20 [00:00<?, ?it/s]"
     ]
    },
    {
     "name": "stdout",
     "output_type": "stream",
     "text": [
      "Best individual of gen #1: 21\n",
      "Best individual of gen #2: 20\n"
     ]
    },
    {
     "name": "stderr",
     "output_type": "stream",
     "text": [
      "  0%|          | 0/20 [00:01<?, ?it/s]\n"
     ]
    },
    {
     "ename": "KeyboardInterrupt",
     "evalue": "",
     "output_type": "error",
     "traceback": [
      "\u001b[0;31m---------------------------------------------------------------------------\u001b[0m",
      "\u001b[0;31mKeyboardInterrupt\u001b[0m                         Traceback (most recent call last)",
      "Cell \u001b[0;32mIn[19], line 5\u001b[0m\n\u001b[1;32m      3\u001b[0m \u001b[38;5;28;01mfor\u001b[39;00m i \u001b[38;5;129;01min\u001b[39;00m tqdm(\u001b[38;5;28mrange\u001b[39m(\u001b[38;5;241m20\u001b[39m)):\n\u001b[1;32m      4\u001b[0m     population \u001b[38;5;241m=\u001b[39m pop\u001b[38;5;241m.\u001b[39mPopulation(size\u001b[38;5;241m=\u001b[39m\u001b[38;5;241m1000\u001b[39m, initial_board\u001b[38;5;241m=\u001b[39mtest_board)\n\u001b[0;32m----> 5\u001b[0m     population\u001b[38;5;241m.\u001b[39mevolve(\n\u001b[1;32m      6\u001b[0m         gens \u001b[38;5;241m=\u001b[39m \u001b[38;5;241m50\u001b[39m,\n\u001b[1;32m      7\u001b[0m         xo_prob \u001b[38;5;241m=\u001b[39m \u001b[38;5;241m0.0\u001b[39m,\n\u001b[1;32m      8\u001b[0m         mut_prob \u001b[38;5;241m=\u001b[39m \u001b[38;5;241m0.5\u001b[39m,\n\u001b[1;32m      9\u001b[0m         select_type\u001b[38;5;241m=\u001b[39m\u001b[38;5;124m'\u001b[39m\u001b[38;5;124mroulette\u001b[39m\u001b[38;5;124m'\u001b[39m,\n\u001b[1;32m     10\u001b[0m         xo\u001b[38;5;241m=\u001b[39m\u001b[38;5;124m'\u001b[39m\u001b[38;5;124mmulti_point\u001b[39m\u001b[38;5;124m'\u001b[39m,\n\u001b[1;32m     11\u001b[0m         mutation\u001b[38;5;241m=\u001b[39m\u001b[38;5;124m'\u001b[39m\u001b[38;5;124mswap-smart\u001b[39m\u001b[38;5;124m'\u001b[39m,\n\u001b[1;32m     12\u001b[0m         elite_size\u001b[38;5;241m=\u001b[39m\u001b[38;5;241m100\u001b[39m,\n\u001b[1;32m     13\u001b[0m         swap_number\u001b[38;5;241m=\u001b[39m\u001b[38;5;241m1\u001b[39m,\n\u001b[1;32m     14\u001b[0m         diversify\u001b[38;5;241m=\u001b[39m\u001b[38;5;124m'\u001b[39m\u001b[38;5;124mfitness-sharing\u001b[39m\u001b[38;5;124m'\u001b[39m,\n\u001b[1;32m     15\u001b[0m         verbose\u001b[38;5;241m=\u001b[39m \u001b[38;5;28;01mTrue\u001b[39;00m\n\u001b[1;32m     16\u001b[0m     )\n\u001b[1;32m     17\u001b[0m     histories\u001b[38;5;241m.\u001b[39mappend(population\u001b[38;5;241m.\u001b[39mhistory)\n",
      "File \u001b[0;32m~/Documents/Nova IMS current/CO/CIFO24/Objects/population.py:73\u001b[0m, in \u001b[0;36mPopulation.evolve\u001b[0;34m(self, gens, xo_prob, mut_prob, select_type, xo, diversify, elite_size, mutation, swap_number, keep_distribution, verbose)\u001b[0m\n\u001b[1;32m     71\u001b[0m \u001b[38;5;28mself\u001b[39m\u001b[38;5;241m.\u001b[39mcrossover(\u001b[38;5;28mtype\u001b[39m\u001b[38;5;241m=\u001b[39mxo, prob\u001b[38;5;241m=\u001b[39mxo_prob)\n\u001b[1;32m     72\u001b[0m \u001b[38;5;28;01mfor\u001b[39;00m j \u001b[38;5;129;01min\u001b[39;00m \u001b[38;5;28mrange\u001b[39m(\u001b[38;5;28mlen\u001b[39m(\u001b[38;5;28mself\u001b[39m\u001b[38;5;241m.\u001b[39mindividuals)):\n\u001b[0;32m---> 73\u001b[0m     \u001b[38;5;28mself\u001b[39m[j] \u001b[38;5;241m=\u001b[39m \u001b[38;5;28mself\u001b[39m[j]\u001b[38;5;241m.\u001b[39mmutate(mut_prob, swap_number, mutation\u001b[38;5;241m=\u001b[39mmutation)\n\u001b[1;32m     75\u001b[0m \u001b[38;5;28;01mif\u001b[39;00m keep_distribution:\n\u001b[1;32m     76\u001b[0m     \u001b[38;5;28mself\u001b[39m\u001b[38;5;241m.\u001b[39mkeep_distribution()\n",
      "File \u001b[0;32m~/Documents/Nova IMS current/CO/CIFO24/Objects/population.py:434\u001b[0m, in \u001b[0;36mPopulation.__setitem__\u001b[0;34m(self, position, value)\u001b[0m\n\u001b[1;32m    433\u001b[0m \u001b[38;5;28;01mdef\u001b[39;00m \u001b[38;5;21m__setitem__\u001b[39m(\u001b[38;5;28mself\u001b[39m, position, value):\n\u001b[0;32m--> 434\u001b[0m     \u001b[38;5;28mself\u001b[39m\u001b[38;5;241m.\u001b[39mindividuals[position] \u001b[38;5;241m=\u001b[39m deepcopy(value)\n",
      "File \u001b[0;32m~/anaconda3/lib/python3.11/copy.py:172\u001b[0m, in \u001b[0;36mdeepcopy\u001b[0;34m(x, memo, _nil)\u001b[0m\n\u001b[1;32m    170\u001b[0m                 y \u001b[38;5;241m=\u001b[39m x\n\u001b[1;32m    171\u001b[0m             \u001b[38;5;28;01melse\u001b[39;00m:\n\u001b[0;32m--> 172\u001b[0m                 y \u001b[38;5;241m=\u001b[39m _reconstruct(x, memo, \u001b[38;5;241m*\u001b[39mrv)\n\u001b[1;32m    174\u001b[0m \u001b[38;5;66;03m# If is its own copy, don't memoize.\u001b[39;00m\n\u001b[1;32m    175\u001b[0m \u001b[38;5;28;01mif\u001b[39;00m y \u001b[38;5;129;01mis\u001b[39;00m \u001b[38;5;129;01mnot\u001b[39;00m x:\n",
      "File \u001b[0;32m~/anaconda3/lib/python3.11/copy.py:271\u001b[0m, in \u001b[0;36m_reconstruct\u001b[0;34m(x, memo, func, args, state, listiter, dictiter, deepcopy)\u001b[0m\n\u001b[1;32m    269\u001b[0m \u001b[38;5;28;01mif\u001b[39;00m state \u001b[38;5;129;01mis\u001b[39;00m \u001b[38;5;129;01mnot\u001b[39;00m \u001b[38;5;28;01mNone\u001b[39;00m:\n\u001b[1;32m    270\u001b[0m     \u001b[38;5;28;01mif\u001b[39;00m deep:\n\u001b[0;32m--> 271\u001b[0m         state \u001b[38;5;241m=\u001b[39m deepcopy(state, memo)\n\u001b[1;32m    272\u001b[0m     \u001b[38;5;28;01mif\u001b[39;00m \u001b[38;5;28mhasattr\u001b[39m(y, \u001b[38;5;124m'\u001b[39m\u001b[38;5;124m__setstate__\u001b[39m\u001b[38;5;124m'\u001b[39m):\n\u001b[1;32m    273\u001b[0m         y\u001b[38;5;241m.\u001b[39m__setstate__(state)\n",
      "File \u001b[0;32m~/anaconda3/lib/python3.11/copy.py:146\u001b[0m, in \u001b[0;36mdeepcopy\u001b[0;34m(x, memo, _nil)\u001b[0m\n\u001b[1;32m    144\u001b[0m copier \u001b[38;5;241m=\u001b[39m _deepcopy_dispatch\u001b[38;5;241m.\u001b[39mget(\u001b[38;5;28mcls\u001b[39m)\n\u001b[1;32m    145\u001b[0m \u001b[38;5;28;01mif\u001b[39;00m copier \u001b[38;5;129;01mis\u001b[39;00m \u001b[38;5;129;01mnot\u001b[39;00m \u001b[38;5;28;01mNone\u001b[39;00m:\n\u001b[0;32m--> 146\u001b[0m     y \u001b[38;5;241m=\u001b[39m copier(x, memo)\n\u001b[1;32m    147\u001b[0m \u001b[38;5;28;01melse\u001b[39;00m:\n\u001b[1;32m    148\u001b[0m     \u001b[38;5;28;01mif\u001b[39;00m \u001b[38;5;28missubclass\u001b[39m(\u001b[38;5;28mcls\u001b[39m, \u001b[38;5;28mtype\u001b[39m):\n",
      "File \u001b[0;32m~/anaconda3/lib/python3.11/copy.py:231\u001b[0m, in \u001b[0;36m_deepcopy_dict\u001b[0;34m(x, memo, deepcopy)\u001b[0m\n\u001b[1;32m    229\u001b[0m memo[\u001b[38;5;28mid\u001b[39m(x)] \u001b[38;5;241m=\u001b[39m y\n\u001b[1;32m    230\u001b[0m \u001b[38;5;28;01mfor\u001b[39;00m key, value \u001b[38;5;129;01min\u001b[39;00m x\u001b[38;5;241m.\u001b[39mitems():\n\u001b[0;32m--> 231\u001b[0m     y[deepcopy(key, memo)] \u001b[38;5;241m=\u001b[39m deepcopy(value, memo)\n\u001b[1;32m    232\u001b[0m \u001b[38;5;28;01mreturn\u001b[39;00m y\n",
      "File \u001b[0;32m~/anaconda3/lib/python3.11/copy.py:146\u001b[0m, in \u001b[0;36mdeepcopy\u001b[0;34m(x, memo, _nil)\u001b[0m\n\u001b[1;32m    144\u001b[0m copier \u001b[38;5;241m=\u001b[39m _deepcopy_dispatch\u001b[38;5;241m.\u001b[39mget(\u001b[38;5;28mcls\u001b[39m)\n\u001b[1;32m    145\u001b[0m \u001b[38;5;28;01mif\u001b[39;00m copier \u001b[38;5;129;01mis\u001b[39;00m \u001b[38;5;129;01mnot\u001b[39;00m \u001b[38;5;28;01mNone\u001b[39;00m:\n\u001b[0;32m--> 146\u001b[0m     y \u001b[38;5;241m=\u001b[39m copier(x, memo)\n\u001b[1;32m    147\u001b[0m \u001b[38;5;28;01melse\u001b[39;00m:\n\u001b[1;32m    148\u001b[0m     \u001b[38;5;28;01mif\u001b[39;00m \u001b[38;5;28missubclass\u001b[39m(\u001b[38;5;28mcls\u001b[39m, \u001b[38;5;28mtype\u001b[39m):\n",
      "File \u001b[0;32m~/anaconda3/lib/python3.11/copy.py:206\u001b[0m, in \u001b[0;36m_deepcopy_list\u001b[0;34m(x, memo, deepcopy)\u001b[0m\n\u001b[1;32m    204\u001b[0m append \u001b[38;5;241m=\u001b[39m y\u001b[38;5;241m.\u001b[39mappend\n\u001b[1;32m    205\u001b[0m \u001b[38;5;28;01mfor\u001b[39;00m a \u001b[38;5;129;01min\u001b[39;00m x:\n\u001b[0;32m--> 206\u001b[0m     append(deepcopy(a, memo))\n\u001b[1;32m    207\u001b[0m \u001b[38;5;28;01mreturn\u001b[39;00m y\n",
      "File \u001b[0;32m~/anaconda3/lib/python3.11/copy.py:146\u001b[0m, in \u001b[0;36mdeepcopy\u001b[0;34m(x, memo, _nil)\u001b[0m\n\u001b[1;32m    144\u001b[0m copier \u001b[38;5;241m=\u001b[39m _deepcopy_dispatch\u001b[38;5;241m.\u001b[39mget(\u001b[38;5;28mcls\u001b[39m)\n\u001b[1;32m    145\u001b[0m \u001b[38;5;28;01mif\u001b[39;00m copier \u001b[38;5;129;01mis\u001b[39;00m \u001b[38;5;129;01mnot\u001b[39;00m \u001b[38;5;28;01mNone\u001b[39;00m:\n\u001b[0;32m--> 146\u001b[0m     y \u001b[38;5;241m=\u001b[39m copier(x, memo)\n\u001b[1;32m    147\u001b[0m \u001b[38;5;28;01melse\u001b[39;00m:\n\u001b[1;32m    148\u001b[0m     \u001b[38;5;28;01mif\u001b[39;00m \u001b[38;5;28missubclass\u001b[39m(\u001b[38;5;28mcls\u001b[39m, \u001b[38;5;28mtype\u001b[39m):\n",
      "File \u001b[0;32m~/anaconda3/lib/python3.11/copy.py:211\u001b[0m, in \u001b[0;36m_deepcopy_tuple\u001b[0;34m(x, memo, deepcopy)\u001b[0m\n\u001b[1;32m    210\u001b[0m \u001b[38;5;28;01mdef\u001b[39;00m \u001b[38;5;21m_deepcopy_tuple\u001b[39m(x, memo, deepcopy\u001b[38;5;241m=\u001b[39mdeepcopy):\n\u001b[0;32m--> 211\u001b[0m     y \u001b[38;5;241m=\u001b[39m [deepcopy(a, memo) \u001b[38;5;28;01mfor\u001b[39;00m a \u001b[38;5;129;01min\u001b[39;00m x]\n\u001b[1;32m    212\u001b[0m     \u001b[38;5;66;03m# We're not going to put the tuple in the memo, but it's still important we\u001b[39;00m\n\u001b[1;32m    213\u001b[0m     \u001b[38;5;66;03m# check for it, in case the tuple contains recursive mutable structures.\u001b[39;00m\n\u001b[1;32m    214\u001b[0m     \u001b[38;5;28;01mtry\u001b[39;00m:\n",
      "File \u001b[0;32m~/anaconda3/lib/python3.11/copy.py:211\u001b[0m, in \u001b[0;36m<listcomp>\u001b[0;34m(.0)\u001b[0m\n\u001b[1;32m    210\u001b[0m \u001b[38;5;28;01mdef\u001b[39;00m \u001b[38;5;21m_deepcopy_tuple\u001b[39m(x, memo, deepcopy\u001b[38;5;241m=\u001b[39mdeepcopy):\n\u001b[0;32m--> 211\u001b[0m     y \u001b[38;5;241m=\u001b[39m [deepcopy(a, memo) \u001b[38;5;28;01mfor\u001b[39;00m a \u001b[38;5;129;01min\u001b[39;00m x]\n\u001b[1;32m    212\u001b[0m     \u001b[38;5;66;03m# We're not going to put the tuple in the memo, but it's still important we\u001b[39;00m\n\u001b[1;32m    213\u001b[0m     \u001b[38;5;66;03m# check for it, in case the tuple contains recursive mutable structures.\u001b[39;00m\n\u001b[1;32m    214\u001b[0m     \u001b[38;5;28;01mtry\u001b[39;00m:\n",
      "File \u001b[0;32m~/anaconda3/lib/python3.11/copy.py:153\u001b[0m, in \u001b[0;36mdeepcopy\u001b[0;34m(x, memo, _nil)\u001b[0m\n\u001b[1;32m    151\u001b[0m copier \u001b[38;5;241m=\u001b[39m \u001b[38;5;28mgetattr\u001b[39m(x, \u001b[38;5;124m\"\u001b[39m\u001b[38;5;124m__deepcopy__\u001b[39m\u001b[38;5;124m\"\u001b[39m, \u001b[38;5;28;01mNone\u001b[39;00m)\n\u001b[1;32m    152\u001b[0m \u001b[38;5;28;01mif\u001b[39;00m copier \u001b[38;5;129;01mis\u001b[39;00m \u001b[38;5;129;01mnot\u001b[39;00m \u001b[38;5;28;01mNone\u001b[39;00m:\n\u001b[0;32m--> 153\u001b[0m     y \u001b[38;5;241m=\u001b[39m copier(memo)\n\u001b[1;32m    154\u001b[0m \u001b[38;5;28;01melse\u001b[39;00m:\n\u001b[1;32m    155\u001b[0m     reductor \u001b[38;5;241m=\u001b[39m dispatch_table\u001b[38;5;241m.\u001b[39mget(\u001b[38;5;28mcls\u001b[39m)\n",
      "\u001b[0;31mKeyboardInterrupt\u001b[0m: "
     ]
    }
   ],
   "source": [
    "histories = []\n",
    "\n",
    "for i in tqdm(range(20)):\n",
    "    population = pop.Population(size=1000, initial_board=test_board)\n",
    "    population.evolve(\n",
    "        gens = 50,\n",
    "        xo_prob = 0.9,\n",
    "        mut_prob = 0.5,\n",
    "        select_type='roulette',\n",
    "        xo='multi_point',\n",
    "        mutation='swap-smart',\n",
    "        elite_size=100,\n",
    "        swap_number=1,\n",
    "        diversify='fitness-sharing',\n",
    "        verbose= True\n",
    "    )\n",
    "    histories.append(population.history)\n",
    "# population.plot_history(ma_smooth_ratio=0.05, genodiv=False, phenodiv=True)"
   ]
  },
  {
   "cell_type": "code",
   "execution_count": 27,
   "metadata": {},
   "outputs": [],
   "source": [
    "population = pop.Population(size=1000, initial_board=test_board)\n",
    "\n",
    "# population.evolve(\n",
    "#         gens = 50,\n",
    "#         xo_prob = 0.9,\n",
    "#         mut_prob = 0.0,\n",
    "#         select_type='roulette',\n",
    "#         xo='cycle',\n",
    "#         mutation='swap-smart',\n",
    "#         elite_size=10,\n",
    "#         swap_number=1,\n",
    "#         diversify='fitness-sharing',\n",
    "#         verbose= True\n",
    "#     )"
   ]
  },
  {
   "cell_type": "code",
   "execution_count": 28,
   "metadata": {},
   "outputs": [
    {
     "data": {
      "text/plain": [
       "array([0, 2, 2, 3, 2, 2, 3, 2, 2, 1])"
      ]
     },
     "execution_count": 28,
     "metadata": {},
     "output_type": "execute_result"
    }
   ],
   "source": [
    "np.bincount(population.individuals[0].swappable)"
   ]
  },
  {
   "cell_type": "code",
   "execution_count": 29,
   "metadata": {},
   "outputs": [
    {
     "data": {
      "text/plain": [
       "array([0, 2, 1, 2, 2, 3, 3, 2, 2, 2])"
      ]
     },
     "execution_count": 29,
     "metadata": {},
     "output_type": "execute_result"
    }
   ],
   "source": [
    "np.bincount(population.individuals[1].swappable)"
   ]
  },
  {
   "cell_type": "code",
   "execution_count": 25,
   "metadata": {},
   "outputs": [
    {
     "data": {
      "text/plain": [
       "array([0, 2, 2, 1, 2, 3, 3, 2, 2, 2])"
      ]
     },
     "execution_count": 25,
     "metadata": {},
     "output_type": "execute_result"
    }
   ],
   "source": [
    "np.bincount(population.individuals[2].swappable)"
   ]
  },
  {
   "cell_type": "code",
   "execution_count": 14,
   "metadata": {},
   "outputs": [
    {
     "data": {
      "image/png": "[encoded data removed]",
      "text/plain": [
       "<Figure size 640x480 with 2 Axes>"
      ]
     },
     "metadata": {},
     "output_type": "display_data"
    }
   ],
   "source": [
    "population.plot_history(genodiv=True)"
   ]
  },
  {
   "cell_type": "code",
   "execution_count": 4,
   "metadata": {},
   "outputs": [
    {
     "name": "stdout",
     "output_type": "stream",
     "text": [
      "[3, 5, 15, 16, 18]\n",
      "[1, 2, 3, 4, 12]\n",
      "[6, 7, 8, 11, 14, 15, 16, 17, 18]\n",
      "[2, 3, 4, 6, 7, 8, 9, 10, 11, 14, 15, 16, 17, 18]\n",
      "[4, 6, 9, 12, 14, 18]\n",
      "[1, 2, 3, 4, 6, 7, 8, 9, 10, 11, 12, 13, 14, 16, 17]\n",
      "[2, 3, 8, 11, 12, 13, 15, 18]\n",
      "[6, 12, 16]\n",
      "[3, 6, 7, 8, 9, 13, 14, 15, 16, 17]\n",
      "[1, 2, 6, 8, 10, 12, 14, 15, 16]\n",
      "[5, 9, 14, 16]\n",
      "[4, 9, 17, 18]\n",
      "[1, 3, 4, 5, 6, 7, 8, 9, 10, 11, 13, 14, 15, 17]\n",
      "[1, 6, 11, 13]\n",
      "[1, 2, 4, 5, 9, 10, 12, 13, 14, 16, 17]\n",
      "[3, 5, 6, 7, 8, 10, 13, 14, 15, 16, 17, 18]\n",
      "[3, 6, 14, 15]\n",
      "[2, 9, 11, 12, 15, 16]\n",
      "[8, 10, 11, 12, 13, 15, 17]\n",
      "[1, 2, 3, 4, 7, 8, 9, 10, 11, 12, 13, 14, 16]\n",
      "[3, 5, 7, 12, 13, 18]\n",
      "[1, 3, 4, 5, 6, 11, 15, 17]\n",
      "[1, 2, 3, 5, 6, 8, 18]\n",
      "[2, 3, 4, 5, 10, 11, 15, 17, 18]\n",
      "[1, 2, 3, 11, 12, 13, 14, 16]\n",
      "[4, 5, 8, 9, 10, 12, 15, 17, 18]\n",
      "[2, 3, 5, 6, 9, 11, 14]\n",
      "[7, 12]\n",
      "[1, 3, 5, 6, 9, 10, 12, 13, 15, 18]\n",
      "[1, 4, 6, 18]\n",
      "[1, 2, 3, 4, 5, 7, 8, 9, 10, 11, 12, 13, 14, 15, 16, 17, 18]\n",
      "[6, 8, 12, 13, 16, 17, 18]\n",
      "[1, 2, 3, 4, 6, 7, 8, 9, 13, 15, 16, 18]\n",
      "[1, 2, 3, 5, 6, 8, 9, 10, 11, 13, 14, 15, 16, 17, 18]\n",
      "[4, 13, 14, 15, 16, 17, 18]\n",
      "[5, 11, 12, 14, 18]\n",
      "[1, 3, 5, 6, 7, 9, 10, 11, 12, 13, 14, 15, 16, 17, 18]\n",
      "[1, 3, 4, 5, 6, 7, 9, 11, 14, 16, 17, 18]\n",
      "[5, 13, 14, 15, 18]\n",
      "[1, 6, 8, 9, 10, 11, 12, 17]\n",
      "[1, 7, 8, 9, 10, 11, 12, 13, 16, 18]\n",
      "[2, 4, 5, 10, 11, 12, 14, 15, 16, 17, 18]\n",
      "[1, 2, 3, 5, 6, 7, 10, 11, 13, 15, 17, 18]\n",
      "[2, 5, 6, 8, 9, 10, 11, 12, 14, 15, 16, 17]\n",
      "[2, 3, 4, 7, 10, 12, 15, 16, 17]\n",
      "[5, 8, 9, 11, 13, 14, 16, 17]\n",
      "[1, 7, 8, 9, 10, 12, 14, 15, 16, 17]\n",
      "[1, 7, 14, 15, 18]\n",
      "[1, 3, 4, 6, 7, 9, 10, 11, 13, 14, 15, 16, 18]\n",
      "[1, 7, 9, 12, 14]\n",
      "[2, 4, 6, 9, 10, 18]\n",
      "[1, 12, 14, 18]\n",
      "[1, 2, 3, 4, 5, 8, 9, 10, 11, 13, 16, 18]\n",
      "[1, 2, 4, 6, 9, 10, 11, 13, 14, 15, 16, 17, 18]\n",
      "[3, 4, 6, 8, 14, 15]\n",
      "[1, 2, 3, 5, 6, 7, 8, 9, 10, 12, 13, 14, 15, 16, 17, 18]\n",
      "[1, 4, 10, 11, 12, 14, 15, 17]\n",
      "[1, 6, 12, 13, 18]\n",
      "[1, 3, 5, 6, 8, 9, 10, 13, 14, 15, 16, 17, 18]\n",
      "[4, 10, 11, 12, 13]\n",
      "[1, 2, 4, 5, 7, 8, 9, 10, 11, 13, 14, 15, 16, 18]\n",
      "[1, 5, 10, 11, 12, 13, 14]\n",
      "[4, 12, 13, 15, 18]\n",
      "[4, 8, 18]\n",
      "[3, 4, 9, 10, 11, 12, 13, 15, 16, 17, 18]\n",
      "[1, 4, 11, 12, 13, 14, 18]\n",
      "[5, 6, 7, 12, 13, 15, 18]\n",
      "[3, 4, 6, 8, 9, 11, 12, 14, 15]\n",
      "[9, 12, 16, 18]\n",
      "[3, 9, 11, 13, 14, 18]\n",
      "[1, 2, 3, 5, 6, 9, 13, 14, 16, 17, 18]\n",
      "[3, 5, 8, 10, 13, 14, 15, 17]\n",
      "[1, 2, 3, 4, 5, 8, 9, 11, 12, 13, 14, 16, 17]\n",
      "[1, 2, 3, 4, 6, 7, 8, 9, 10, 11, 12, 13, 14, 15, 16, 17, 18]\n",
      "[1, 2, 3, 4, 5, 6, 7, 9, 10, 11, 12, 13, 14, 15, 16, 18]\n",
      "[1, 3, 5, 6, 7, 9, 10, 12, 14, 15, 16, 17, 18]\n",
      "[1, 2, 4, 12, 15, 17]\n",
      "[1, 2, 3, 6, 10, 12, 13, 15, 17, 18]\n",
      "[1, 5, 6, 8, 9, 16, 18]\n",
      "[2, 3, 4, 5, 6, 9, 11, 13, 14, 15, 17, 18]\n",
      "[2, 6, 7, 9, 11, 12, 16]\n",
      "[4, 6, 8, 9, 13, 14, 15, 17]\n",
      "[3, 15]\n",
      "[4, 6, 7, 9, 12, 13, 18]\n",
      "[12]\n",
      "[14, 17, 18]\n",
      "[11, 12, 18]\n",
      "[2, 3, 4, 7, 8, 10, 11, 12, 13, 18]\n",
      "[2, 4, 10, 11, 12, 16]\n",
      "[2, 3, 4, 8, 10, 14, 15, 17]\n",
      "[1, 2, 3, 4, 6, 7, 9, 10, 11, 12, 14, 15, 16, 17, 18]\n",
      "[2, 10, 14]\n",
      "[4, 6, 7, 9, 16, 17]\n",
      "[2, 3, 4, 6, 9, 10, 11, 12, 14, 15, 17, 18]\n",
      "[2, 3, 4, 5, 7, 9, 14]\n",
      "[2, 5, 9, 10, 12, 13, 14, 17]\n",
      "[1, 2, 4, 7, 10, 12]\n",
      "[5, 10, 11, 14, 15, 16, 17, 18]\n",
      "[1, 3, 4, 5, 6, 7, 8, 12, 15, 18]\n",
      "[2, 3, 4, 5, 6, 8, 10, 12]\n",
      "[1, 6, 7, 9, 14, 15, 17]\n",
      "[2, 3, 4, 6, 8, 9, 10, 12, 13, 14, 15, 16, 17, 18]\n",
      "[2, 3, 4, 5, 10, 13, 14, 16]\n",
      "[2, 12, 15, 16]\n",
      "[2, 3, 5, 6, 7, 8, 10, 13, 15, 16, 17, 18]\n",
      "[1, 6, 7, 8, 9, 10, 12, 13, 14, 17, 18]\n",
      "[12, 13]\n",
      "[2, 6, 7, 9, 10, 11, 12, 15, 16, 17, 18]\n",
      "[2, 4, 7, 10, 12, 13, 16, 18]\n",
      "[1, 7, 8, 14, 17]\n",
      "[1, 2, 3, 5, 7, 8, 9, 10, 11, 13, 14, 16, 18]\n",
      "[1, 3, 9, 17]\n",
      "[1, 2, 3, 5, 6, 7, 8, 9, 10, 11, 12, 14, 15, 16, 17, 18]\n",
      "[1, 2, 3, 4, 5, 6, 7, 8, 9, 10, 11, 12, 13, 14, 15, 17, 18]\n",
      "[1, 3, 4, 7, 9, 11, 12, 13, 16, 17, 18]\n",
      "[2, 3, 4, 5, 6, 7, 8, 9, 10, 12, 13, 14, 15, 16, 18]\n",
      "[2, 3, 10, 12, 13, 14, 17, 18]\n",
      "[3, 4, 7, 12, 13, 18]\n",
      "[2, 5, 6, 11, 12, 15, 18]\n",
      "[2, 9, 12, 13, 18]\n",
      "[1, 2, 4, 8, 9, 10, 12, 13, 18]\n",
      "[2, 3, 4, 5, 6, 7, 8, 9, 10, 11, 12, 13, 14, 15, 16, 17, 18]\n",
      "[1, 2, 3, 6, 7, 15, 16, 17, 18]\n",
      "[6]\n",
      "[2, 3, 5, 6, 7, 8, 9, 13, 14]\n",
      "[7, 10, 12, 14]\n",
      "[1, 2, 3, 5, 6, 7, 8, 9, 10, 14, 16, 17, 18]\n",
      "[3, 4, 5, 6, 7, 10, 11, 12, 13, 14, 16, 18]\n",
      "[2, 4, 5, 6, 7, 8, 10, 14, 15, 16, 17, 18]\n",
      "[1, 2, 3, 4, 5, 6, 7, 8, 9, 10, 11, 12, 13, 14, 15, 17, 18]\n",
      "[2, 5, 12, 13]\n",
      "[1, 2, 3, 5, 6, 7, 9, 10, 13, 15, 16, 17]\n",
      "[14, 15, 17]\n",
      "[1, 2, 3, 4, 5, 7, 8, 9, 12, 13, 14, 16, 18]\n",
      "[2, 6, 7, 9, 14, 16, 17]\n",
      "[2, 3, 6, 14, 16, 18]\n",
      "[1, 4, 5, 8, 10, 11, 12, 14, 15, 16]\n",
      "[1, 3, 6, 7, 11]\n",
      "[1, 2, 3, 5, 6, 7, 8, 9, 10, 12, 14, 15, 18]\n",
      "[2, 5, 8, 13, 15, 16, 18]\n",
      "[2, 4, 14, 16]\n",
      "[6, 10, 12, 13, 16]\n",
      "[5, 7, 11, 16]\n",
      "[2, 3, 4, 7, 11, 12, 13, 14, 15, 16, 18]\n",
      "[1, 2, 3, 4, 5, 6, 7, 8, 9, 10, 11, 12, 13, 14, 15, 16, 17, 18]\n",
      "[3, 4, 6, 8, 12]\n",
      "[3, 5, 6, 7, 8, 10, 11, 12, 13, 14, 15, 16, 17, 18]\n",
      "[2, 3, 4, 9, 11, 13, 15, 18]\n",
      "[1, 2, 3, 4, 5, 6, 7, 8, 10, 11, 12, 13, 14, 16, 17, 18]\n",
      "[1, 2, 3, 4, 5, 6, 7, 8, 9, 10, 11, 12, 13, 14, 15, 16, 17, 18]\n",
      "[1, 2, 3, 4, 5, 6, 8, 10, 11, 12, 13, 14, 15, 16, 18]\n",
      "[9, 12]\n",
      "[7, 12]\n",
      "[1, 2, 3, 5, 6, 7, 11, 12, 13, 16, 17, 18]\n",
      "[8, 16, 18]\n",
      "[1, 2, 4, 5, 7, 11, 12, 13, 14, 15, 16, 17, 18]\n",
      "[2, 6, 7, 8, 10, 12, 13, 15, 16, 18]\n",
      "[3, 10, 11, 12, 15, 17, 18]\n",
      "[6, 10, 12, 15, 18]\n",
      "[1, 2, 5, 6, 7, 10, 11, 12, 13, 14, 15, 17, 18]\n",
      "[1, 3, 4, 8, 18]\n",
      "[2, 9, 11, 14, 15, 18]\n",
      "[3, 9, 10, 12, 13, 16, 18]\n",
      "[3, 4, 7, 9, 16, 18]\n",
      "[1, 2, 3, 4, 5, 6, 7, 8, 10, 11, 12, 13, 14, 15, 16, 17, 18]\n",
      "[1, 3, 5, 7, 10, 11, 12, 15, 16, 17, 18]\n",
      "[3, 10, 12, 15, 18]\n",
      "[2, 3, 4, 6, 8, 10, 11, 12, 13, 14, 17, 18]\n",
      "[5, 8, 11]\n",
      "[1, 2, 3, 4, 5, 6, 7, 8, 9, 15, 16, 17]\n",
      "[2, 4, 6, 8, 9, 10, 13, 14, 16, 18]\n",
      "[2, 6, 7, 9, 10, 16]\n",
      "[3, 5, 6, 8, 9, 10, 11, 12, 13, 15, 18]\n",
      "[1, 3, 5, 6, 7, 8, 9, 15, 16, 18]\n",
      "[2, 3, 8, 10, 11, 12, 17, 18]\n",
      "[5, 12, 13, 14, 15, 16]\n",
      "[1, 3, 7, 8, 10, 13, 14, 15, 17, 18]\n",
      "[4, 9, 11, 12, 17]\n",
      "[2, 3, 7, 12, 14, 15, 16]\n",
      "[3, 8, 11, 12, 13, 14, 16, 18]\n",
      "[4, 7, 11, 12, 13, 14, 15]\n",
      "[1, 2, 3, 5, 6, 7, 11, 16, 18]\n",
      "[2, 3, 4, 6, 9, 12, 14, 18]\n",
      "[3, 11, 14]\n",
      "[4, 12, 13]\n",
      "[4, 7, 10, 12, 13, 16, 17, 18]\n",
      "[1, 3, 8, 15, 17]\n",
      "[3, 17, 18]\n",
      "[6, 11, 12, 18]\n",
      "[2, 3, 4, 7, 8, 9, 10, 12, 15, 16, 17, 18]\n",
      "[1, 2, 9, 11, 12, 14, 18]\n",
      "[1, 7, 9, 10, 13, 15, 16, 17]\n",
      "[4, 6, 8, 11, 12, 13, 14, 18]\n",
      "[3, 7, 16]\n",
      "[1, 2, 3, 5, 8, 9, 10, 11, 15, 16, 18]\n",
      "[3, 7, 8, 9, 13]\n",
      "[1, 3, 5, 6, 10, 14, 18]\n",
      "[3, 5, 7, 9, 10, 12, 13, 15, 16, 17, 18]\n",
      "[1, 3, 4, 7, 10, 11, 13, 14, 17, 18]\n",
      "[1, 2, 5, 7, 9, 13, 17]\n",
      "[2, 4, 12, 18]\n",
      "[2, 3, 7, 12]\n",
      "[2, 3, 4, 5, 6, 7, 10, 11, 12, 13, 14, 15, 16]\n",
      "[2, 3, 6, 7, 9]\n",
      "[1, 2, 3, 4, 5, 6, 7, 8, 9, 14, 15, 16, 17]\n",
      "[]\n",
      "[7, 8, 16, 17]\n",
      "[2, 4, 5, 10, 12, 13, 14, 15, 16, 17, 18]\n",
      "[1, 2, 3, 4, 6, 7, 10, 12, 13, 14, 15, 16, 17, 18]\n",
      "[4, 6, 7, 8, 16, 17]\n",
      "[1, 3, 4, 5, 8, 9, 13, 16, 17]\n",
      "[4, 10, 13]\n",
      "[1, 2, 4, 5, 6, 7, 11, 13, 14, 15, 16, 17, 18]\n",
      "[1, 2, 3, 4, 5, 6, 7, 8, 9, 10, 11, 12, 13, 14, 15, 16, 17, 18]\n",
      "[2, 3, 4, 7, 8, 9, 11, 14, 15, 16]\n",
      "[3, 5, 6, 9, 10, 13, 14, 15, 18]\n",
      "[1, 2, 7, 11, 12, 14, 16, 17, 18]\n",
      "[1, 3, 4, 5, 6, 7, 8, 9, 10, 12, 13, 15, 16, 17, 18]\n",
      "[2, 4, 6, 8, 12, 16]\n",
      "[6, 7, 8, 9, 11, 15, 16]\n",
      "[5, 6, 7, 8, 9, 12, 14, 18]\n",
      "[6, 12]\n",
      "[8, 9, 12]\n",
      "[8, 17, 18]\n",
      "[3, 5, 7, 10, 15, 18]\n",
      "[2, 5, 8, 10, 11, 12, 18]\n",
      "[1, 3, 9, 14, 18]\n",
      "[1, 3, 5, 6, 8, 10, 13, 15]\n",
      "[3, 11, 12, 15, 16]\n",
      "[2, 4, 9, 11, 16, 18]\n",
      "[3, 6, 13, 15]\n",
      "[1, 2, 3, 5, 6, 7, 8, 11, 12, 15, 16, 18]\n",
      "[2, 3, 4, 5, 6, 8, 9, 12, 13, 14, 17, 18]\n",
      "[14, 17, 18]\n",
      "[1, 2, 3, 4, 9, 11, 12, 13, 14, 15, 16, 17, 18]\n",
      "[1, 2, 3, 4, 6, 7, 9, 12, 13, 14, 18]\n",
      "[6, 9, 10, 11, 12, 13, 15, 16]\n",
      "[7, 8, 13, 15, 18]\n",
      "[2, 3, 5, 10, 12, 14, 16]\n",
      "[1, 2, 5, 6, 9, 11, 12, 13, 14, 17, 18]\n",
      "[2, 3, 5, 8, 14]\n",
      "[1, 2, 3, 5, 8, 13, 14, 17]\n",
      "[13]\n",
      "[1, 6, 7, 14]\n",
      "[2, 4, 5, 6, 13, 17, 18]\n",
      "[1, 2, 3, 4, 5, 8, 9, 10, 11, 12, 13, 14, 15, 16, 18]\n",
      "[2, 3, 5, 8, 9, 10, 11, 12, 13, 14, 15, 17, 18]\n",
      "[1, 3, 5, 6, 7, 8, 10, 12, 13, 16, 17]\n",
      "[1, 4, 5, 6, 8, 11, 12, 13, 14, 15, 16, 17, 18]\n",
      "[1, 3, 7, 9, 11, 13, 14, 16, 17]\n",
      "[5, 7, 9, 11, 14, 16, 17, 18]\n",
      "[6, 7, 9, 15, 17]\n",
      "[3, 4, 7, 8, 9, 11, 12, 14, 15, 16, 17, 18]\n",
      "[1, 2, 3, 4, 6, 7, 10, 11, 12, 14, 15, 16, 17]\n",
      "[1, 2, 3, 4, 5, 7, 9, 10, 11, 12, 13, 14, 15, 16]\n",
      "[5, 17]\n",
      "[3, 7, 8, 11, 12, 13, 15, 16, 18]\n",
      "[9]\n",
      "[1, 4, 5, 7, 15, 16, 18]\n",
      "[1, 4, 5, 7, 8, 9, 10, 12, 14, 16, 17]\n",
      "[1, 8, 9, 12, 16, 18]\n",
      "[2, 4, 10, 11, 16, 17, 18]\n",
      "[1, 2, 4, 5, 6, 8, 9, 10, 13, 14, 15, 16, 17, 18]\n",
      "[2, 3, 4, 6, 7, 10, 11, 13, 14, 16, 18]\n",
      "[2, 3, 4, 7, 8, 9, 11, 12, 13, 14, 18]\n",
      "[1, 2, 3, 5, 6, 7, 10, 12, 14]\n",
      "[3, 4, 7, 12, 13, 14, 17]\n",
      "[1, 2, 3, 4, 5, 6, 7, 8, 9, 10, 11, 12, 13, 14, 15, 16, 17, 18]\n",
      "[3, 7, 8, 9, 11, 12, 13, 15, 18]\n",
      "[3, 6, 8, 9, 12, 13, 18]\n",
      "[2, 3, 5, 6, 9, 11, 12, 15, 16, 17, 18]\n",
      "[1, 2, 3, 4, 5, 7, 9, 10, 11, 12, 13, 14, 15, 16, 17, 18]\n",
      "[8, 13]\n",
      "[1, 2, 3, 4, 11, 14, 17]\n",
      "[1, 4, 6, 7, 11, 15, 16, 17]\n",
      "[12]\n",
      "[1, 2, 5, 12, 16]\n",
      "[4, 6, 8, 10, 16, 18]\n",
      "[2, 3, 4, 5, 6, 7, 9, 10, 13, 15, 16, 17]\n",
      "[6, 11, 15]\n",
      "[2, 3, 10, 11, 12, 15]\n",
      "[1, 2, 4, 6, 7, 8, 10, 11, 12, 13, 14, 17, 18]\n",
      "[1, 2, 6, 7, 9, 10, 12, 14, 15, 16, 18]\n",
      "[2, 4, 7, 10, 11, 18]\n",
      "[2, 3, 5, 7, 8, 9, 11, 12, 15, 18]\n",
      "[5, 8, 18]\n",
      "[3, 8, 10, 12, 14, 15, 18]\n",
      "[1, 2, 3, 4, 5, 6, 7, 11, 12, 14, 15, 17, 18]\n",
      "[5, 10, 12, 15, 17]\n",
      "[8, 18]\n",
      "[2, 3, 4, 7, 9, 11, 14, 16, 17, 18]\n",
      "[4, 18]\n",
      "[1, 2, 3, 4, 5, 6, 7, 8, 9, 11, 12, 13, 14, 15, 16, 17, 18]\n",
      "[7, 9, 10, 13, 14, 15, 16, 17, 18]\n",
      "[1, 2, 3, 4, 5, 6, 7, 8, 9, 10, 12, 13, 14, 15, 16, 17]\n",
      "[2, 3, 4, 9, 10, 11, 14, 17, 18]\n",
      "[2, 3, 8, 9, 10, 11, 12, 16]\n",
      "[1, 5, 7, 8, 12, 14, 16, 17, 18]\n",
      "[4, 5, 8, 9, 13, 15, 17, 18]\n",
      "[1, 2, 3, 5, 6, 9, 10, 11, 12, 13, 14, 15, 16, 17, 18]\n",
      "[3, 5, 8, 9, 11, 12, 13, 17, 18]\n",
      "[2, 4, 5, 8, 9, 11, 13, 16, 18]\n",
      "[1, 2, 4, 5, 7, 8, 9, 10, 11, 12, 13, 15, 16]\n",
      "[12, 16]\n",
      "[1, 2, 7, 8, 10, 11, 12, 13, 14]\n",
      "[1, 2, 3, 5, 6, 7, 8, 9, 11, 12, 13, 14, 15, 16, 17, 18]\n",
      "[1, 2, 4, 5, 6, 7, 8, 9, 11, 12, 13, 14, 16, 17, 18]\n",
      "[1, 2, 3, 4, 5, 7, 8, 9, 10, 11, 12, 13, 15, 17, 18]\n",
      "[10, 12]\n",
      "[1, 2, 4, 5, 7, 8, 11, 12, 14, 16, 18]\n",
      "[1, 2, 3, 4, 7, 9, 10, 13, 16, 18]\n",
      "[1, 2, 11, 13, 15]\n",
      "[2, 3, 8, 10, 11, 12, 17]\n",
      "[1, 3, 9, 10, 13, 18]\n",
      "[1, 2, 3, 4, 5, 6, 7, 8, 11, 12, 14, 15, 16, 17, 18]\n",
      "[3, 5, 6, 7, 8, 9, 10, 11, 12, 13, 15, 17, 18]\n",
      "[2, 5, 11, 13, 18]\n",
      "[11, 13, 17]\n",
      "[1, 3, 7, 10, 13, 14, 16]\n",
      "[1, 2, 3, 5, 7, 8, 9, 12, 13, 14, 15, 17, 18]\n",
      "[9, 10, 12, 14]\n",
      "[1, 2, 4, 8, 11, 16]\n",
      "[14, 16]\n",
      "[1, 2, 3, 5, 6, 7, 10, 11, 12, 16, 17, 18]\n",
      "[2, 10, 12, 14]\n",
      "[3, 4, 5, 11]\n",
      "[2, 3, 5, 9, 12, 13, 15]\n",
      "[1, 2, 3, 4, 5, 6, 7, 8, 9, 12, 14, 15, 16, 17, 18]\n",
      "[1, 5, 6, 11, 12, 13, 14, 18]\n",
      "[1, 2, 5, 8, 9, 11, 14, 15, 16, 17, 18]\n",
      "[10, 11]\n",
      "[2, 5, 9, 10, 11, 12, 14, 15, 16, 17, 18]\n",
      "[4, 5, 16]\n",
      "[1, 4, 5, 6, 7, 9, 11, 12, 15, 16, 18]\n",
      "[1, 2, 5, 7, 13, 16, 17, 18]\n",
      "[1, 2, 3, 5, 6, 8, 10, 11, 12, 13, 14, 15, 16, 17, 18]\n",
      "[2, 6, 13, 14, 18]\n",
      "[4, 18]\n",
      "[2, 3, 4, 5, 8, 10, 17, 18]\n",
      "[2, 3, 9, 14, 15, 17]\n",
      "[2, 3, 4, 8, 10, 11, 12, 13, 15, 16, 17, 18]\n",
      "[3, 5, 9, 10, 11, 16, 18]\n",
      "[1, 7, 10, 11, 14, 15, 16, 18]\n",
      "[1, 3, 4, 6, 7, 9, 10, 11, 12, 13, 14, 17, 18]\n",
      "[2, 3, 5, 7, 8, 9, 11, 13, 16, 17, 18]\n",
      "[2, 3, 4, 5, 6, 10, 11, 12, 14, 16, 17, 18]\n",
      "[1, 5, 6, 7, 12, 14, 15, 18]\n",
      "[1, 5, 18]\n",
      "[1, 3, 5, 8, 9, 10, 11, 12, 14, 15, 16, 17, 18]\n",
      "[2, 3, 4, 5, 6, 8, 9, 10, 18]\n",
      "[4, 5, 6, 8, 12, 16, 17]\n",
      "[1, 3, 5, 6, 7, 8, 11, 14, 15]\n",
      "[2, 3, 4, 5, 6, 7, 8, 9, 10, 11, 13, 17, 18]\n",
      "[1, 2, 3, 4, 6, 7, 8, 9, 10, 11, 12, 13, 14, 15, 16, 17]\n",
      "[1, 2, 3, 4, 6, 7, 8, 10, 11, 12, 13, 14, 15, 17, 18]\n",
      "[1, 2, 4, 5, 6, 8, 9, 10, 11, 12, 13, 14, 15, 18]\n",
      "[1, 4, 7, 8, 11, 12, 13, 17]\n",
      "[5, 12, 13, 15]\n",
      "[1, 5, 6, 7, 8, 10, 11, 13, 15, 18]\n",
      "[1, 2, 3, 5, 7, 12, 13, 14, 15, 16, 18]\n",
      "[1, 2, 5, 7, 9, 10, 11, 12, 13, 14, 15, 17, 18]\n",
      "[2, 4, 7, 8, 10, 18]\n",
      "[2, 3, 4, 7, 8, 10, 12, 15, 17]\n",
      "[1, 4, 7, 9, 12, 13, 14, 18]\n",
      "[8, 12]\n",
      "[7, 9, 10, 13, 14, 17]\n",
      "[18]\n",
      "[1, 2, 8, 9, 13, 16, 17]\n",
      "[2, 5, 6, 8, 10, 11, 12, 18]\n",
      "[2, 3, 4, 5, 6, 8, 9, 10, 11, 12, 14, 16, 17, 18]\n",
      "[3, 4, 6, 9, 13, 16]\n",
      "[1, 2, 3, 5, 7, 8, 9, 11, 12, 16, 18]\n",
      "[1, 6, 7, 10, 12, 13, 18]\n",
      "[3, 5, 7, 8, 11, 12, 13, 15, 16]\n",
      "[2, 3, 7, 9, 11, 12, 13, 15, 17, 18]\n",
      "[2, 7, 13, 14, 15, 16, 18]\n",
      "[4, 5, 15, 18]\n",
      "[2, 4, 5, 6, 7, 8, 10, 16, 18]\n",
      "[2, 3, 5, 6, 7, 10, 11, 12, 17, 18]\n",
      "[1, 2, 4, 5, 9, 12, 14, 16]\n",
      "[2, 13, 18]\n",
      "[4, 6, 10, 11, 14, 15, 16, 17]\n",
      "[9, 15]\n",
      "[2, 3, 7, 9, 12, 17]\n",
      "[1, 2, 4, 8, 10, 11, 17, 18]\n",
      "[1, 4, 5, 9, 10, 12, 15, 16, 17, 18]\n",
      "[1, 2, 5, 6, 10, 11, 12, 13]\n",
      "[2, 4, 8, 12, 14, 15, 17]\n",
      "[4, 7, 9, 10, 13, 14, 16, 18]\n",
      "[10, 15, 17]\n",
      "[1, 10, 11, 12, 15]\n",
      "[4, 5, 7, 8, 10, 11, 13, 14, 16, 17, 18]\n",
      "[1, 2, 6, 8, 9, 10, 12, 14, 15, 16]\n",
      "[4, 18]\n",
      "[1, 4, 6, 8, 10, 16, 17, 18]\n",
      "[4, 8, 11, 17]\n",
      "[3, 5, 9]\n",
      "[1, 3, 8, 9, 15]\n",
      "[1, 9, 11, 12, 15, 16]\n",
      "[1, 2, 3, 4, 5, 6, 7, 8, 9, 10, 11, 12, 13, 14, 15, 16, 18]\n",
      "[1, 2, 4, 8, 10, 11, 13, 16, 17, 18]\n",
      "[1, 2, 5, 6, 7, 8, 9, 11, 12, 13, 14, 15, 17, 18]\n",
      "[1, 3, 7, 10, 13]\n",
      "[3, 4, 5, 8, 9, 10, 14, 15, 16, 17, 18]\n",
      "[1, 4, 18]\n",
      "[12]\n",
      "[1, 3, 5, 7, 8, 9, 10, 11, 12, 13, 14, 16, 18]\n",
      "[1, 2, 5, 8, 9, 10, 11, 12, 14, 15, 16, 18]\n",
      "[3, 9, 11, 14, 18]\n",
      "[1, 3, 4, 6, 9, 10, 11, 12, 13, 16, 17, 18]\n",
      "[1, 3, 4, 5, 7, 11, 12, 15, 16, 17, 18]\n",
      "[1, 2, 4, 5, 6, 7, 8, 9, 10, 11, 12, 14, 15, 17, 18]\n",
      "[1, 3, 4, 5, 6, 7, 8, 10, 12, 13, 14, 15, 16, 17, 18]\n",
      "[1, 2, 3, 5, 6, 7, 8, 9, 11, 15, 16, 17]\n",
      "[2, 4, 7, 9, 14, 16]\n",
      "[3, 4, 7, 8, 11, 12, 13, 15, 17, 18]\n",
      "[12, 17]\n",
      "[2, 11, 12, 15]\n",
      "[15]\n",
      "[1, 2, 4, 7, 8, 12, 13, 17, 18]\n",
      "[3, 6, 12, 15, 18]\n",
      "[5, 9, 10, 11, 12, 15, 18]\n",
      "[1, 2, 3, 7, 10, 15, 16, 17, 18]\n",
      "[1, 2, 3, 4, 5, 6, 8, 9, 11, 12, 13, 16, 17, 18]\n",
      "[5, 8, 12, 16]\n",
      "[1, 2, 5, 6, 8, 18]\n",
      "[1, 2, 3, 4, 5, 7, 8, 9, 10, 11, 12, 13, 14, 17, 18]\n",
      "[1, 2, 3, 5, 6, 7, 8, 10, 12, 13, 14, 18]\n",
      "[1, 2, 3, 4, 5, 10, 11, 12, 17, 18]\n",
      "[3, 12, 16, 18]\n",
      "[1, 2, 4, 6, 9, 10, 11, 13, 15, 16, 17]\n",
      "[2, 5, 10, 11, 12, 13, 14, 16, 17, 18]\n",
      "[3, 4, 16]\n",
      "[2, 3, 5, 6, 7, 8, 11, 12, 13, 15, 17, 18]\n",
      "[1, 2, 3, 4, 5, 6, 7, 8, 9, 10, 11, 15, 16, 17, 18]\n",
      "[2, 3, 4, 11, 12, 13, 14, 18]\n",
      "[18]\n",
      "[2, 4, 5, 6, 9, 10, 12, 13, 15, 16, 17]\n",
      "[1, 2, 3, 4, 5, 6, 7, 8, 10, 11, 12, 13, 14, 15, 16, 17, 18]\n",
      "[18]\n",
      "[5, 12, 18]\n",
      "[1, 2, 6, 7, 10, 11, 12, 13, 14, 15]\n",
      "[4, 5, 11, 14, 15]\n",
      "[6, 10, 12, 14, 17, 18]\n",
      "[1, 2, 3, 4, 5, 6, 7, 8, 9, 10, 11, 13, 14, 16, 17]\n",
      "[2, 15, 17, 18]\n",
      "[1, 5, 10, 12, 15]\n",
      "[1, 2, 3, 5, 6, 8, 9, 10, 11, 12, 14, 15, 17]\n",
      "[5, 7, 12, 14, 15]\n",
      "[2, 3, 9, 10, 13, 16, 18]\n",
      "[6, 8, 10, 13, 18]\n",
      "[1, 4, 8, 9, 11, 12, 14, 18]\n",
      "[1, 3, 7, 9, 13, 15]\n",
      "[3, 10, 11, 12, 17]\n",
      "[2, 3, 4, 5, 6, 7, 8, 10, 12, 14, 16, 17]\n",
      "[17, 18]\n",
      "[6, 8, 9, 10, 11, 12, 13, 15, 17, 18]\n",
      "[2, 7, 8, 9, 10, 11, 14, 15, 17, 18]\n",
      "[7, 10, 13, 14]\n",
      "[4, 5, 6, 10, 12, 16, 17, 18]\n",
      "[4, 6, 12]\n",
      "[1, 7, 18]\n",
      "[3, 4, 5, 7, 9, 12, 13, 14, 15, 16, 17, 18]\n",
      "[4, 5, 6, 8, 9, 11, 12, 13, 14, 17]\n",
      "[2, 4, 9, 10, 12, 18]\n",
      "[18]\n",
      "[7, 8, 13, 18]\n",
      "[1, 2, 3, 4, 5, 6, 7, 8, 9, 10, 12, 14, 15, 16, 17, 18]\n",
      "[4, 5, 10, 13]\n",
      "[10]\n",
      "[1, 4, 6, 8, 10, 11, 12, 15, 17]\n",
      "[8, 9, 10, 12, 13, 16, 17, 18]\n",
      "[1, 2, 3, 12, 15]\n",
      "[2, 3, 4, 5, 6, 7, 8, 10, 11, 12, 13, 14, 15, 16, 17, 18]\n",
      "[1, 2, 4, 5, 6, 7, 10, 11, 15, 18]\n",
      "[2, 9, 12, 16]\n",
      "[1, 3, 4, 9, 11, 13, 18]\n",
      "[2, 3, 9, 10, 11, 13, 14, 15]\n",
      "[8, 10, 12, 18]\n",
      "[1, 4, 5, 9, 10, 13, 14, 15, 16, 17]\n",
      "[1, 14]\n",
      "[2, 3, 4, 6, 7, 8, 9, 10, 11, 12, 13, 14, 15, 17, 18]\n",
      "[1, 2, 4, 5, 6, 7, 8, 11, 12, 14, 15, 17, 18]\n",
      "[1, 2, 12, 13, 15, 18]\n",
      "[1, 4, 12, 15]\n",
      "[3, 4, 5, 10, 12, 16]\n",
      "[11, 17, 18]\n",
      "[3, 4, 9, 12, 14, 15, 16, 18]\n",
      "[1, 4, 7, 8, 9, 10, 14, 17, 18]\n",
      "[6, 9, 13, 14, 18]\n",
      "[1, 2, 6, 7, 8, 9, 13, 14, 15, 16, 17, 18]\n",
      "[1, 3, 4, 5, 7, 9, 10, 11, 13, 14, 15, 16, 18]\n",
      "[7, 12, 13]\n",
      "[7, 8, 10, 12, 13, 14, 16, 17, 18]\n",
      "[1, 2, 3, 4, 5, 6, 7, 8, 10, 11, 14, 15, 16, 17]\n",
      "[1, 3, 7, 8, 14, 15, 18]\n",
      "[1, 3, 4, 6, 7, 9, 10, 11, 12, 13, 14, 15, 16, 17, 18]\n",
      "[5, 6]\n",
      "[1]\n",
      "[1, 2, 3, 4, 5, 6, 7, 8, 10, 12, 15, 16, 17, 18]\n"
     ]
    }
   ],
   "source": [
    "prob = 1\n",
    "\n",
    "population.cycle_crossover(prob)"
   ]
  },
  {
   "cell_type": "code",
   "execution_count": 21,
   "metadata": {},
   "outputs": [
    {
     "data": {
      "text/plain": [
       "array([9, 7, 7, 6, 9, 3, 5, 7, 6, 6, 7, 3, 6, 7, 3, 6])"
      ]
     },
     "execution_count": 21,
     "metadata": {},
     "output_type": "execute_result"
    }
   ],
   "source": [
    "population.individuals[0].swappable"
   ]
  },
  {
   "cell_type": "code",
   "execution_count": 4,
   "metadata": {},
   "outputs": [
    {
     "data": {
      "text/plain": [
       "1.0"
      ]
     },
     "execution_count": 4,
     "metadata": {},
     "output_type": "execute_result"
    }
   ],
   "source": [
    "population.get_distances(normalize=True).max()"
   ]
  },
  {
   "cell_type": "code",
   "execution_count": 22,
   "metadata": {},
   "outputs": [],
   "source": [
    "prob = 0.1\n",
    "\n",
    "population_array = np.array([i.swappable for i in population.individuals])\n",
    "                \n",
    "# Get the number of parents and the shape of each parent\n",
    "num_parents = len(population)\n",
    "rows, cols = population_array.shape\n",
    "\n",
    "# Sample how many crossovers to do\n",
    "num_crossovers = sum(np.random.choice([0,1], size = int(num_parents/2), replace=True, p=[1-prob, prob]))\n",
    "\n",
    "# Select two random parents for each offspring without replacement\n",
    "parent_indices = np.random.choice(num_parents, size=(num_crossovers,2), replace=False)\n",
    "\n",
    "# Matrices with parents from both sides\n",
    "parent1 = population_array[parent_indices[:, 0]]\n",
    "parent2 = population_array[parent_indices[:, 1]]\n",
    "\n",
    "for i in range(len(parent1)):\n",
    "    indicator = True\n",
    "    current_position = 0\n",
    "    available_indicies = list(np.arange(len(parent1[i])))\n",
    "    while indicator:\n",
    "        parent1[current_position]\n"
   ]
  },
  {
   "cell_type": "code",
   "execution_count": 76,
   "metadata": {},
   "outputs": [],
   "source": [
    "parent1 = np.array([[1,3,6,5,5,4,9,9]])\n",
    "parent2 = np.array([[9,1,3,5,6,9,5,4]])"
   ]
  },
  {
   "cell_type": "code",
   "execution_count": 61,
   "metadata": {},
   "outputs": [
    {
     "data": {
      "text/plain": [
       "array([1, 3, 6, 5, 5, 4, 9, 9])"
      ]
     },
     "execution_count": 61,
     "metadata": {},
     "output_type": "execute_result"
    }
   ],
   "source": [
    "parent1[0]"
   ]
  },
  {
   "cell_type": "code",
   "execution_count": 81,
   "metadata": {},
   "outputs": [
    {
     "data": {
      "text/plain": [
       "array([3, 5, 4, 9])"
      ]
     },
     "execution_count": 81,
     "metadata": {},
     "output_type": "execute_result"
    }
   ],
   "source": [
    "parent1[i][available_indicies]"
   ]
  },
  {
   "cell_type": "code",
   "execution_count": 86,
   "metadata": {},
   "outputs": [
    {
     "data": {
      "text/plain": [
       "array([0., 3., 0., 0., 5., 4., 0., 9.])"
      ]
     },
     "execution_count": 86,
     "metadata": {},
     "output_type": "execute_result"
    }
   ],
   "source": [
    "mask = np.zeros(len(parent1[i]))\n",
    "mask[available_indicies] = True\n",
    "mask*parent1[i]"
   ]
  },
  {
   "cell_type": "code",
   "execution_count": 91,
   "metadata": {},
   "outputs": [
    {
     "data": {
      "text/plain": [
       "array([], dtype=int64)"
      ]
     },
     "execution_count": 91,
     "metadata": {},
     "output_type": "execute_result"
    }
   ],
   "source": [
    "np.where(mask*parent1[i] == parent2[i][current_position])[0]"
   ]
  },
  {
   "cell_type": "code",
   "execution_count": 146,
   "metadata": {},
   "outputs": [
    {
     "name": "stdout",
     "output_type": "stream",
     "text": [
      "[1, 5, 6, 7, 8, 9, 10, 13, 14, 15]\n",
      "[1, 2, 3, 4, 5, 6, 7, 8, 9, 10, 12, 13, 14, 15]\n",
      "[1, 2, 3, 4, 5, 6, 8, 10, 12, 13, 14]\n",
      "[2, 3, 5, 6, 7, 8, 9, 10, 11, 13, 14]\n",
      "[1, 2, 3, 4, 6, 7, 8, 9, 10, 11, 12, 13, 14, 15]\n",
      "[1, 2, 3, 4, 5, 6, 7, 8, 9, 10, 11, 12, 13, 14, 15]\n",
      "[1, 2, 3, 4, 5, 6, 7, 8, 9, 10, 11, 12, 13, 14, 15]\n",
      "[2, 5, 11, 13]\n",
      "[1, 2, 3, 4, 5, 7, 9, 10, 12, 13, 14, 15]\n",
      "[1, 2, 3, 5, 6, 8, 9, 10, 14, 15]\n",
      "[1, 2, 3, 7, 8, 9, 10, 11, 12, 14, 15]\n",
      "[1, 4, 5, 6, 9, 11, 12, 13, 14]\n",
      "[1, 2, 3, 4, 5, 6, 7, 8, 9, 11, 13]\n",
      "[8, 13, 15]\n",
      "[2, 3, 4, 5, 6, 7, 8, 9, 10, 11, 12, 13, 14, 15]\n",
      "[1, 2, 3, 4, 5, 7, 8, 10, 11]\n",
      "[1, 2, 3, 5, 6, 8, 10, 11, 12, 15]\n",
      "[1, 2, 3, 4, 5, 6, 7, 8, 9, 10, 11, 12, 13, 14, 15]\n",
      "[1, 2, 3, 4, 5, 6, 7, 8, 9, 10, 11, 12, 13, 14, 15]\n",
      "[2, 3, 4, 5, 6, 7, 8, 9, 11, 12, 13, 14, 15]\n",
      "[1, 2, 3, 4, 5, 6, 7, 8, 9, 10, 11, 12, 13, 14, 15]\n",
      "[1, 2, 3, 4, 5, 6, 7, 8, 9, 10, 11, 12, 13, 14, 15]\n",
      "[1, 2, 3, 4, 6, 7, 8, 10, 11, 13, 14, 15]\n",
      "[1, 2, 3, 4, 6, 7, 8, 9, 10, 11, 12, 13, 15]\n",
      "[1, 2, 3, 5, 6, 7, 8, 9, 10, 12, 13, 14, 15]\n",
      "[3, 8, 11]\n",
      "[1, 2, 3, 4, 5, 6, 7, 8, 9, 10, 11, 12, 13, 14, 15]\n",
      "[1, 2, 3, 4, 5, 6, 7, 8, 9, 10, 11, 12, 13, 14, 15]\n",
      "[1, 4, 5, 6, 9, 11, 12, 13, 14]\n",
      "[1, 2, 3, 7, 8, 9, 10, 11, 12, 13, 15]\n",
      "[1, 2, 3, 4, 6, 7, 8, 9, 11, 13, 15]\n",
      "[1, 2, 3, 4, 5, 6, 7, 8, 9, 10, 11, 12, 13, 14, 15]\n",
      "[1, 2, 3, 4, 6, 7, 8, 10, 11, 12, 13, 14, 15]\n",
      "[1, 2, 3, 5, 6, 7, 8, 9, 10, 13, 15]\n",
      "[1, 2, 3, 4, 6, 8, 9, 10, 11, 12, 13, 14, 15]\n",
      "[1, 3, 6, 7, 8, 10, 13]\n",
      "[1, 2, 3, 4, 5, 6, 7, 8, 9, 10, 11, 12, 13, 14, 15]\n",
      "[1, 2, 3, 4, 5, 6, 7, 9, 10, 11, 12, 13, 14, 15]\n",
      "[2, 3, 4, 7, 9, 12, 13, 14, 15]\n",
      "[1, 4, 9, 11, 12, 13, 14]\n",
      "[1, 2, 3, 4, 5, 7, 8, 9, 10, 11, 12, 13, 14, 15]\n",
      "[1, 2, 3, 4, 5, 6, 8, 9, 10, 12, 14, 15]\n",
      "[1, 2, 3, 5, 6, 7, 9, 10, 11, 15]\n",
      "[1, 2, 3, 4, 5, 7, 8, 9, 10, 11, 12, 13, 15]\n",
      "[1, 2, 4, 7, 8, 9, 10, 11, 12, 15]\n",
      "[1, 2, 3, 4, 5, 6, 7, 8, 9, 10, 11, 12, 13, 15]\n",
      "[1, 2, 3, 5, 6, 7, 8, 9, 10, 11, 12, 13, 14, 15]\n",
      "[1, 2, 3, 6, 7, 9, 10, 12, 13, 14, 15]\n",
      "[1, 2, 3, 4, 5, 8, 10, 13, 15]\n",
      "[1, 4, 5, 7, 8, 9, 10, 12, 13, 15]\n",
      "[1, 2, 3, 4, 5, 7, 8, 9, 10, 11, 12, 13, 14, 15]\n",
      "[1, 2, 3, 4, 5, 6, 7, 8, 9, 11, 12, 13, 15]\n"
     ]
    }
   ],
   "source": [
    "prob = 0.1\n",
    "\n",
    "population_array = np.array([i.swappable for i in population.individuals])\n",
    "                \n",
    "# Get the number of parents and the shape of each parent\n",
    "num_parents = len(population)\n",
    "rows, cols = population_array.shape\n",
    "\n",
    "# Sample how many crossovers to do\n",
    "num_crossovers = sum(np.random.choice([0,1], size = int(num_parents/2), replace=True, p=[1-prob, prob]))\n",
    "\n",
    "# Select two random parents for each offspring without replacement\n",
    "parent_indices = np.random.choice(num_parents, size=(num_crossovers,2), replace=False)\n",
    "\n",
    "# Matrices with parents from both sides\n",
    "parent1 = population_array[parent_indices[:, 0]]\n",
    "parent2 = population_array[parent_indices[:, 1]]\n",
    "\n",
    "for i in range(len(parent1)):\n",
    "    indicator = True\n",
    "    current_position = 0\n",
    "    available_indicies = list(np.arange(len(parent1[i])))\n",
    "    while indicator:\n",
    "        available_indicies.remove(current_position)\n",
    "        mask = np.zeros(len(parent1[i]))\n",
    "        mask[available_indicies] = True\n",
    "        possible_next_indicies = np.where(mask*parent1[i] == parent2[i][current_position])[0]\n",
    "        if len(possible_next_indicies) == 0:\n",
    "            indicator = False\n",
    "        else:\n",
    "            current_position = np.random.choice(possible_next_indicies)\n",
    "    print(available_indicies)\n",
    "    all_indicies = list(np.arange(len(parent1[i])))\n",
    "    used_indicies = list(set(all_indicies) - set(available_indicies))\n",
    "    offspring1 = np.zeros(len(parent1[i]), dtype=int)\n",
    "    offspring2 = np.zeros(len(parent1[i]), dtype=int)\n",
    "\n",
    "    offspring1[available_indicies] = parent2[i][available_indicies]\n",
    "    offspring1[used_indicies] = parent1[i][used_indicies]\n",
    "    offspring2[available_indicies] = parent1[i][available_indicies]\n",
    "    offspring2[used_indicies] = parent2[i][used_indicies]"
   ]
  },
  {
   "cell_type": "code",
   "execution_count": 145,
   "metadata": {},
   "outputs": [
    {
     "ename": "IndexError",
     "evalue": "index 48 is out of bounds for axis 0 with size 48",
     "output_type": "error",
     "traceback": [
      "\u001b[0;31m---------------------------------------------------------------------------\u001b[0m",
      "\u001b[0;31mIndexError\u001b[0m                                Traceback (most recent call last)",
      "Cell \u001b[0;32mIn[145], line 1\u001b[0m\n\u001b[0;32m----> 1\u001b[0m \u001b[38;5;28mlist\u001b[39m(np\u001b[38;5;241m.\u001b[39marange(\u001b[38;5;28mlen\u001b[39m(parent1[i])))\n",
      "\u001b[0;31mIndexError\u001b[0m: index 48 is out of bounds for axis 0 with size 48"
     ]
    }
   ],
   "source": [
    "list(np.arange(len(parent1[i])))"
   ]
  },
  {
   "cell_type": "code",
   "execution_count": 138,
   "metadata": {},
   "outputs": [
    {
     "data": {
      "text/plain": [
       "array([[1, 3, 6, 5, 5, 4, 9, 9]])"
      ]
     },
     "execution_count": 138,
     "metadata": {},
     "output_type": "execute_result"
    }
   ],
   "source": [
    "parent1"
   ]
  },
  {
   "cell_type": "code",
   "execution_count": 139,
   "metadata": {},
   "outputs": [
    {
     "data": {
      "text/plain": [
       "array([[9, 1, 3, 5, 6, 9, 5, 4]])"
      ]
     },
     "execution_count": 139,
     "metadata": {},
     "output_type": "execute_result"
    }
   ],
   "source": [
    "parent2"
   ]
  },
  {
   "cell_type": "code",
   "execution_count": 141,
   "metadata": {},
   "outputs": [
    {
     "data": {
      "text/plain": [
       "array([9, 1, 3, 5, 6, 4, 5, 9])"
      ]
     },
     "execution_count": 141,
     "metadata": {},
     "output_type": "execute_result"
    }
   ],
   "source": [
    "offspring2"
   ]
  },
  {
   "cell_type": "code",
   "execution_count": 134,
   "metadata": {},
   "outputs": [
    {
     "data": {
      "text/plain": [
       "[0, 1, 2, 4, 6]"
      ]
     },
     "execution_count": 134,
     "metadata": {},
     "output_type": "execute_result"
    }
   ],
   "source": [
    "used_indicies"
   ]
  },
  {
   "cell_type": "code",
   "execution_count": 135,
   "metadata": {},
   "outputs": [
    {
     "data": {
      "text/plain": [
       "array([1, 3, 6, 5, 9])"
      ]
     },
     "execution_count": 135,
     "metadata": {},
     "output_type": "execute_result"
    }
   ],
   "source": [
    "parent1[i][used_indicies]"
   ]
  },
  {
   "cell_type": "code",
   "execution_count": 114,
   "metadata": {},
   "outputs": [],
   "source": [
    "offspring1 = np.zeros(len(parent1[i]))"
   ]
  },
  {
   "cell_type": "code",
   "execution_count": 129,
   "metadata": {},
   "outputs": [
    {
     "data": {
      "text/plain": [
       "[0, 1, 2, 4, 6]"
      ]
     },
     "execution_count": 129,
     "metadata": {},
     "output_type": "execute_result"
    }
   ],
   "source": [
    "list(set(all_indicies) - set(available_indicies))"
   ]
  },
  {
   "cell_type": "code",
   "execution_count": 130,
   "metadata": {},
   "outputs": [],
   "source": []
  },
  {
   "cell_type": "code",
   "execution_count": 124,
   "metadata": {},
   "outputs": [],
   "source": [
    "offspring1[available_indicies] = parent2[i][available_indicies]"
   ]
  },
  {
   "cell_type": "code",
   "execution_count": null,
   "metadata": {},
   "outputs": [],
   "source": []
  },
  {
   "cell_type": "code",
   "execution_count": 125,
   "metadata": {},
   "outputs": [
    {
     "data": {
      "text/plain": [
       "array([0., 0., 0., 5., 0., 9., 0., 4.])"
      ]
     },
     "execution_count": 125,
     "metadata": {},
     "output_type": "execute_result"
    }
   ],
   "source": [
    "offspring1"
   ]
  },
  {
   "cell_type": "code",
   "execution_count": 122,
   "metadata": {},
   "outputs": [
    {
     "data": {
      "text/plain": [
       "array([5, 9, 4])"
      ]
     },
     "execution_count": 122,
     "metadata": {},
     "output_type": "execute_result"
    }
   ],
   "source": [
    "parent2[0][available_indicies]"
   ]
  },
  {
   "cell_type": "code",
   "execution_count": 110,
   "metadata": {},
   "outputs": [
    {
     "data": {
      "text/plain": [
       "array([], shape=(0, 8), dtype=int64)"
      ]
     },
     "execution_count": 110,
     "metadata": {},
     "output_type": "execute_result"
    }
   ],
   "source": [
    "parent2[available_indicies]"
   ]
  },
  {
   "cell_type": "code",
   "execution_count": null,
   "metadata": {},
   "outputs": [],
   "source": [
    "self[i].swappable[indices_to_mask] = values_add"
   ]
  },
  {
   "cell_type": "code",
   "execution_count": 59,
   "metadata": {},
   "outputs": [
    {
     "data": {
      "text/plain": [
       "array([], dtype=int64)"
      ]
     },
     "execution_count": 59,
     "metadata": {},
     "output_type": "execute_result"
    }
   ],
   "source": [
    "np.where(parent1[i][available_indicies] == parent2[i][current_position])[0]"
   ]
  },
  {
   "cell_type": "code",
   "execution_count": 58,
   "metadata": {},
   "outputs": [
    {
     "ename": "ValueError",
     "evalue": "'a' cannot be empty unless no samples are taken",
     "output_type": "error",
     "traceback": [
      "\u001b[0;31m---------------------------------------------------------------------------\u001b[0m",
      "\u001b[0;31mValueError\u001b[0m                                Traceback (most recent call last)",
      "Cell \u001b[0;32mIn[58], line 1\u001b[0m\n\u001b[0;32m----> 1\u001b[0m np\u001b[38;5;241m.\u001b[39mrandom\u001b[38;5;241m.\u001b[39mchoice(np\u001b[38;5;241m.\u001b[39mwhere(parent1[i][available_indicies] \u001b[38;5;241m==\u001b[39m parent2[i][current_position])[\u001b[38;5;241m0\u001b[39m])\n",
      "File \u001b[0;32mmtrand.pyx:934\u001b[0m, in \u001b[0;36mnumpy.random.mtrand.RandomState.choice\u001b[0;34m()\u001b[0m\n",
      "\u001b[0;31mValueError\u001b[0m: 'a' cannot be empty unless no samples are taken"
     ]
    }
   ],
   "source": [
    "np.random.choice(np.where(parent1[i][available_indicies] == parent2[i][current_position])[0])"
   ]
  },
  {
   "cell_type": "code",
   "execution_count": 54,
   "metadata": {},
   "outputs": [
    {
     "data": {
      "text/plain": [
       "[1, 2, 3, 4, 5, 6, 7, 8, 9, 11, 12, 13, 14, 15]"
      ]
     },
     "execution_count": 54,
     "metadata": {},
     "output_type": "execute_result"
    }
   ],
   "source": [
    "available_indicies"
   ]
  },
  {
   "cell_type": "code",
   "execution_count": 49,
   "metadata": {},
   "outputs": [
    {
     "data": {
      "text/plain": [
       "array([ 0,  3, 12])"
      ]
     },
     "execution_count": 49,
     "metadata": {},
     "output_type": "execute_result"
    }
   ],
   "source": [
    "np.where(parent1[i][available_indicies] == parent2[i][current_position])[0]"
   ]
  },
  {
   "cell_type": "code",
   "execution_count": 48,
   "metadata": {},
   "outputs": [
    {
     "data": {
      "text/plain": [
       "12"
      ]
     },
     "execution_count": 48,
     "metadata": {},
     "output_type": "execute_result"
    }
   ],
   "source": [
    "np.random.choice(np.where(parent1[i][available_indicies] == parent2[i][current_position])[0])"
   ]
  },
  {
   "cell_type": "code",
   "execution_count": 37,
   "metadata": {},
   "outputs": [],
   "source": [
    "i = 0\n",
    "available_indicies = list(np.arange(len(parent1[i])))"
   ]
  },
  {
   "cell_type": "code",
   "execution_count": 41,
   "metadata": {},
   "outputs": [
    {
     "data": {
      "text/plain": [
       "array([6, 3, 7, 5])"
      ]
     },
     "execution_count": 41,
     "metadata": {},
     "output_type": "execute_result"
    }
   ],
   "source": [
    "parent1[0][[1,2,3,4]]"
   ]
  },
  {
   "cell_type": "code",
   "execution_count": 33,
   "metadata": {},
   "outputs": [],
   "source": [
    "available_indicies = np.delete(available_indicies, 0)"
   ]
  },
  {
   "cell_type": "code",
   "execution_count": 34,
   "metadata": {},
   "outputs": [
    {
     "data": {
      "text/plain": [
       "array([ 3,  4,  5,  6,  7,  8,  9, 10, 11, 12, 13, 14, 15])"
      ]
     },
     "execution_count": 34,
     "metadata": {},
     "output_type": "execute_result"
    }
   ],
   "source": [
    "available_indicies"
   ]
  },
  {
   "cell_type": "code",
   "execution_count": 27,
   "metadata": {},
   "outputs": [
    {
     "data": {
      "text/plain": [
       "array([ 0,  1,  2,  3,  4,  5,  6,  7,  8,  9, 10, 11, 12, 13, 14, 15])"
      ]
     },
     "execution_count": 27,
     "metadata": {},
     "output_type": "execute_result"
    }
   ],
   "source": [
    "np.arange(len(parent1[0]))"
   ]
  },
  {
   "cell_type": "code",
   "execution_count": 23,
   "metadata": {},
   "outputs": [
    {
     "data": {
      "text/plain": [
       "array([6, 6, 3, 7, 5, 9, 2, 3, 7, 3, 3, 5, 3, 6, 5, 7])"
      ]
     },
     "execution_count": 23,
     "metadata": {},
     "output_type": "execute_result"
    }
   ],
   "source": [
    "parent1[0]"
   ]
  },
  {
   "cell_type": "code",
   "execution_count": 25,
   "metadata": {},
   "outputs": [
    {
     "data": {
      "text/plain": [
       "(array([ 4, 11, 14]),)"
      ]
     },
     "execution_count": 25,
     "metadata": {},
     "output_type": "execute_result"
    }
   ],
   "source": [
    "np.where(parent1[0] == 5)"
   ]
  },
  {
   "cell_type": "code",
   "execution_count": 24,
   "metadata": {},
   "outputs": [
    {
     "data": {
      "text/plain": [
       "array([5, 2, 4, 5, 3, 9, 9, 4, 5, 7, 4, 6, 7, 2, 7, 5])"
      ]
     },
     "execution_count": 24,
     "metadata": {},
     "output_type": "execute_result"
    }
   ],
   "source": [
    "parent2[0]"
   ]
  },
  {
   "cell_type": "code",
   "execution_count": 12,
   "metadata": {},
   "outputs": [
    {
     "data": {
      "text/plain": [
       "(52, 19)"
      ]
     },
     "execution_count": 12,
     "metadata": {},
     "output_type": "execute_result"
    }
   ],
   "source": [
    "parent1.shape"
   ]
  },
  {
   "cell_type": "code",
   "execution_count": 5,
   "metadata": {},
   "outputs": [
    {
     "data": {
      "text/plain": [
       "array([16791, 16825, 16731, 16818, 16860, 16833, 16892, 16884, 16808,\n",
       "       16792, 16854, 16744, 16740, 16790, 16802, 16866, 16747, 16792,\n",
       "       16877, 16780, 16835, 16803, 16775, 16848, 16845, 16807, 16806,\n",
       "       16851, 16748, 16807, 16903, 16805, 16934, 16865, 16729, 16893,\n",
       "       16876, 16810, 16733, 16869, 16834, 16897, 16851, 16735, 16913,\n",
       "       16823, 16887, 16841, 16947, 16770, 16828, 16712, 16710, 16845,\n",
       "       16842, 16917, 16809, 16830, 16883, 16878, 16892, 16848, 16847,\n",
       "       16860, 16743, 16803, 16775, 16773, 16807, 16904, 16813, 16929,\n",
       "       16804, 16832, 16761, 16866, 16851, 16770, 16823, 16725, 16878,\n",
       "       16807, 16835, 16858, 16752, 16904, 16775, 16881, 16877, 16884,\n",
       "       16867, 16823, 16860, 16907, 16835, 16794, 16863, 16781, 16756,\n",
       "       16836, 16753, 16827, 16859, 16885, 16785, 16867, 16832, 16899,\n",
       "       16798, 16842, 16931, 16736, 16870, 16919, 16841, 16861, 16875,\n",
       "       16864, 16861, 16785, 16922, 16756, 16858, 16911, 16763, 16886,\n",
       "       16854, 16845, 16830, 16882, 16840, 16793, 16703, 16873, 16812,\n",
       "       16903, 16744, 16713, 16858, 16840, 16798, 16848, 16842, 16792,\n",
       "       16836, 16858, 16883, 16757, 16802, 16922, 16774, 16785, 16742,\n",
       "       16825, 16771, 16883, 16814, 16831, 16844, 16763, 16844, 16834,\n",
       "       16793, 16823, 16770, 16814, 16838, 16888, 16834, 16850, 16834,\n",
       "       16760, 16774, 16731, 16869, 16801, 16795, 16864, 16885, 16819,\n",
       "       16802, 16749, 16846, 16727, 16731, 16808, 16811, 16822, 16733,\n",
       "       16882, 16841, 16813, 16875, 16889, 16857, 16904, 16755, 16924,\n",
       "       16823, 16879, 16873, 16843, 16766, 16811, 16819, 16894, 16774,\n",
       "       16740, 16869, 16818, 16861, 16925, 16832, 16870, 16786, 16766,\n",
       "       16764, 16766, 16852, 16807, 16875, 16867, 16973, 16953, 16864,\n",
       "       16750, 16724, 16845, 16703, 16864, 16751, 16741, 16788, 16796,\n",
       "       16779, 16937, 16919, 16817, 16690, 16847, 16830, 16849, 16858,\n",
       "       16874, 16934, 16797, 16834, 16856, 16779, 16804, 16876, 16850,\n",
       "       16964, 16790, 16808, 16842, 16879, 16777, 16909, 16774, 16843,\n",
       "       16847, 16859, 16755, 16824, 16868, 16753, 16842, 16844, 16785,\n",
       "       16756, 16833, 16779, 16700, 16793, 16809, 16942, 16862, 16838,\n",
       "       16811, 16908, 16726, 16756, 16851, 16810, 16847, 16780, 16894,\n",
       "       16784, 16856, 16871, 16860, 16839, 16892, 16719, 16876, 16791,\n",
       "       16879, 16840, 16764, 16795, 16789, 16908, 16828, 16844, 16805,\n",
       "       16808, 16851, 16805, 16892, 16912, 16811, 16819, 16897, 16766,\n",
       "       16948, 16752, 16848, 16774, 16807, 16850, 16690, 16898, 16883,\n",
       "       16858, 16830, 16822, 16860, 16891, 16894, 16802, 16757, 16783,\n",
       "       16776, 16819, 16845, 16856, 16772, 16866, 16864, 16947, 16789,\n",
       "       16823, 16763, 16786, 16890, 16838, 16834, 16800, 16844, 16838,\n",
       "       16880, 16801, 16784, 16803, 16796, 16811, 16804, 16865, 16809,\n",
       "       16880, 16847, 16779, 16813, 16849, 16873, 16810, 16898, 16860,\n",
       "       16828, 16843, 16936, 16755, 16733, 16831, 16879, 16777, 16853,\n",
       "       16867, 16700, 16828, 16678, 16895, 16850, 16765, 16690, 16811,\n",
       "       16842, 16813, 16856, 16865, 16914, 16775, 16783, 16803, 16801,\n",
       "       16729, 16888, 16911, 16878, 16820, 16858, 16865, 16835, 16827,\n",
       "       16783, 16889, 16846, 16784, 16902, 16836, 16704, 16853, 16840,\n",
       "       16798, 16768, 16830, 16729, 16722, 16804, 16843, 16941, 16840,\n",
       "       16828, 16762, 16819, 16838, 16848, 16880, 16901, 16825, 16789,\n",
       "       16888, 16850, 16900, 16856, 16861, 16804, 16797, 16765, 16772,\n",
       "       16798, 16803, 16916, 16837, 16833, 16933, 16785, 16939, 16741,\n",
       "       16820, 16873, 16816, 16783, 16788, 16825, 16904, 16801, 16863,\n",
       "       16907, 16756, 16759, 16825, 16795, 16740, 16852, 16898, 16893,\n",
       "       16822, 16842, 16869, 16838, 16725, 16830, 16927, 16774, 16827,\n",
       "       16844, 16829, 16785, 16799, 16811, 16923, 16737, 16856, 16823,\n",
       "       16865, 16845, 16872, 16803, 16813, 16752, 16822, 16799, 16792,\n",
       "       16871, 16901, 16805, 16799, 16825, 16796, 16854, 16849, 16858,\n",
       "       16818, 16838, 16931, 16807, 16919, 16802, 16890, 16815, 16821,\n",
       "       16817, 16793, 16851, 16820, 16801, 16779, 16856, 16790, 16833,\n",
       "       16705, 16847, 16850, 16759, 16895, 16700, 16729, 16841, 16864,\n",
       "       16774, 16924, 16897, 16750, 16839, 16975, 16883, 16870, 16829,\n",
       "       16967, 16841, 16837, 16893, 16907, 16827, 16764, 16797, 16957,\n",
       "       16764, 16811, 16723, 16756, 16849, 16854, 16765, 16724, 16698,\n",
       "       16849, 16948, 16864, 16830, 16904, 16898, 16793, 16733, 16774,\n",
       "       16872, 16815, 16888, 16767, 16785, 16800, 16954, 16936, 16874,\n",
       "       16885, 16826, 16845, 16829, 16776, 16831, 16836, 16891, 16864,\n",
       "       16839, 16845, 16895, 16833, 16792, 16794, 16952, 16832, 16862,\n",
       "       16868, 16863, 16854, 16751, 16798, 16808, 16792, 16917, 16861,\n",
       "       16809, 16838, 16792, 16888, 16871, 16805, 16928, 16821, 16765,\n",
       "       16754, 16758, 16932, 16856, 16722, 16791, 16840, 16761, 16822,\n",
       "       16845, 16831, 16822, 16808, 16848, 16823, 16864, 16927, 16927,\n",
       "       16810, 16821, 16743, 16837, 16879, 16749, 16866, 16770, 16783,\n",
       "       16864, 16843, 16860, 16840, 16850, 16855, 16864, 16819, 16849,\n",
       "       16844, 16808, 16801, 16844, 16837, 16789, 16842, 16716, 16812,\n",
       "       16820, 16748, 16783, 16765, 16884, 16771, 16868, 16840, 16886,\n",
       "       16764, 16848, 16844, 16875, 16816, 16840, 16873, 16884, 16827,\n",
       "       16849, 16868, 16851, 16789, 16823, 16776, 16894, 16888, 16790,\n",
       "       16801, 16797, 16736, 16802, 16934, 16868, 16889, 16815, 16786,\n",
       "       16829, 16881, 16827, 16856, 16896, 16875, 16839, 16855, 16864,\n",
       "       16666, 16775, 16828, 16804, 16915, 16870, 16770, 16810, 16837,\n",
       "       16711, 16716, 16783, 16791, 16731, 16856, 16826, 16860, 16916,\n",
       "       16780, 16859, 16874, 16843, 16853, 16794, 16810, 16883, 16784,\n",
       "       16795, 16835, 16737, 16884, 16880, 16751, 16797, 16810, 16941,\n",
       "       16712, 16791, 16810, 16845, 16801, 16860, 16909, 16820, 16948,\n",
       "       16812, 16820, 16828, 16862, 16832, 16810, 16788, 16835, 16795,\n",
       "       16820, 16919, 16794, 16783, 16794, 16882, 16776, 16787, 16859,\n",
       "       16780, 16743, 16917, 16728, 16867, 16838, 16750, 16822, 16763,\n",
       "       16718, 16817, 16744, 16899, 16832, 16857, 16846, 16866, 16740,\n",
       "       16751, 16827, 16837, 16850, 16720, 16814, 16891, 16841, 16704,\n",
       "       16924, 16851, 16766, 16758, 16715, 16724, 16719, 16738, 16783,\n",
       "       16802, 16779, 16713, 16831, 16936, 16836, 16705, 16845, 16861,\n",
       "       16898, 16891, 16725, 16891, 16845, 16815, 16824, 16977, 16761,\n",
       "       16791, 16795, 16797, 16876, 16745, 16818, 16835, 16672, 16856,\n",
       "       16824, 16940, 16663, 16858, 16840, 16880, 16803, 16875, 16673,\n",
       "       16801, 16818, 16779, 16826, 16871, 16827, 16852, 16794, 16884,\n",
       "       16887, 16855, 16773, 16907, 16844, 16762, 16775, 16781, 16761,\n",
       "       16765, 16743, 16810, 16874, 16740, 16801, 16756, 16862, 16749,\n",
       "       16965, 16830, 16820, 16828, 16774, 16705, 16731, 16863, 16840,\n",
       "       16862, 16790, 16852, 16875, 16929, 16807, 16807, 16883, 16783,\n",
       "       16804, 16880, 16826, 16747, 16862, 16826, 16857, 16868, 16833,\n",
       "       16966, 16858, 16813, 16964, 16822, 16816, 16819, 16878, 16867,\n",
       "       16824, 16846, 16817, 16888, 16879, 16892, 16844, 16861, 16786,\n",
       "       16794, 16730, 16819, 16836, 16832, 16801, 16820, 16846, 16831,\n",
       "       16747, 16779, 16852, 16812, 16834, 16908, 16859, 16748, 16726,\n",
       "       16798, 16891, 16809, 16861, 16834, 16823, 16842, 16886, 16722,\n",
       "       16891, 16798, 16860, 16849, 16809, 16829, 16856, 16755, 16838,\n",
       "       16822, 16847, 16823, 16803, 16781, 16837, 16818, 16810, 16866,\n",
       "       16908, 16793, 16683, 16839, 16850, 16845, 16767, 16779, 16702,\n",
       "       16742, 16756, 16862, 16811, 16850, 16806, 16892, 16888, 16808,\n",
       "       16904, 16823, 16904, 16852, 16818, 16838, 16865, 16867, 16787,\n",
       "       16821, 16800, 16862, 16955, 16837, 16888, 16780, 16854, 16915,\n",
       "       16851, 16874, 16843, 16832, 16865, 16820, 16825, 16913, 16870,\n",
       "       16869])"
      ]
     },
     "execution_count": 5,
     "metadata": {},
     "output_type": "execute_result"
    }
   ],
   "source": [
    "population.get_distances(normalize=False)"
   ]
  },
  {
   "cell_type": "code",
   "execution_count": 15,
   "metadata": {},
   "outputs": [
    {
     "name": "stdout",
     "output_type": "stream",
     "text": [
      "[[1.   0.25]\n",
      " [0.5  0.25]\n",
      " [0.5  0.75]]\n"
     ]
    }
   ],
   "source": [
    "from scipy.spatial.distance import cdist\n",
    "\n",
    "# Example data\n",
    "X = [[0, 1, 0, 1],\n",
    "     [1, 1, 0, 0],\n",
    "     [0, 0, 1, 1]]\n",
    "Y = [[1, 0, 1, 0],\n",
    "     [1, 1, 0, 1]]\n",
    "n_dimensions = len(X[0])  # Assuming all vectors have the same length\n",
    "weights = np.ones(n_dimensions)\n",
    "distances = cdist(X, Y, metric='hamming')\n",
    "\n",
    "\n",
    "print(distances)\n"
   ]
  },
  {
   "cell_type": "code",
   "execution_count": 19,
   "metadata": {},
   "outputs": [
    {
     "data": {
      "text/plain": [
       "(1000, 43)"
      ]
     },
     "execution_count": 19,
     "metadata": {},
     "output_type": "execute_result"
    }
   ],
   "source": [
    "individuals.shape"
   ]
  },
  {
   "cell_type": "code",
   "execution_count": 24,
   "metadata": {},
   "outputs": [
    {
     "data": {
      "text/plain": [
       "array([[0.        , 0.86046512, 0.79069767, ..., 0.79069767, 0.88372093,\n",
       "        0.88372093],\n",
       "       [0.86046512, 0.        , 0.90697674, ..., 0.93023256, 0.97674419,\n",
       "        0.76744186],\n",
       "       [0.79069767, 0.90697674, 0.        , ..., 0.8372093 , 0.90697674,\n",
       "        0.8372093 ],\n",
       "       ...,\n",
       "       [0.79069767, 0.93023256, 0.8372093 , ..., 0.        , 0.95348837,\n",
       "        0.79069767],\n",
       "       [0.88372093, 0.97674419, 0.90697674, ..., 0.95348837, 0.        ,\n",
       "        0.90697674],\n",
       "       [0.88372093, 0.76744186, 0.8372093 , ..., 0.79069767, 0.90697674,\n",
       "        0.        ]])"
      ]
     },
     "execution_count": 24,
     "metadata": {},
     "output_type": "execute_result"
    }
   ],
   "source": [
    "individuals = np.array([ind.swappable for ind in population.individuals])\n",
    "\n",
    "cdist(individuals, individuals, metric = 'hamming', w=np.ones(43))"
   ]
  },
  {
   "cell_type": "code",
   "execution_count": 94,
   "metadata": {},
   "outputs": [
    {
     "data": {
      "text/plain": [
       "array([0.1460076 , 0.41064639, 0.45019011, 0.54448669, 0.26844106,\n",
       "       0.66768061, 0.68593156, 0.59619772, 0.66539924, 0.41977186,\n",
       "       0.39923954, 0.52927757, 0.54296578, 0.60304183, 0.38631179,\n",
       "       0.44714829, 0.54980989, 0.4539924 , 0.52395437, 0.4539924 ,\n",
       "       0.46387833, 0.51178707, 0.81520913, 0.52395437, 0.65323194,\n",
       "       0.59619772, 0.68365019, 0.60532319, 0.53079848, 0.48973384,\n",
       "       0.55437262, 0.52015209, 0.21749049, 0.12395437, 0.4418251 ,\n",
       "       0.59087452, 0.4418251 , 0.7756654 , 0.42737643, 0.63878327,\n",
       "       0.53307985, 0.60836502, 0.46692015, 0.51406844, 0.66463878,\n",
       "       0.63726236, 0.59619772, 0.55741445, 0.39467681, 0.42813688,\n",
       "       0.63878327, 0.53688213, 0.65323194, 0.65171103, 0.72623574,\n",
       "       0.44486692, 0.40076046, 0.30646388, 0.63422053, 0.49353612,\n",
       "       0.27452471, 0.70494297, 0.32471483, 0.67528517, 0.65247148,\n",
       "       0.16882129, 0.31558935, 0.58935361, 0.37414449, 0.53764259,\n",
       "       0.41520913, 0.59771863, 0.41292776, 0.34524715, 0.80684411,\n",
       "       0.24410646, 0.50874525, 0.41520913, 0.46539924, 0.50570342,\n",
       "       0.79239544, 0.34904943, 0.47984791, 0.5391635 , 0.62661597,\n",
       "       0.49353612, 0.36197719, 0.62965779, 0.63878327, 0.72015209,\n",
       "       0.45931559, 0.6243346 , 0.56273764, 0.56045627, 0.63878327,\n",
       "       0.57870722, 0.3148289 , 0.5460076 , 0.69809886, 0.58707224,\n",
       "       0.41825095, 0.55361217, 0.34220532, 0.44106464, 0.35513308,\n",
       "       0.46768061, 0.62661597, 0.4608365 , 0.28897338, 0.47680608,\n",
       "       0.39771863, 0.45019011, 0.64942966, 0.74220532, 0.72243346,\n",
       "       0.35361217, 0.77110266, 0.51102662, 0.77642586, 0.55665399,\n",
       "       0.4904943 , 0.52091255, 0.51634981, 0.34524715, 0.04942966,\n",
       "       0.73460076, 0.61140684, 0.42585551, 0.7391635 , 0.71330798,\n",
       "       0.12319392, 0.46768061, 0.52395437, 0.60304183, 0.54904943,\n",
       "       0.57338403, 0.70646388, 0.68973384, 0.37262357, 0.51102662,\n",
       "       0.47072243, 0.55589354, 0.63802281, 0.70342205, 0.19087452,\n",
       "       0.60988593, 0.56273764, 0.52851711, 0.32319392, 0.57718631,\n",
       "       0.76577947, 0.45779468, 0.47908745, 0.35513308, 0.4121673 ,\n",
       "       0.66996198, 0.59239544, 0.49809886, 0.78555133, 0.56806084,\n",
       "       0.37338403, 0.59315589, 0.50570342, 0.61520913, 0.79087452,\n",
       "       0.48365019, 0.34904943, 0.42889734, 0.29353612, 0.66387833,\n",
       "       0.45551331, 0.43574144, 0.51634981, 0.3581749 , 0.54448669,\n",
       "       0.36577947, 0.27984791, 0.69885932, 0.62889734, 0.60608365,\n",
       "       0.26920152, 0.48136882, 0.54144487, 0.45627376, 0.61140684,\n",
       "       0.49581749, 0.54372624, 0.54372624, 0.52471483, 0.44106464,\n",
       "       0.63422053, 0.60836502, 0.40912548, 0.54448669, 0.51102662,\n",
       "       0.56273764, 0.47072243, 0.63954373, 0.39239544, 0.44790875,\n",
       "       0.78707224, 0.51558935, 0.65475285, 0.73003802, 0.57642586,\n",
       "       0.67756654, 0.69429658, 0.38935361, 0.46235741, 0.75589354,\n",
       "       0.75057034, 0.78555133, 0.90798479, 0.62889734, 0.3148289 ,\n",
       "       0.66692015, 0.40912548, 0.47376426, 0.89353612, 0.58403042,\n",
       "       0.49961977, 0.66387833, 0.49809886, 0.50038023, 0.50038023,\n",
       "       0.66768061, 0.57490494, 0.45855513, 0.35437262, 0.44106464,\n",
       "       0.23574144, 0.68973384, 0.62205323, 0.53688213, 0.46159696,\n",
       "       0.63193916, 0.86539924, 0.56273764, 0.49885932, 0.56958175,\n",
       "       0.5460076 , 0.66007605, 0.41064639, 0.53307985, 0.57414449,\n",
       "       0.54144487, 0.24106464, 0.67908745, 0.47224335, 0.59087452,\n",
       "       0.26539924, 0.45019011, 0.66692015, 0.63269962, 0.71558935,\n",
       "       0.44942966, 0.58250951, 0.54448669, 0.2851711 , 0.44030418,\n",
       "       0.70874525, 0.7460076 , 0.52775665, 0.29581749, 0.59619772,\n",
       "       0.62509506, 0.56730038, 0.54752852, 0.4851711 , 0.57490494,\n",
       "       0.61749049, 0.69961977, 0.46007605, 0.21673004, 0.3513308 ,\n",
       "       0.46311787, 0.73460076, 0.57110266, 0.72243346, 0.27908745,\n",
       "       0.5581749 , 0.62509506, 0.57946768, 0.53612167, 0.2904943 ,\n",
       "       0.67072243, 0.31711027, 0.69277567, 0.50114068, 0.65779468,\n",
       "       0.28212928, 0.85779468, 0.68593156, 0.45019011, 0.68441065,\n",
       "       0.76653992, 0.5148289 , 0.66996198, 0.60380228, 0.60380228,\n",
       "       0.24638783, 0.19771863, 0.79771863, 0.51711027, 0.51254753,\n",
       "       0.45171103, 0.7391635 , 0.70418251, 0.64486692, 0.57490494,\n",
       "       0.42205323, 0.53231939, 0.47224335, 0.4539924 , 0.35589354,\n",
       "       0.49125475, 0.43878327, 0.34904943, 0.50114068, 0.38403042,\n",
       "       0.43422053, 0.68288973, 0.56730038, 0.54220532, 0.54220532,\n",
       "       0.83193916, 0.36882129, 0.40380228, 0.67376426, 0.71330798,\n",
       "       0.64106464, 0.59467681, 0.60532319, 0.51102662, 0.49581749,\n",
       "       0.59847909, 0.55969582, 0.39771863, 0.42737643, 0.46463878,\n",
       "       0.54524715, 0.42585551, 0.47680608, 0.56806084, 0.64562738,\n",
       "       0.48365019, 0.24638783, 0.6539924 , 0.39695817, 0.77338403,\n",
       "       0.77794677, 0.31634981, 0.72395437, 0.29657795, 0.7269962 ,\n",
       "       0.49657795, 0.50722433, 0.68745247, 0.32395437, 0.57034221,\n",
       "       0.62585551, 0.78326996, 0.35285171, 0.65855513, 0.39087452,\n",
       "       0.45323194, 0.56653992, 0.53840304, 0.66235741, 0.35513308,\n",
       "       0.63574144, 0.33992395, 0.68745247, 0.67452471, 0.54144487,\n",
       "       0.8121673 , 0.46007605, 0.35361217, 0.56958175, 0.32243346,\n",
       "       0.58479087, 0.39695817, 0.42281369, 0.73688213, 0.44106464,\n",
       "       0.43346008, 0.62357414, 0.67756654, 0.68441065, 0.31634981,\n",
       "       0.77870722, 0.4608365 , 0.6365019 , 0.678327  , 0.7634981 ,\n",
       "       0.52243346, 0.43878327, 0.44942966, 0.36653992, 0.79923954,\n",
       "       0.20836502, 0.37186312, 0.53003802, 0.70874525, 0.50570342,\n",
       "       0.64258555, 0.53003802, 0.14980989, 0.54220532, 0.74980989,\n",
       "       0.32927757, 0.43117871, 0.6418251 , 0.59087452, 0.19543726,\n",
       "       0.58098859, 0.4121673 , 0.58022814, 0.58326996, 0.33688213,\n",
       "       0.28897338, 0.48441065, 0.50038023, 0.53612167, 0.23574144,\n",
       "       0.6243346 , 0.45019011, 0.35893536, 0.59391635, 0.4121673 ,\n",
       "       0.32623574, 0.52851711, 0.37642586, 0.6121673 , 0.44790875,\n",
       "       0.36806084, 0.39695817, 0.63574144, 0.68897338, 0.4851711 ,\n",
       "       0.61064639, 0.52927757, 0.71102662, 0.53612167, 0.7148289 ,\n",
       "       0.75969582, 0.72319392, 0.44942966, 0.5756654 , 0.65475285,\n",
       "       0.82661597, 0.41749049, 0.59695817, 0.62053232, 0.76730038,\n",
       "       0.38935361, 0.44106464, 0.49505703, 0.56958175, 0.42813688,\n",
       "       0.64942966, 0.49961977, 0.53764259, 0.40380228, 0.59923954,\n",
       "       0.78631179, 0.87908745, 0.61292776, 0.66007605, 0.3095057 ,\n",
       "       0.72395437, 0.47680608, 0.74220532, 0.47376426, 0.40608365,\n",
       "       0.6121673 , 0.57110266, 0.34068441, 0.45551331, 0.31863118,\n",
       "       0.24942966, 0.7338403 , 0.46996198, 0.51558935, 0.53460076,\n",
       "       0.61673004, 0.2904943 , 0.27984791, 0.32471483, 0.23574144,\n",
       "       0.67680608, 0.54904943, 0.57490494, 0.55893536, 0.69961977,\n",
       "       0.14752852, 0.40380228, 0.42585551, 0.53536122, 0.60912548,\n",
       "       0.56045627, 0.51026616, 0.37794677, 0.52775665, 0.41673004,\n",
       "       0.70570342, 0.60076046, 0.3338403 , 0.55057034, 0.56045627,\n",
       "       0.5148289 , 0.44334601, 0.9338403 , 0.48441065, 0.54144487,\n",
       "       0.44714829, 0.66007605, 0.478327  , 0.81064639, 0.59619772,\n",
       "       0.38859316, 0.43422053, 0.67528517, 0.26920152, 0.55893536,\n",
       "       0.49201521, 0.52547529, 0.23269962, 0.16121673, 0.66007605,\n",
       "       0.87452471, 0.49201521, 0.43269962, 0.33536122, 0.5026616 ,\n",
       "       0.25171103, 0.41520913, 0.54068441, 0.9460076 , 0.39695817,\n",
       "       0.53764259, 0.7095057 , 0.32851711, 0.55209125, 0.51102662,\n",
       "       0.21673004, 0.69201521, 0.32623574, 0.33688213, 0.64334601,\n",
       "       0.45171103, 0.62053232, 0.42813688, 0.34220532, 0.6121673 ,\n",
       "       0.62053232, 0.60608365, 0.521673  , 0.47908745, 0.49429658,\n",
       "       0.36882129, 0.5391635 , 0.71711027, 0.83878327, 0.56806084,\n",
       "       0.70038023, 0.51406844, 0.59239544, 0.23269962, 0.37414449,\n",
       "       0.46387833, 0.40380228, 0.6730038 , 0.51406844, 0.40912548,\n",
       "       0.31863118, 0.77034221, 0.48669202, 0.39695817, 0.70038023,\n",
       "       0.86007605, 0.39923954, 0.521673  , 0.63726236, 0.52775665,\n",
       "       0.63041825, 0.71026616, 0.50722433, 0.68136882, 0.60836502,\n",
       "       0.28973384, 0.55285171, 0.86539924, 0.56045627, 0.52775665,\n",
       "       0.76273764, 0.3460076 , 0.16730038, 0.58859316, 0.88973384,\n",
       "       0.49505703, 0.31634981, 0.43802281, 0.71406844, 0.79923954,\n",
       "       0.77870722, 0.60684411, 0.73003802, 0.10874525, 0.58935361,\n",
       "       0.29961977, 0.36045627, 0.81064639, 0.41064639, 0.50646388,\n",
       "       0.27756654, 0.24334601, 0.45095057, 0.42585551, 0.14448669,\n",
       "       0.66235741, 0.77262357, 0.47680608, 0.66387833, 0.47148289,\n",
       "       0.43346008, 0.82053232, 0.75513308, 0.47528517, 0.35057034,\n",
       "       0.33612167, 0.35893536, 0.82357414, 0.68060837, 0.41749049,\n",
       "       0.51787072, 0.70114068, 0.43269962, 0.4539924 , 0.62889734,\n",
       "       0.37034221, 0.56958175, 0.55285171, 0.53460076, 0.55361217,\n",
       "       0.44942966, 0.54524715, 0.38631179, 0.75437262, 0.46159696,\n",
       "       0.60836502, 0.74676806, 0.42813688, 0.53764259, 0.67528517,\n",
       "       0.36121673, 0.36501901, 0.83878327, 0.59467681, 0.64334601,\n",
       "       0.10874525, 0.5338403 , 0.70874525, 0.60684411, 0.24410646,\n",
       "       0.6486692 , 0.5391635 , 0.63878327, 0.46539924, 0.49125475,\n",
       "       0.53079848, 0.51787072, 0.478327  , 0.59695817, 0.49505703,\n",
       "       0.63878327, 0.43269962, 0.45475285, 0.62129278, 0.59543726,\n",
       "       0.55437262, 0.41292776, 0.40228137, 0.9878327 , 0.65475285,\n",
       "       0.51102662, 0.59847909, 0.3581749 , 0.61596958, 0.46768061,\n",
       "       0.38098859, 0.69277567, 0.74676806, 0.49885932, 0.75361217,\n",
       "       0.52015209, 0.56882129, 0.56806084, 0.46311787, 0.48441065,\n",
       "       0.57870722, 0.35665399, 0.30190114, 0.40456274, 0.21368821,\n",
       "       0.45095057, 0.34904943, 0.50874525, 0.60456274, 0.85095057,\n",
       "       0.4121673 , 0.42813688, 0.68288973, 0.57642586, 0.5338403 ,\n",
       "       0.53307985, 0.81596958, 0.54372624, 0.478327  , 0.62889734,\n",
       "       0.79163498, 0.40836502, 0.41673004, 0.6730038 , 0.48288973,\n",
       "       0.18403042, 0.59087452, 0.58935361, 0.75285171, 0.47528517,\n",
       "       0.40684411, 0.57414449, 0.55741445, 0.29961977, 0.51178707,\n",
       "       0.31863118, 0.60152091, 0.88973384, 0.5460076 , 0.17642586,\n",
       "       0.32395437, 0.78022814, 0.7026616 , 0.67908745, 0.37110266,\n",
       "       0.93688213, 0.29961977, 0.83422053, 0.40456274, 0.44410646,\n",
       "       0.48441065, 0.34220532, 0.69809886, 0.36653992, 0.77262357,\n",
       "       0.86159696, 0.66387833, 0.50190114, 0.53155894, 0.49125475,\n",
       "       0.77870722, 0.44486692, 0.67148289, 0.54144487, 0.58479087,\n",
       "       0.39163498, 0.59163498, 0.54068441, 0.30874525, 0.55437262,\n",
       "       0.44942966, 0.26692015, 0.69961977, 0.5581749 , 0.65855513,\n",
       "       0.68288973, 0.46539924, 0.32471483, 0.88136882, 0.53764259,\n",
       "       0.7581749 , 0.21520913, 0.36045627, 0.60076046, 0.4973384 ,\n",
       "       0.53079848, 0.9878327 , 0.6973384 , 0.51406844, 0.28060837,\n",
       "       0.41673004, 0.49505703, 0.63574144, 0.45779468, 0.1095057 ,\n",
       "       0.82053232, 0.52091255, 0.16121673, 0.3756654 , 0.67984791,\n",
       "       0.56501901, 0.36577947, 0.28365019, 0.67528517, 0.38098859,\n",
       "       0.66768061, 0.35437262, 0.55209125, 0.3756654 , 0.73155894,\n",
       "       0.76653992, 0.2661597 , 1.        , 0.55057034, 0.53307985,\n",
       "       0.59163498, 0.75513308, 0.31026616, 0.46996198, 0.63422053,\n",
       "       0.9878327 , 0.47528517, 0.21444867, 0.46996198, 0.49201521,\n",
       "       0.57186312, 0.62585551, 0.49277567, 0.50494297, 0.53231939,\n",
       "       0.44714829, 0.61520913, 0.38935361, 0.67908745, 0.62965779,\n",
       "       0.66387833, 0.60608365, 0.48288973, 0.64258555, 0.51026616,\n",
       "       0.64714829, 0.5391635 , 0.61596958, 0.71939163, 0.4608365 ,\n",
       "       0.59847909, 0.7095057 , 0.51711027, 0.4243346 , 0.62281369,\n",
       "       0.33992395, 0.68593156, 0.58859316, 0.28897338, 0.21673004,\n",
       "       0.56958175, 0.46463878, 0.55437262, 0.4851711 , 0.50342205,\n",
       "       0.54980989, 0.70646388, 0.46311787, 0.9878327 , 0.45627376,\n",
       "       0.20304183, 0.41596958, 0.74372624, 0.51102662, 0.42281369,\n",
       "       0.62965779, 0.71711027, 0.60152091, 0.38250951, 0.45931559,\n",
       "       0.4608365 , 0.54448669, 0.55665399, 0.63802281, 0.57794677,\n",
       "       0.53764259, 0.7095057 , 0.39239544, 0.08973384, 0.41064639,\n",
       "       0.54676806, 0.37262357, 0.33764259, 0.66996198, 0.46387833,\n",
       "       0.55057034, 0.79467681, 0.46311787, 0.42281369, 0.55437262,\n",
       "       0.89201521, 0.44410646, 0.41368821, 0.59923954, 0.41444867,\n",
       "       0.68973384, 0.59695817, 0.86463878, 0.21520913, 0.68441065,\n",
       "       0.38098859, 0.4661597 , 0.63422053, 0.55741445, 0.        ,\n",
       "       0.69885932, 0.49581749, 0.83954373, 0.48212928, 0.31178707,\n",
       "       0.4486692 , 0.41673004, 0.30874525, 0.55969582, 0.78022814,\n",
       "       0.56653992, 0.56806084, 0.77034221, 0.70646388, 0.39011407,\n",
       "       0.33764259, 0.39923954, 0.20988593, 0.67452471, 0.90114068,\n",
       "       0.37262357, 0.2973384 , 0.63954373, 0.17870722, 0.46768061,\n",
       "       0.53764259, 0.71863118, 0.57110266, 0.49429658, 0.25171103,\n",
       "       0.47224335, 0.69429658, 0.73079848, 0.51102662, 0.30190114,\n",
       "       0.69885932, 0.80608365, 0.64258555, 0.63574144, 0.63269962,\n",
       "       0.60304183, 0.52775665, 0.45323194, 0.41444867, 0.21520913,\n",
       "       0.40228137, 0.74904943, 0.77870722, 0.62889734, 0.51634981,\n",
       "       0.51254753, 0.65703422, 0.48821293, 0.67148289, 0.51102662,\n",
       "       0.42357414, 0.45171103, 0.30038023, 0.74220532, 0.52547529,\n",
       "       0.5338403 , 0.44030418, 0.478327  , 0.71711027, 0.5581749 ,\n",
       "       0.47984791, 0.72395437, 0.43422053, 0.58098859, 0.38098859,\n",
       "       0.48821293, 0.4608365 , 0.56958175, 0.51102662, 0.62585551,\n",
       "       0.86235741, 0.50722433, 0.46996198, 0.46311787, 0.58403042,\n",
       "       0.99315589, 0.28745247, 0.51102662, 0.35057034, 0.92243346,\n",
       "       0.25855513, 0.61064639, 0.50114068, 0.49277567, 0.5148289 ])"
      ]
     },
     "execution_count": 94,
     "metadata": {},
     "output_type": "execute_result"
    }
   ],
   "source": [
    "population.get_distances(normalize=True)"
   ]
  },
  {
   "cell_type": "code",
   "execution_count": 93,
   "metadata": {},
   "outputs": [
    {
     "data": {
      "image/png": "[encoded data removed]",
      "text/plain": [
       "<Figure size 640x480 with 1 Axes>"
      ]
     },
     "metadata": {},
     "output_type": "display_data"
    }
   ],
   "source": [
    "for i in histories:\n",
    "    plt.plot(pd.DataFrame(i).T[1])"
   ]
  },
  {
   "cell_type": "code",
   "execution_count": 33,
   "metadata": {},
   "outputs": [
    {
     "name": "stdout",
     "output_type": "stream",
     "text": [
      "Best individual of gen #1: 45. Mean fitness: 63.3059\n",
      "Best individual of gen #2: 45. Mean fitness: 64.251\n",
      "Best individual of gen #3: 45. Mean fitness: 63.6732\n",
      "Best individual of gen #4: 45. Mean fitness: 63.6267\n"
     ]
    },
    {
     "ename": "KeyboardInterrupt",
     "evalue": "",
     "output_type": "error",
     "traceback": [
      "\u001b[0;31m---------------------------------------------------------------------------\u001b[0m",
      "\u001b[0;31mKeyboardInterrupt\u001b[0m                         Traceback (most recent call last)",
      "Cell \u001b[0;32mIn[33], line 6\u001b[0m\n\u001b[1;32m      1\u001b[0m population \u001b[38;5;241m=\u001b[39m pop\u001b[38;5;241m.\u001b[39mPopulation(\n\u001b[1;32m      2\u001b[0m initial_board\u001b[38;5;241m=\u001b[39mtest_board,\n\u001b[1;32m      3\u001b[0m size\u001b[38;5;241m=\u001b[39m\u001b[38;5;241m10000\u001b[39m\n\u001b[1;32m      4\u001b[0m )\n\u001b[0;32m----> 6\u001b[0m population\u001b[38;5;241m.\u001b[39mevolve(gens \u001b[38;5;241m=\u001b[39m \u001b[38;5;241m2000\u001b[39m,\n\u001b[1;32m      7\u001b[0m                     xo_prob \u001b[38;5;241m=\u001b[39m \u001b[38;5;241m0\u001b[39m,\n\u001b[1;32m      8\u001b[0m                     mut_prob \u001b[38;5;241m=\u001b[39m \u001b[38;5;241m0.8\u001b[39m, \n\u001b[1;32m      9\u001b[0m                     select_type\u001b[38;5;241m=\u001b[39m\u001b[38;5;124m'\u001b[39m\u001b[38;5;124mtournament\u001b[39m\u001b[38;5;124m'\u001b[39m, \n\u001b[1;32m     10\u001b[0m                     xo \u001b[38;5;241m=\u001b[39m \u001b[38;5;124m'\u001b[39m\u001b[38;5;124mmulti_point\u001b[39m\u001b[38;5;124m'\u001b[39m, \n\u001b[1;32m     11\u001b[0m                     elite_size\u001b[38;5;241m=\u001b[39m \u001b[38;5;241m10\u001b[39m,\n\u001b[1;32m     12\u001b[0m                     keep_distribution\u001b[38;5;241m=\u001b[39m\u001b[38;5;28;01mFalse\u001b[39;00m,\n\u001b[1;32m     13\u001b[0m                     mutation\u001b[38;5;241m=\u001b[39m\u001b[38;5;124m'\u001b[39m\u001b[38;5;124mchange\u001b[39m\u001b[38;5;124m'\u001b[39m, \n\u001b[1;32m     14\u001b[0m                     swap_number \u001b[38;5;241m=\u001b[39m \u001b[38;5;241m3\u001b[39m)\n",
      "File \u001b[0;32m~/Documents/Nova IMS current/CO/CIFO24/Objects/population.py:44\u001b[0m, in \u001b[0;36mPopulation.evolve\u001b[0;34m(self, gens, xo_prob, mut_prob, select_type, xo, elite_size, mutation, swap_number, keep_distribution)\u001b[0m\n\u001b[1;32m     41\u001b[0m     best_individuals \u001b[38;5;241m=\u001b[39m \u001b[38;5;28mself\u001b[39m\u001b[38;5;241m.\u001b[39mget_best_individuals(elite_size)\n\u001b[1;32m     43\u001b[0m \u001b[38;5;28mself\u001b[39m\u001b[38;5;241m.\u001b[39mselection(select_type)\n\u001b[0;32m---> 44\u001b[0m \u001b[38;5;28mself\u001b[39m\u001b[38;5;241m.\u001b[39mcrossover(\u001b[38;5;28mtype\u001b[39m\u001b[38;5;241m=\u001b[39mxo, prob\u001b[38;5;241m=\u001b[39mxo_prob)\n\u001b[1;32m     45\u001b[0m \u001b[38;5;28;01mfor\u001b[39;00m j \u001b[38;5;129;01min\u001b[39;00m \u001b[38;5;28mrange\u001b[39m(\u001b[38;5;28mlen\u001b[39m(\u001b[38;5;28mself\u001b[39m\u001b[38;5;241m.\u001b[39mindividuals)):\n\u001b[1;32m     46\u001b[0m     \u001b[38;5;28mself\u001b[39m[j] \u001b[38;5;241m=\u001b[39m \u001b[38;5;28mself\u001b[39m[j]\u001b[38;5;241m.\u001b[39mmutate(mut_prob, swap_number, mutation\u001b[38;5;241m=\u001b[39mmutation)\n",
      "File \u001b[0;32m~/Documents/Nova IMS current/CO/CIFO24/Objects/population.py:136\u001b[0m, in \u001b[0;36mPopulation.crossover\u001b[0;34m(self, type, prob, elitism)\u001b[0m\n\u001b[1;32m    133\u001b[0m     \u001b[38;5;28mself\u001b[39m\u001b[38;5;241m.\u001b[39msingle_point(prob)\n\u001b[1;32m    135\u001b[0m \u001b[38;5;28;01mif\u001b[39;00m \u001b[38;5;28mtype\u001b[39m \u001b[38;5;241m==\u001b[39m \u001b[38;5;124m'\u001b[39m\u001b[38;5;124mmulti_point\u001b[39m\u001b[38;5;124m'\u001b[39m:\n\u001b[0;32m--> 136\u001b[0m     \u001b[38;5;28;01mreturn\u001b[39;00m \u001b[38;5;28mself\u001b[39m\u001b[38;5;241m.\u001b[39mmulti_point(prob)\n\u001b[1;32m    138\u001b[0m \u001b[38;5;28;01melif\u001b[39;00m \u001b[38;5;28mtype\u001b[39m \u001b[38;5;241m==\u001b[39m \u001b[38;5;124m'\u001b[39m\u001b[38;5;124mpmxc\u001b[39m\u001b[38;5;124m'\u001b[39m:\n\u001b[1;32m    139\u001b[0m     \u001b[38;5;28mself\u001b[39m\u001b[38;5;241m.\u001b[39mpmx_crossover()\n",
      "File \u001b[0;32m~/Documents/Nova IMS current/CO/CIFO24/Objects/population.py:285\u001b[0m, in \u001b[0;36mPopulation.multi_point\u001b[0;34m(self, elitism, num_points, prob, keep_distribution)\u001b[0m\n\u001b[1;32m    283\u001b[0m board \u001b[38;5;241m=\u001b[39m deepcopy(\u001b[38;5;28mself\u001b[39m\u001b[38;5;241m.\u001b[39mindividuals[i]\u001b[38;5;241m.\u001b[39mboard)\n\u001b[1;32m    284\u001b[0m np\u001b[38;5;241m.\u001b[39mputmask(board, \u001b[38;5;28mself\u001b[39m\u001b[38;5;241m.\u001b[39mindividuals[i]\u001b[38;5;241m.\u001b[39mswap_points, swappable)\n\u001b[0;32m--> 285\u001b[0m \u001b[38;5;28mself\u001b[39m\u001b[38;5;241m.\u001b[39mindividuals[i] \u001b[38;5;241m=\u001b[39m Sudoku(initial_board\u001b[38;5;241m=\u001b[39m\u001b[38;5;28mself\u001b[39m\u001b[38;5;241m.\u001b[39mindividuals[i]\u001b[38;5;241m.\u001b[39minitial_board, board\u001b[38;5;241m=\u001b[39mboard)\n",
      "File \u001b[0;32m~/Documents/Nova IMS current/CO/CIFO24/Objects/sudoku.py:43\u001b[0m, in \u001b[0;36mSudoku.__init__\u001b[0;34m(self, initial_board, board, fill_board, size, difficulty, fitness_function, hill_climbing_args, diff_function)\u001b[0m\n\u001b[1;32m     40\u001b[0m     \u001b[38;5;28mself\u001b[39m\u001b[38;5;241m.\u001b[39mboard \u001b[38;5;241m=\u001b[39m board\u001b[38;5;241m.\u001b[39mcopy()\n\u001b[1;32m     42\u001b[0m \u001b[38;5;28mself\u001b[39m\u001b[38;5;241m.\u001b[39mswappable_positions \u001b[38;5;241m=\u001b[39m \u001b[38;5;28mlist\u001b[39m(\u001b[38;5;28mzip\u001b[39m(\u001b[38;5;241m*\u001b[39mnp\u001b[38;5;241m.\u001b[39mwhere(\u001b[38;5;28mself\u001b[39m\u001b[38;5;241m.\u001b[39minitial_board \u001b[38;5;241m==\u001b[39m \u001b[38;5;241m0\u001b[39m)))\n\u001b[0;32m---> 43\u001b[0m \u001b[38;5;28mself\u001b[39m\u001b[38;5;241m.\u001b[39mfitness \u001b[38;5;241m=\u001b[39m fitness_function(\u001b[38;5;28mself\u001b[39m\u001b[38;5;241m.\u001b[39mboard)\n\u001b[1;32m     45\u001b[0m \u001b[38;5;66;03m# Other attributes for crossover\u001b[39;00m\n\u001b[1;32m     46\u001b[0m \u001b[38;5;28mself\u001b[39m\u001b[38;5;241m.\u001b[39mswap_points \u001b[38;5;241m=\u001b[39m \u001b[38;5;28mself\u001b[39m\u001b[38;5;241m.\u001b[39minitial_board \u001b[38;5;241m==\u001b[39m \u001b[38;5;241m0\u001b[39m\n",
      "File \u001b[0;32m~/Documents/Nova IMS current/CO/CIFO24/Operators/fitness.py:13\u001b[0m, in \u001b[0;36mfitness\u001b[0;34m(board)\u001b[0m\n\u001b[1;32m     10\u001b[0m N \u001b[38;5;241m=\u001b[39m board\u001b[38;5;241m.\u001b[39mshape[\u001b[38;5;241m0\u001b[39m]\n\u001b[1;32m     12\u001b[0m row_sum \u001b[38;5;241m=\u001b[39m np\u001b[38;5;241m.\u001b[39msum([row_conflicts(board, i) \u001b[38;5;28;01mfor\u001b[39;00m i \u001b[38;5;129;01min\u001b[39;00m \u001b[38;5;28mrange\u001b[39m(N)])\n\u001b[0;32m---> 13\u001b[0m column_sum \u001b[38;5;241m=\u001b[39m np\u001b[38;5;241m.\u001b[39msum([col_conflicts(board, i) \u001b[38;5;28;01mfor\u001b[39;00m i \u001b[38;5;129;01min\u001b[39;00m \u001b[38;5;28mrange\u001b[39m(N)])\n\u001b[1;32m     14\u001b[0m box_sum \u001b[38;5;241m=\u001b[39m np\u001b[38;5;241m.\u001b[39msum([box_conflicts(board, i) \u001b[38;5;28;01mfor\u001b[39;00m i \u001b[38;5;129;01min\u001b[39;00m \u001b[38;5;28mrange\u001b[39m(N)])\n\u001b[1;32m     15\u001b[0m \u001b[38;5;28;01mreturn\u001b[39;00m row_sum \u001b[38;5;241m+\u001b[39m column_sum \u001b[38;5;241m+\u001b[39m box_sum\n",
      "File \u001b[0;32m~/Documents/Nova IMS current/CO/CIFO24/Operators/fitness.py:13\u001b[0m, in \u001b[0;36m<listcomp>\u001b[0;34m(.0)\u001b[0m\n\u001b[1;32m     10\u001b[0m N \u001b[38;5;241m=\u001b[39m board\u001b[38;5;241m.\u001b[39mshape[\u001b[38;5;241m0\u001b[39m]\n\u001b[1;32m     12\u001b[0m row_sum \u001b[38;5;241m=\u001b[39m np\u001b[38;5;241m.\u001b[39msum([row_conflicts(board, i) \u001b[38;5;28;01mfor\u001b[39;00m i \u001b[38;5;129;01min\u001b[39;00m \u001b[38;5;28mrange\u001b[39m(N)])\n\u001b[0;32m---> 13\u001b[0m column_sum \u001b[38;5;241m=\u001b[39m np\u001b[38;5;241m.\u001b[39msum([col_conflicts(board, i) \u001b[38;5;28;01mfor\u001b[39;00m i \u001b[38;5;129;01min\u001b[39;00m \u001b[38;5;28mrange\u001b[39m(N)])\n\u001b[1;32m     14\u001b[0m box_sum \u001b[38;5;241m=\u001b[39m np\u001b[38;5;241m.\u001b[39msum([box_conflicts(board, i) \u001b[38;5;28;01mfor\u001b[39;00m i \u001b[38;5;129;01min\u001b[39;00m \u001b[38;5;28mrange\u001b[39m(N)])\n\u001b[1;32m     15\u001b[0m \u001b[38;5;28;01mreturn\u001b[39;00m row_sum \u001b[38;5;241m+\u001b[39m column_sum \u001b[38;5;241m+\u001b[39m box_sum\n",
      "File \u001b[0;32m~/Documents/Nova IMS current/CO/CIFO24/Operators/conflicts.py:24\u001b[0m, in \u001b[0;36mcol_conflicts\u001b[0;34m(board, position)\u001b[0m\n\u001b[1;32m     22\u001b[0m column \u001b[38;5;241m=\u001b[39m position \u001b[38;5;28;01mif\u001b[39;00m \u001b[38;5;28mtype\u001b[39m(position) \u001b[38;5;241m==\u001b[39m \u001b[38;5;28mint\u001b[39m \u001b[38;5;28;01melse\u001b[39;00m position[\u001b[38;5;241m1\u001b[39m]\n\u001b[1;32m     23\u001b[0m column_values \u001b[38;5;241m=\u001b[39m board[:, column]\n\u001b[0;32m---> 24\u001b[0m \u001b[38;5;28;01mreturn\u001b[39;00m N \u001b[38;5;241m-\u001b[39m \u001b[38;5;28mlen\u001b[39m(np\u001b[38;5;241m.\u001b[39munique(column_values))\n",
      "File \u001b[0;32m<__array_function__ internals>:200\u001b[0m, in \u001b[0;36munique\u001b[0;34m(*args, **kwargs)\u001b[0m\n",
      "File \u001b[0;32m~/anaconda3/lib/python3.11/site-packages/numpy/lib/arraysetops.py:276\u001b[0m, in \u001b[0;36munique\u001b[0;34m(ar, return_index, return_inverse, return_counts, axis, equal_nan)\u001b[0m\n\u001b[1;32m    273\u001b[0m \u001b[38;5;28;01mif\u001b[39;00m axis \u001b[38;5;129;01mis\u001b[39;00m \u001b[38;5;28;01mNone\u001b[39;00m:\n\u001b[1;32m    274\u001b[0m     ret \u001b[38;5;241m=\u001b[39m _unique1d(ar, return_index, return_inverse, return_counts, \n\u001b[1;32m    275\u001b[0m                     equal_nan\u001b[38;5;241m=\u001b[39mequal_nan)\n\u001b[0;32m--> 276\u001b[0m     \u001b[38;5;28;01mreturn\u001b[39;00m _unpack_tuple(ret)\n\u001b[1;32m    278\u001b[0m \u001b[38;5;66;03m# axis was specified and not None\u001b[39;00m\n\u001b[1;32m    279\u001b[0m \u001b[38;5;28;01mtry\u001b[39;00m:\n",
      "File \u001b[0;32m~/anaconda3/lib/python3.11/site-packages/numpy/lib/arraysetops.py:125\u001b[0m, in \u001b[0;36m_unpack_tuple\u001b[0;34m(x)\u001b[0m\n\u001b[1;32m    121\u001b[0m     np\u001b[38;5;241m.\u001b[39msubtract(ary[\u001b[38;5;241m1\u001b[39m:], ary[:\u001b[38;5;241m-\u001b[39m\u001b[38;5;241m1\u001b[39m], result[l_begin:l_begin \u001b[38;5;241m+\u001b[39m l_diff])\n\u001b[1;32m    122\u001b[0m     \u001b[38;5;28;01mreturn\u001b[39;00m result\n\u001b[0;32m--> 125\u001b[0m \u001b[38;5;28;01mdef\u001b[39;00m \u001b[38;5;21m_unpack_tuple\u001b[39m(x):\n\u001b[1;32m    126\u001b[0m \u001b[38;5;250m    \u001b[39m\u001b[38;5;124;03m\"\"\" Unpacks one-element tuples for use as return values \"\"\"\u001b[39;00m\n\u001b[1;32m    127\u001b[0m     \u001b[38;5;28;01mif\u001b[39;00m \u001b[38;5;28mlen\u001b[39m(x) \u001b[38;5;241m==\u001b[39m \u001b[38;5;241m1\u001b[39m:\n",
      "\u001b[0;31mKeyboardInterrupt\u001b[0m: "
     ]
    }
   ],
   "source": [
    "population = pop.Population(\n",
    "initial_board=test_board,\n",
    "size=10000\n",
    ")\n",
    "\n",
    "population.evolve(gens = 2000,\n",
    "                    xo_prob = 0,\n",
    "                    mut_prob = 0.8, \n",
    "                    select_type='tournament', \n",
    "                    xo = 'multi_point', \n",
    "                    elite_size= 10,\n",
    "                    keep_distribution=False,\n",
    "                    mutation='change', \n",
    "                    swap_number = 3)"
   ]
  },
  {
   "cell_type": "code",
   "execution_count": 22,
   "metadata": {},
   "outputs": [
    {
     "data": {
      "text/plain": [
       "array([[0, 2, 9, 0, 7, 1, 4, 0, 6],\n",
       "       [0, 0, 4, 6, 8, 3, 0, 0, 7],\n",
       "       [6, 7, 0, 9, 0, 0, 0, 0, 8],\n",
       "       [0, 0, 0, 4, 0, 7, 0, 0, 3],\n",
       "       [0, 6, 2, 0, 1, 0, 8, 7, 9],\n",
       "       [5, 3, 0, 0, 9, 0, 0, 0, 4],\n",
       "       [0, 0, 0, 1, 0, 8, 7, 0, 5],\n",
       "       [7, 9, 5, 2, 0, 0, 0, 8, 0],\n",
       "       [0, 0, 1, 0, 0, 0, 6, 4, 2]], dtype=object)"
      ]
     },
     "execution_count": 22,
     "metadata": {},
     "output_type": "execute_result"
    }
   ],
   "source": []
  },
  {
   "cell_type": "code",
   "execution_count": null,
   "metadata": {},
   "outputs": [],
   "source": []
  }
 ],
 "metadata": {
  "kernelspec": {
   "display_name": "Python 3",
   "language": "python",
   "name": "python3"
  },
  "language_info": {
   "codemirror_mode": {
    "name": "ipython",
    "version": 3
   },
   "file_extension": ".py",
   "mimetype": "text/x-python",
   "name": "python",
   "nbconvert_exporter": "python",
   "pygments_lexer": "ipython3",
   "version": "3.11.3"
  }
 },
 "nbformat": 4,
 "nbformat_minor": 2
}
