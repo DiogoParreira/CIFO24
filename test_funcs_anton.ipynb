{
 "cells": [
  {
   "cell_type": "code",
   "execution_count": 1,
   "metadata": {},
   "outputs": [],
   "source": [
    "import Objects.population as pop\n",
    "import numpy as np"
   ]
  },
  {
   "cell_type": "code",
   "execution_count": 20,
   "metadata": {},
   "outputs": [],
   "source": [
    "test_board = np.array([[9, 4, 7, 3, 2, 6, 5, 8, 1],\n",
    "       [0, 0, 0, 0, 0, 0, 0, 0, 0],\n",
    "       [0, 0, 0, 0, 0, 0, 0, 0, 0],\n",
    "       [4, 7, 3, 5, 9, 2, 1, 6, 8],\n",
    "       [1, 2, 9, 8, 0, 4, 7, 3, 5],\n",
    "       [5, 6, 8, 7, 1, 3, 4, 9, 2],\n",
    "       [7, 9, 2, 4, 5, 8, 3, 1, 6],\n",
    "       [6, 1, 5, 2, 3, 9, 8, 7, 4],\n",
    "       [3, 8, 4, 6, 7, 1, 2, 5, 9]])"
   ]
  },
  {
   "cell_type": "code",
   "execution_count": 3,
   "metadata": {},
   "outputs": [],
   "source": [
    "# !pip install py-sudoku\n",
    "from sudoku import Sudoku "
   ]
  },
  {
   "cell_type": "code",
   "execution_count": 25,
   "metadata": {},
   "outputs": [
    {
     "data": {
      "text/plain": [
       "array([[1, 7, 5, 2, 0, 0, 0, 6, 8],\n",
       "       [3, 0, 4, 8, 1, 0, 7, 2, 0],\n",
       "       [8, 2, 0, 0, 6, 0, 0, 3, 4],\n",
       "       [0, 8, 0, 0, 0, 2, 0, 0, 0],\n",
       "       [9, 0, 0, 7, 0, 0, 5, 8, 6],\n",
       "       [7, 3, 0, 6, 0, 0, 2, 0, 0],\n",
       "       [0, 9, 8, 0, 0, 4, 0, 7, 1],\n",
       "       [4, 0, 0, 0, 0, 0, 8, 5, 0],\n",
       "       [6, 5, 3, 0, 0, 8, 0, 0, 2]])"
      ]
     },
     "execution_count": 25,
     "metadata": {},
     "output_type": "execute_result"
    }
   ],
   "source": [
    "puzzle = Sudoku(3).difficulty(0.5)\n",
    "test_board = np.where(np.array(puzzle.board) == None, 0, np.array(puzzle.board)).astype(int)\n",
    "test_board"
   ]
  },
  {
   "cell_type": "code",
   "execution_count": 33,
   "metadata": {},
   "outputs": [
    {
     "name": "stdout",
     "output_type": "stream",
     "text": [
      "Best individual of gen #1: 45. Mean fitness: 63.3059\n",
      "Best individual of gen #2: 45. Mean fitness: 64.251\n",
      "Best individual of gen #3: 45. Mean fitness: 63.6732\n",
      "Best individual of gen #4: 45. Mean fitness: 63.6267\n"
     ]
    },
    {
     "ename": "KeyboardInterrupt",
     "evalue": "",
     "output_type": "error",
     "traceback": [
      "\u001b[0;31m---------------------------------------------------------------------------\u001b[0m",
      "\u001b[0;31mKeyboardInterrupt\u001b[0m                         Traceback (most recent call last)",
      "Cell \u001b[0;32mIn[33], line 6\u001b[0m\n\u001b[1;32m      1\u001b[0m population \u001b[38;5;241m=\u001b[39m pop\u001b[38;5;241m.\u001b[39mPopulation(\n\u001b[1;32m      2\u001b[0m initial_board\u001b[38;5;241m=\u001b[39mtest_board,\n\u001b[1;32m      3\u001b[0m size\u001b[38;5;241m=\u001b[39m\u001b[38;5;241m10000\u001b[39m\n\u001b[1;32m      4\u001b[0m )\n\u001b[0;32m----> 6\u001b[0m population\u001b[38;5;241m.\u001b[39mevolve(gens \u001b[38;5;241m=\u001b[39m \u001b[38;5;241m2000\u001b[39m,\n\u001b[1;32m      7\u001b[0m                     xo_prob \u001b[38;5;241m=\u001b[39m \u001b[38;5;241m0\u001b[39m,\n\u001b[1;32m      8\u001b[0m                     mut_prob \u001b[38;5;241m=\u001b[39m \u001b[38;5;241m0.8\u001b[39m, \n\u001b[1;32m      9\u001b[0m                     select_type\u001b[38;5;241m=\u001b[39m\u001b[38;5;124m'\u001b[39m\u001b[38;5;124mtournament\u001b[39m\u001b[38;5;124m'\u001b[39m, \n\u001b[1;32m     10\u001b[0m                     xo \u001b[38;5;241m=\u001b[39m \u001b[38;5;124m'\u001b[39m\u001b[38;5;124mmulti_point\u001b[39m\u001b[38;5;124m'\u001b[39m, \n\u001b[1;32m     11\u001b[0m                     elite_size\u001b[38;5;241m=\u001b[39m \u001b[38;5;241m10\u001b[39m,\n\u001b[1;32m     12\u001b[0m                     keep_distribution\u001b[38;5;241m=\u001b[39m\u001b[38;5;28;01mFalse\u001b[39;00m,\n\u001b[1;32m     13\u001b[0m                     mutation\u001b[38;5;241m=\u001b[39m\u001b[38;5;124m'\u001b[39m\u001b[38;5;124mchange\u001b[39m\u001b[38;5;124m'\u001b[39m, \n\u001b[1;32m     14\u001b[0m                     swap_number \u001b[38;5;241m=\u001b[39m \u001b[38;5;241m3\u001b[39m)\n",
      "File \u001b[0;32m~/Documents/Nova IMS current/CO/CIFO24/Objects/population.py:44\u001b[0m, in \u001b[0;36mPopulation.evolve\u001b[0;34m(self, gens, xo_prob, mut_prob, select_type, xo, elite_size, mutation, swap_number, keep_distribution)\u001b[0m\n\u001b[1;32m     41\u001b[0m     best_individuals \u001b[38;5;241m=\u001b[39m \u001b[38;5;28mself\u001b[39m\u001b[38;5;241m.\u001b[39mget_best_individuals(elite_size)\n\u001b[1;32m     43\u001b[0m \u001b[38;5;28mself\u001b[39m\u001b[38;5;241m.\u001b[39mselection(select_type)\n\u001b[0;32m---> 44\u001b[0m \u001b[38;5;28mself\u001b[39m\u001b[38;5;241m.\u001b[39mcrossover(\u001b[38;5;28mtype\u001b[39m\u001b[38;5;241m=\u001b[39mxo, prob\u001b[38;5;241m=\u001b[39mxo_prob)\n\u001b[1;32m     45\u001b[0m \u001b[38;5;28;01mfor\u001b[39;00m j \u001b[38;5;129;01min\u001b[39;00m \u001b[38;5;28mrange\u001b[39m(\u001b[38;5;28mlen\u001b[39m(\u001b[38;5;28mself\u001b[39m\u001b[38;5;241m.\u001b[39mindividuals)):\n\u001b[1;32m     46\u001b[0m     \u001b[38;5;28mself\u001b[39m[j] \u001b[38;5;241m=\u001b[39m \u001b[38;5;28mself\u001b[39m[j]\u001b[38;5;241m.\u001b[39mmutate(mut_prob, swap_number, mutation\u001b[38;5;241m=\u001b[39mmutation)\n",
      "File \u001b[0;32m~/Documents/Nova IMS current/CO/CIFO24/Objects/population.py:136\u001b[0m, in \u001b[0;36mPopulation.crossover\u001b[0;34m(self, type, prob, elitism)\u001b[0m\n\u001b[1;32m    133\u001b[0m     \u001b[38;5;28mself\u001b[39m\u001b[38;5;241m.\u001b[39msingle_point(prob)\n\u001b[1;32m    135\u001b[0m \u001b[38;5;28;01mif\u001b[39;00m \u001b[38;5;28mtype\u001b[39m \u001b[38;5;241m==\u001b[39m \u001b[38;5;124m'\u001b[39m\u001b[38;5;124mmulti_point\u001b[39m\u001b[38;5;124m'\u001b[39m:\n\u001b[0;32m--> 136\u001b[0m     \u001b[38;5;28;01mreturn\u001b[39;00m \u001b[38;5;28mself\u001b[39m\u001b[38;5;241m.\u001b[39mmulti_point(prob)\n\u001b[1;32m    138\u001b[0m \u001b[38;5;28;01melif\u001b[39;00m \u001b[38;5;28mtype\u001b[39m \u001b[38;5;241m==\u001b[39m \u001b[38;5;124m'\u001b[39m\u001b[38;5;124mpmxc\u001b[39m\u001b[38;5;124m'\u001b[39m:\n\u001b[1;32m    139\u001b[0m     \u001b[38;5;28mself\u001b[39m\u001b[38;5;241m.\u001b[39mpmx_crossover()\n",
      "File \u001b[0;32m~/Documents/Nova IMS current/CO/CIFO24/Objects/population.py:285\u001b[0m, in \u001b[0;36mPopulation.multi_point\u001b[0;34m(self, elitism, num_points, prob, keep_distribution)\u001b[0m\n\u001b[1;32m    283\u001b[0m board \u001b[38;5;241m=\u001b[39m deepcopy(\u001b[38;5;28mself\u001b[39m\u001b[38;5;241m.\u001b[39mindividuals[i]\u001b[38;5;241m.\u001b[39mboard)\n\u001b[1;32m    284\u001b[0m np\u001b[38;5;241m.\u001b[39mputmask(board, \u001b[38;5;28mself\u001b[39m\u001b[38;5;241m.\u001b[39mindividuals[i]\u001b[38;5;241m.\u001b[39mswap_points, swappable)\n\u001b[0;32m--> 285\u001b[0m \u001b[38;5;28mself\u001b[39m\u001b[38;5;241m.\u001b[39mindividuals[i] \u001b[38;5;241m=\u001b[39m Sudoku(initial_board\u001b[38;5;241m=\u001b[39m\u001b[38;5;28mself\u001b[39m\u001b[38;5;241m.\u001b[39mindividuals[i]\u001b[38;5;241m.\u001b[39minitial_board, board\u001b[38;5;241m=\u001b[39mboard)\n",
      "File \u001b[0;32m~/Documents/Nova IMS current/CO/CIFO24/Objects/sudoku.py:43\u001b[0m, in \u001b[0;36mSudoku.__init__\u001b[0;34m(self, initial_board, board, fill_board, size, difficulty, fitness_function, hill_climbing_args, diff_function)\u001b[0m\n\u001b[1;32m     40\u001b[0m     \u001b[38;5;28mself\u001b[39m\u001b[38;5;241m.\u001b[39mboard \u001b[38;5;241m=\u001b[39m board\u001b[38;5;241m.\u001b[39mcopy()\n\u001b[1;32m     42\u001b[0m \u001b[38;5;28mself\u001b[39m\u001b[38;5;241m.\u001b[39mswappable_positions \u001b[38;5;241m=\u001b[39m \u001b[38;5;28mlist\u001b[39m(\u001b[38;5;28mzip\u001b[39m(\u001b[38;5;241m*\u001b[39mnp\u001b[38;5;241m.\u001b[39mwhere(\u001b[38;5;28mself\u001b[39m\u001b[38;5;241m.\u001b[39minitial_board \u001b[38;5;241m==\u001b[39m \u001b[38;5;241m0\u001b[39m)))\n\u001b[0;32m---> 43\u001b[0m \u001b[38;5;28mself\u001b[39m\u001b[38;5;241m.\u001b[39mfitness \u001b[38;5;241m=\u001b[39m fitness_function(\u001b[38;5;28mself\u001b[39m\u001b[38;5;241m.\u001b[39mboard)\n\u001b[1;32m     45\u001b[0m \u001b[38;5;66;03m# Other attributes for crossover\u001b[39;00m\n\u001b[1;32m     46\u001b[0m \u001b[38;5;28mself\u001b[39m\u001b[38;5;241m.\u001b[39mswap_points \u001b[38;5;241m=\u001b[39m \u001b[38;5;28mself\u001b[39m\u001b[38;5;241m.\u001b[39minitial_board \u001b[38;5;241m==\u001b[39m \u001b[38;5;241m0\u001b[39m\n",
      "File \u001b[0;32m~/Documents/Nova IMS current/CO/CIFO24/Operators/fitness.py:13\u001b[0m, in \u001b[0;36mfitness\u001b[0;34m(board)\u001b[0m\n\u001b[1;32m     10\u001b[0m N \u001b[38;5;241m=\u001b[39m board\u001b[38;5;241m.\u001b[39mshape[\u001b[38;5;241m0\u001b[39m]\n\u001b[1;32m     12\u001b[0m row_sum \u001b[38;5;241m=\u001b[39m np\u001b[38;5;241m.\u001b[39msum([row_conflicts(board, i) \u001b[38;5;28;01mfor\u001b[39;00m i \u001b[38;5;129;01min\u001b[39;00m \u001b[38;5;28mrange\u001b[39m(N)])\n\u001b[0;32m---> 13\u001b[0m column_sum \u001b[38;5;241m=\u001b[39m np\u001b[38;5;241m.\u001b[39msum([col_conflicts(board, i) \u001b[38;5;28;01mfor\u001b[39;00m i \u001b[38;5;129;01min\u001b[39;00m \u001b[38;5;28mrange\u001b[39m(N)])\n\u001b[1;32m     14\u001b[0m box_sum \u001b[38;5;241m=\u001b[39m np\u001b[38;5;241m.\u001b[39msum([box_conflicts(board, i) \u001b[38;5;28;01mfor\u001b[39;00m i \u001b[38;5;129;01min\u001b[39;00m \u001b[38;5;28mrange\u001b[39m(N)])\n\u001b[1;32m     15\u001b[0m \u001b[38;5;28;01mreturn\u001b[39;00m row_sum \u001b[38;5;241m+\u001b[39m column_sum \u001b[38;5;241m+\u001b[39m box_sum\n",
      "File \u001b[0;32m~/Documents/Nova IMS current/CO/CIFO24/Operators/fitness.py:13\u001b[0m, in \u001b[0;36m<listcomp>\u001b[0;34m(.0)\u001b[0m\n\u001b[1;32m     10\u001b[0m N \u001b[38;5;241m=\u001b[39m board\u001b[38;5;241m.\u001b[39mshape[\u001b[38;5;241m0\u001b[39m]\n\u001b[1;32m     12\u001b[0m row_sum \u001b[38;5;241m=\u001b[39m np\u001b[38;5;241m.\u001b[39msum([row_conflicts(board, i) \u001b[38;5;28;01mfor\u001b[39;00m i \u001b[38;5;129;01min\u001b[39;00m \u001b[38;5;28mrange\u001b[39m(N)])\n\u001b[0;32m---> 13\u001b[0m column_sum \u001b[38;5;241m=\u001b[39m np\u001b[38;5;241m.\u001b[39msum([col_conflicts(board, i) \u001b[38;5;28;01mfor\u001b[39;00m i \u001b[38;5;129;01min\u001b[39;00m \u001b[38;5;28mrange\u001b[39m(N)])\n\u001b[1;32m     14\u001b[0m box_sum \u001b[38;5;241m=\u001b[39m np\u001b[38;5;241m.\u001b[39msum([box_conflicts(board, i) \u001b[38;5;28;01mfor\u001b[39;00m i \u001b[38;5;129;01min\u001b[39;00m \u001b[38;5;28mrange\u001b[39m(N)])\n\u001b[1;32m     15\u001b[0m \u001b[38;5;28;01mreturn\u001b[39;00m row_sum \u001b[38;5;241m+\u001b[39m column_sum \u001b[38;5;241m+\u001b[39m box_sum\n",
      "File \u001b[0;32m~/Documents/Nova IMS current/CO/CIFO24/Operators/conflicts.py:24\u001b[0m, in \u001b[0;36mcol_conflicts\u001b[0;34m(board, position)\u001b[0m\n\u001b[1;32m     22\u001b[0m column \u001b[38;5;241m=\u001b[39m position \u001b[38;5;28;01mif\u001b[39;00m \u001b[38;5;28mtype\u001b[39m(position) \u001b[38;5;241m==\u001b[39m \u001b[38;5;28mint\u001b[39m \u001b[38;5;28;01melse\u001b[39;00m position[\u001b[38;5;241m1\u001b[39m]\n\u001b[1;32m     23\u001b[0m column_values \u001b[38;5;241m=\u001b[39m board[:, column]\n\u001b[0;32m---> 24\u001b[0m \u001b[38;5;28;01mreturn\u001b[39;00m N \u001b[38;5;241m-\u001b[39m \u001b[38;5;28mlen\u001b[39m(np\u001b[38;5;241m.\u001b[39munique(column_values))\n",
      "File \u001b[0;32m<__array_function__ internals>:200\u001b[0m, in \u001b[0;36munique\u001b[0;34m(*args, **kwargs)\u001b[0m\n",
      "File \u001b[0;32m~/anaconda3/lib/python3.11/site-packages/numpy/lib/arraysetops.py:276\u001b[0m, in \u001b[0;36munique\u001b[0;34m(ar, return_index, return_inverse, return_counts, axis, equal_nan)\u001b[0m\n\u001b[1;32m    273\u001b[0m \u001b[38;5;28;01mif\u001b[39;00m axis \u001b[38;5;129;01mis\u001b[39;00m \u001b[38;5;28;01mNone\u001b[39;00m:\n\u001b[1;32m    274\u001b[0m     ret \u001b[38;5;241m=\u001b[39m _unique1d(ar, return_index, return_inverse, return_counts, \n\u001b[1;32m    275\u001b[0m                     equal_nan\u001b[38;5;241m=\u001b[39mequal_nan)\n\u001b[0;32m--> 276\u001b[0m     \u001b[38;5;28;01mreturn\u001b[39;00m _unpack_tuple(ret)\n\u001b[1;32m    278\u001b[0m \u001b[38;5;66;03m# axis was specified and not None\u001b[39;00m\n\u001b[1;32m    279\u001b[0m \u001b[38;5;28;01mtry\u001b[39;00m:\n",
      "File \u001b[0;32m~/anaconda3/lib/python3.11/site-packages/numpy/lib/arraysetops.py:125\u001b[0m, in \u001b[0;36m_unpack_tuple\u001b[0;34m(x)\u001b[0m\n\u001b[1;32m    121\u001b[0m     np\u001b[38;5;241m.\u001b[39msubtract(ary[\u001b[38;5;241m1\u001b[39m:], ary[:\u001b[38;5;241m-\u001b[39m\u001b[38;5;241m1\u001b[39m], result[l_begin:l_begin \u001b[38;5;241m+\u001b[39m l_diff])\n\u001b[1;32m    122\u001b[0m     \u001b[38;5;28;01mreturn\u001b[39;00m result\n\u001b[0;32m--> 125\u001b[0m \u001b[38;5;28;01mdef\u001b[39;00m \u001b[38;5;21m_unpack_tuple\u001b[39m(x):\n\u001b[1;32m    126\u001b[0m \u001b[38;5;250m    \u001b[39m\u001b[38;5;124;03m\"\"\" Unpacks one-element tuples for use as return values \"\"\"\u001b[39;00m\n\u001b[1;32m    127\u001b[0m     \u001b[38;5;28;01mif\u001b[39;00m \u001b[38;5;28mlen\u001b[39m(x) \u001b[38;5;241m==\u001b[39m \u001b[38;5;241m1\u001b[39m:\n",
      "\u001b[0;31mKeyboardInterrupt\u001b[0m: "
     ]
    }
   ],
   "source": [
    "population = pop.Population(\n",
    "initial_board=test_board,\n",
    "size=10000\n",
    ")\n",
    "\n",
    "population.evolve(gens = 2000,\n",
    "                    xo_prob = 0,\n",
    "                    mut_prob = 0.8, \n",
    "                    select_type='tournament', \n",
    "                    xo = 'multi_point', \n",
    "                    elite_size= 10,\n",
    "                    keep_distribution=False,\n",
    "                    mutation='change', \n",
    "                    swap_number = 3)"
   ]
  },
  {
   "cell_type": "code",
   "execution_count": 22,
   "metadata": {},
   "outputs": [
    {
     "data": {
      "text/plain": [
       "array([[0, 2, 9, 0, 7, 1, 4, 0, 6],\n",
       "       [0, 0, 4, 6, 8, 3, 0, 0, 7],\n",
       "       [6, 7, 0, 9, 0, 0, 0, 0, 8],\n",
       "       [0, 0, 0, 4, 0, 7, 0, 0, 3],\n",
       "       [0, 6, 2, 0, 1, 0, 8, 7, 9],\n",
       "       [5, 3, 0, 0, 9, 0, 0, 0, 4],\n",
       "       [0, 0, 0, 1, 0, 8, 7, 0, 5],\n",
       "       [7, 9, 5, 2, 0, 0, 0, 8, 0],\n",
       "       [0, 0, 1, 0, 0, 0, 6, 4, 2]], dtype=object)"
      ]
     },
     "execution_count": 22,
     "metadata": {},
     "output_type": "execute_result"
    }
   ],
   "source": []
  },
  {
   "cell_type": "code",
   "execution_count": null,
   "metadata": {},
   "outputs": [],
   "source": []
  }
 ],
 "metadata": {
  "kernelspec": {
   "display_name": "Python 3",
   "language": "python",
   "name": "python3"
  },
  "language_info": {
   "codemirror_mode": {
    "name": "ipython",
    "version": 3
   },
   "file_extension": ".py",
   "mimetype": "text/x-python",
   "name": "python",
   "nbconvert_exporter": "python",
   "pygments_lexer": "ipython3",
   "version": "3.11.4"
  }
 },
 "nbformat": 4,
 "nbformat_minor": 2
}
