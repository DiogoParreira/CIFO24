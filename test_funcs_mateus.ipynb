{
 "cells": [
  {
   "cell_type": "code",
   "execution_count": 1,
   "metadata": {},
   "outputs": [],
   "source": [
    "import numpy as np \n",
    "from Objects.sudoku import Sudoku\n",
    "from Operators.fitness import fitness\n",
    "from Operators.conflicts import box_conflicts, row_conflicts, col_conflicts\n",
    "from Algorithms.search import hill_climbing, sim_annealing\n",
    "\n",
    "import time\n",
    "import tqdm"
   ]
  },
  {
   "cell_type": "code",
   "execution_count": 2,
   "metadata": {},
   "outputs": [
    {
     "name": "stderr",
     "output_type": "stream",
     "text": [
      "100%|██████████| 1/1 [00:00<?, ?it/s]"
     ]
    },
    {
     "name": "stdout",
     "output_type": "stream",
     "text": [
      "Unable to solve the puzzle with arguments:  {'num_neighbours': 1, 'swap_number': 1, 'max_iterations': 100000, 'plateau_threshold': 1000, 'verbose': 2}\n"
     ]
    },
    {
     "name": "stderr",
     "output_type": "stream",
     "text": [
      "\n"
     ]
    }
   ],
   "source": [
    "# Lets do grid search to find the best parameters for the hill climbing algorithm\n",
    "hill_climbing_args={'num_neighbours': np.arange(1, 10, 1), \n",
    "                    'swap_number': np.arange(1, 10, 1)}\n",
    "\n",
    "num_iterations = 20\n",
    "num_combinations = 1\n",
    "\n",
    "means = {}\n",
    "stds = {}\n",
    "unable_args = []\n",
    "\n",
    "for combination in tqdm.tqdm(range(num_combinations)):\n",
    "    unable = False\n",
    "    # Get the random parameters\n",
    "    # arg_dictionnary = {'num_neighbours': np.random.choice(hill_climbing_args['num_neighbours']),\n",
    "    #                     'swap_number': np.random.choice(hill_climbing_args['swap_number']), \n",
    "    #                     'max_iterations': 100000,\n",
    "    #                     'plateau_threshold': 100\n",
    "    #                     }\n",
    "\n",
    "    arg_dictionnary = {'num_neighbours': 10*combination+1,\n",
    "                        'swap_number': 1, \n",
    "                        'max_iterations': 100000,\n",
    "                        'plateau_threshold': 1000,\n",
    "                        'verbose': 2\n",
    "                        }\n",
    "    \n",
    "    temp_results = []\n",
    "    for iteration in range(num_iterations):\n",
    "        if unable:\n",
    "            break\n",
    "        start = time.time()\n",
    "        try:\n",
    "            Sudoku(hill_climbing_args=arg_dictionnary)\n",
    "        except:\n",
    "            unable = True\n",
    "            continue\n",
    "\n",
    "        finish = time.time()\n",
    "        temp_results.append(finish-start)\n",
    "    \n",
    "    if unable:\n",
    "        print('Unable to solve the puzzle with arguments: ', arg_dictionnary)\n",
    "        unable_args.append(arg_dictionnary)\n",
    "        continue\n",
    "\n",
    "    means[arg_dictionnary['num_neighbours'], arg_dictionnary['swap_number']] = np.mean(temp_results)\n",
    "    stds[arg_dictionnary['num_neighbours'], arg_dictionnary['swap_number']] = np.std(temp_results)"
   ]
  },
  {
   "cell_type": "code",
   "execution_count": 2,
   "metadata": {},
   "outputs": [
    {
     "name": "stdout",
     "output_type": "stream",
     "text": [
      "\n",
      " 5  2  9  |  4  6  2  |  4  8  8 \n",
      " 4  8  5  |  7  7  1  |  7  8  4 \n",
      " 1  5  3  |  7  4  7  |  3  6  8 \n",
      "----------|-----------|----------\n",
      " 2  2  5  |  6  2  6  |  1  9  2 \n",
      " 8  3  1  |  2  9  3  |  4  5  2 \n",
      " 9  8  6  |  6  3  3  |  7  9  1 \n",
      "----------|-----------|----------\n",
      " 9  2  8  |  8  3  3  |  5  4  6 \n",
      " 1  9  5  |  9  4  7  |  5  5  7 \n",
      " 9  6  6  |  4  7  3  |  1  1  1 \n"
     ]
    }
   ],
   "source": [
    "sudoku = Sudoku(initial_board=np.zeros((9,9), dtype=int), fill_board='random')\n",
    "sudoku.display()"
   ]
  },
  {
   "cell_type": "code",
   "execution_count": null,
   "metadata": {},
   "outputs": [
    {
     "name": "stderr",
     "output_type": "stream",
     "text": [
      "100%|██████████| 1/1 [00:00<?, ?it/s]"
     ]
    },
    {
     "name": "stdout",
     "output_type": "stream",
     "text": [
      "Unable to solve the puzzle with arguments:  {'num_neighbours': 1, 'swap_number': 1, 'max_iterations': 100000, 'plateau_threshold': 1000, 'verbose': 2}\n"
     ]
    },
    {
     "name": "stderr",
     "output_type": "stream",
     "text": [
      "\n"
     ]
    }
   ],
   "source": [
    "# Lets do grid search to find the best parameters for the hill climbing algorithm\n",
    "hill_climbing_args={'num_neighbours': np.arange(1, 10, 1), \n",
    "                    'swap_number': np.arange(1, 10, 1)}\n",
    "\n",
    "num_iterations = 20\n",
    "num_combinations = 1\n",
    "\n",
    "means = {}\n",
    "stds = {}\n",
    "unable_args = []\n",
    "\n",
    "for combination in tqdm.tqdm(range(num_combinations)):\n",
    "    unable = False\n",
    "    # Get the random parameters\n",
    "    # arg_dictionnary = {'num_neighbours': np.random.choice(hill_climbing_args['num_neighbours']),\n",
    "    #                     'swap_number': np.random.choice(hill_climbing_args['swap_number']), \n",
    "    #                     'max_iterations': 100000,\n",
    "    #                     'plateau_threshold': 100\n",
    "    #                     }\n",
    "\n",
    "    arg_dictionnary = {'num_neighbours': 10*combination+1,\n",
    "                        'swap_number': 1, \n",
    "                        'max_iterations': 100000,\n",
    "                        'plateau_threshold': 1000,\n",
    "                        'verbose': 2\n",
    "                        }\n",
    "    \n",
    "    temp_results = []\n",
    "    for iteration in range(num_iterations):\n",
    "        if unable:\n",
    "            break\n",
    "        start = time.time()\n",
    "        try:\n",
    "            Sudoku(hill_climbing_args=arg_dictionnary)\n",
    "        except:\n",
    "            unable = True\n",
    "            continue\n",
    "\n",
    "        finish = time.time()\n",
    "        temp_results.append(finish-start)\n",
    "    \n",
    "    if unable:\n",
    "        print('Unable to solve the puzzle with arguments: ', arg_dictionnary)\n",
    "        unable_args.append(arg_dictionnary)\n",
    "        continue\n",
    "\n",
    "    means[arg_dictionnary['num_neighbours'], arg_dictionnary['swap_number']] = np.mean(temp_results)\n",
    "    stds[arg_dictionnary['num_neighbours'], arg_dictionnary['swap_number']] = np.std(temp_results)"
   ]
  },
  {
   "cell_type": "code",
   "execution_count": 211,
   "metadata": {},
   "outputs": [
    {
     "name": "stderr",
     "output_type": "stream",
     "text": [
      "100%|██████████| 100/100 [17:47<00:00, 10.68s/it]\n"
     ]
    }
   ],
   "source": [
    "fitness_time = {}\n",
    "num_combs = 100\n",
    "num_iters = 20\n",
    "\n",
    "for i in tqdm.tqdm(range(num_combs)):\n",
    "    alpha = np.random.uniform(0.5, 0.99)\n",
    "    c = np.random.randint(1, 50)\n",
    "    L = np.random.randint(1, 50)\n",
    "\n",
    "    temp_times = []\n",
    "    temp_fitness = []\n",
    "\n",
    "    for j in range(num_iters):\n",
    "        start = time.time()\n",
    "        fitness = sim_annealing(sudoku, verbose=0, alpha=alpha, c=c, L=L).fitness\n",
    "        finish = time.time()\n",
    "        temp_times.append(finish-start)\n",
    "        temp_fitness.append(fitness)\n",
    "\n",
    "    mean_time = np.mean(temp_times)\n",
    "    mean_fitness = np.mean(temp_fitness)\n",
    "    fitness_time[alpha, c, L, mean_fitness] = mean_time"
   ]
  },
  {
   "cell_type": "code",
   "execution_count": 224,
   "metadata": {},
   "outputs": [],
   "source": [
    "# Create a dataframe from this \n",
    "import pandas as pd\n",
    "\n",
    "df = pd.DataFrame.from_dict(fitness_time, orient='index', columns=['time'])\n",
    "# Sepparate the index into columns\n",
    "df['alpha'] = df.index.map(lambda x: x[0])\n",
    "df['c'] = df.index.map(lambda x: x[1])\n",
    "df['L'] = df.index.map(lambda x: x[2])\n",
    "df['fitness'] = df.index.map(lambda x: x[3])\n",
    "# Drop the index\n",
    "df = df.reset_index().drop(columns='index')"
   ]
  },
  {
   "cell_type": "code",
   "execution_count": 228,
   "metadata": {},
   "outputs": [
    {
     "data": {
      "text/html": [
       "<div>\n",
       "<style scoped>\n",
       "    .dataframe tbody tr th:only-of-type {\n",
       "        vertical-align: middle;\n",
       "    }\n",
       "\n",
       "    .dataframe tbody tr th {\n",
       "        vertical-align: top;\n",
       "    }\n",
       "\n",
       "    .dataframe thead th {\n",
       "        text-align: right;\n",
       "    }\n",
       "</style>\n",
       "<table border=\"1\" class=\"dataframe\">\n",
       "  <thead>\n",
       "    <tr style=\"text-align: right;\">\n",
       "      <th></th>\n",
       "      <th>time</th>\n",
       "      <th>alpha</th>\n",
       "      <th>c</th>\n",
       "      <th>L</th>\n",
       "      <th>fitness</th>\n",
       "    </tr>\n",
       "  </thead>\n",
       "  <tbody>\n",
       "    <tr>\n",
       "      <th>66</th>\n",
       "      <td>5.992550</td>\n",
       "      <td>0.980791</td>\n",
       "      <td>33</td>\n",
       "      <td>41</td>\n",
       "      <td>8.0</td>\n",
       "    </tr>\n",
       "    <tr>\n",
       "      <th>78</th>\n",
       "      <td>4.690322</td>\n",
       "      <td>0.985072</td>\n",
       "      <td>26</td>\n",
       "      <td>28</td>\n",
       "      <td>8.0</td>\n",
       "    </tr>\n",
       "    <tr>\n",
       "      <th>94</th>\n",
       "      <td>2.729274</td>\n",
       "      <td>0.978727</td>\n",
       "      <td>4</td>\n",
       "      <td>33</td>\n",
       "      <td>9.9</td>\n",
       "    </tr>\n",
       "  </tbody>\n",
       "</table>\n",
       "</div>"
      ],
      "text/plain": [
       "        time     alpha   c   L  fitness\n",
       "66  5.992550  0.980791  33  41      8.0\n",
       "78  4.690322  0.985072  26  28      8.0\n",
       "94  2.729274  0.978727   4  33      9.9"
      ]
     },
     "execution_count": 228,
     "metadata": {},
     "output_type": "execute_result"
    }
   ],
   "source": [
    "df[df['fitness'] < 10]"
   ]
  },
  {
   "cell_type": "code",
   "execution_count": 232,
   "metadata": {},
   "outputs": [
    {
     "name": "stdout",
     "output_type": "stream",
     "text": [
      "SA found with fitness 15\n",
      "Hill climbing found [[2 5 4 8 1 9 6 7 3]\n",
      " [8 1 7 6 3 2 5 4 9]\n",
      " [9 3 6 7 4 5 2 8 1]\n",
      " [5 7 2 4 6 3 1 9 8]\n",
      " [1 9 3 2 8 7 4 6 5]\n",
      " [4 6 8 5 9 1 7 3 2]\n",
      " [3 8 5 1 7 6 9 2 4]\n",
      " [6 4 1 9 2 8 3 5 7]\n",
      " [7 2 9 3 5 4 8 1 6]]\n"
     ]
    }
   ],
   "source": [
    "filled_sudoku = sim_annealing(sudoku, verbose=1, alpha=0.978727, c=4, L=33)\n",
    "filled_sudoku = hill_climbing(filled_sudoku, verbose=1, num_neighbours=1, swap_number=1, max_iterations=100000, plateau_threshold=1000)"
   ]
  },
  {
   "cell_type": "code",
   "execution_count": 198,
   "metadata": {},
   "outputs": [],
   "source": [
    "filled_sudoku = hill_climbing(sudoku, verbose=1, num_neighbours=10, swap_number=1, max_iterations=100000, plateau_threshold=1000)"
   ]
  },
  {
   "cell_type": "code",
   "execution_count": 4,
   "metadata": {},
   "outputs": [
    {
     "name": "stdout",
     "output_type": "stream",
     "text": [
      "\n",
      " 1  6  5  |  8  2  3  |  7  4  9 \n",
      " 2  7  9  |  6  1  4  |  5  3  8 \n",
      " 3  4  8  |  9  5  7  |  6  2  1 \n",
      "----------|-----------|----------\n",
      " 3  9  6  |  1  4  5  |  8  7  2 \n",
      " 5  4  2  |  3  8  2  |  9  1  6 \n",
      " 3  7  1  |  2  6  9  |  8  5  4 \n",
      "----------|-----------|----------\n",
      " 8  5  7  |  3  9  2  |  1  6  4 \n",
      " 6  3  9  |  5  1  8  |  4  5  7 \n",
      " 7  1  4  |  9  7  6  |  3  2  8 \n"
     ]
    }
   ],
   "source": [
    "filled_sudoku.display()"
   ]
  },
  {
   "cell_type": "code",
   "execution_count": 5,
   "metadata": {},
   "outputs": [
    {
     "name": "stdout",
     "output_type": "stream",
     "text": [
      "1th Box conflicts: 0\n",
      "1th Row conflicts: 0\n",
      "1th Col conflicts: 2\n",
      "2th Box conflicts: 0\n",
      "2th Row conflicts: 0\n",
      "2th Col conflicts: 2\n",
      "3th Box conflicts: 0\n",
      "3th Row conflicts: 0\n",
      "3th Col conflicts: 1\n",
      "4th Box conflicts: 1\n",
      "4th Row conflicts: 0\n",
      "4th Col conflicts: 2\n",
      "5th Box conflicts: 1\n",
      "5th Row conflicts: 1\n",
      "5th Col conflicts: 1\n",
      "6th Box conflicts: 1\n",
      "6th Row conflicts: 0\n",
      "6th Col conflicts: 1\n",
      "7th Box conflicts: 1\n",
      "7th Row conflicts: 0\n",
      "7th Col conflicts: 1\n",
      "8th Box conflicts: 1\n",
      "8th Row conflicts: 1\n",
      "8th Col conflicts: 2\n",
      "9th Box conflicts: 1\n",
      "9th Row conflicts: 1\n",
      "9th Col conflicts: 2\n"
     ]
    }
   ],
   "source": [
    "# Iterate over all the positions to get where the conflict is \n",
    "for i in range(9):\n",
    "    print(f'{i+1}th Box conflicts: {box_conflicts(filled_sudoku.board, i)}')\n",
    "    print(f'{i+1}th Row conflicts: {row_conflicts(filled_sudoku.board, i)}')\n",
    "    print(f'{i+1}th Col conflicts: {col_conflicts(filled_sudoku.board, i)}')"
   ]
  },
  {
   "cell_type": "code",
   "execution_count": 3,
   "metadata": {},
   "outputs": [
    {
     "name": "stdout",
     "output_type": "stream",
     "text": [
      "Iteration 0 : Found a better solution with fitness: 74\n",
      "Iteration 1 : Found a better solution with fitness: 71\n",
      "Iteration 2 : Found a better solution with fitness: 67\n",
      "Iteration 3 : Found a better solution with fitness: 63\n",
      "Iteration 4 : Found a better solution with fitness: 60\n",
      "Iteration 5 : Found a better solution with fitness: 57\n",
      "Iteration 6 : Found a better solution with fitness: 54\n",
      "Iteration 7 : Found a better solution with fitness: 52\n",
      "Iteration 8 : Found a better solution with fitness: 50\n",
      "Iteration 9 : Found a better solution with fitness: 48\n",
      "Iteration 10 : Found a better solution with fitness: 46\n",
      "Iteration 11 : Found a better solution with fitness: 44\n",
      "Iteration 12 : Found a better solution with fitness: 43\n",
      "Iteration 13 : Found a better solution with fitness: 42\n",
      "Iteration 14 : Found a better solution with fitness: 39\n",
      "Iteration 15 : Found a better solution with fitness: 37\n",
      "Iteration 16 : Found a better solution with fitness: 36\n",
      "Iteration 17 : Found a better solution with fitness: 35\n",
      "Iteration 19 : Found a better solution with fitness: 34\n",
      "Iteration 20 : Found a better solution with fitness: 33\n",
      "Iteration 21 : Found a better solution with fitness: 32\n",
      "Iteration 24 : Found a better solution with fitness: 30\n",
      "Iteration 27 : Found a better solution with fitness: 29\n",
      "Iteration 28 : Found a better solution with fitness: 28\n",
      "Iteration 29 : Found a better solution with fitness: 26\n",
      "Iteration 31 : Found a better solution with fitness: 25\n",
      "Iteration 32 : Found a better solution with fitness: 24\n",
      "Iteration 33 : Found a better solution with fitness: 22\n",
      "Iteration 34 : Found a better solution with fitness: 21\n",
      "Iteration 40 : Found a better solution with fitness: 20\n",
      "Iteration 41 : Found a better solution with fitness: 19\n",
      "Iteration 42 : Found a better solution with fitness: 17\n",
      "Iteration 43 : Found a better solution with fitness: 16\n",
      "Iteration 46 : Found a better solution with fitness: 15\n",
      "Iteration 55 : Found a better solution with fitness: 14\n",
      "Iteration 56 : Found a better solution with fitness: 13\n",
      "Iteration 62 : Found a better solution with fitness: 11\n",
      "Iteration 63 : Found a better solution with fitness: 10\n",
      "Iteration 65 : Found a better solution with fitness: 9\n",
      "Iteration 68 : Found a better solution with fitness: 7\n",
      "Iteration 80 : Found a better solution with fitness: 6\n",
      "Iteration 252 : Found a better solution with fitness: 4\n",
      "Iteration 304 : Found a better solution with fitness: 2\n",
      "Iteration 342 : Found a better solution with fitness: 0\n",
      "Hill climbing found [[3 4 1 7 9 2 5 6 8]\n",
      " [8 6 9 5 1 4 3 7 2]\n",
      " [5 7 2 8 3 6 9 1 4]\n",
      " [9 5 7 1 2 3 4 8 6]\n",
      " [4 1 6 9 8 5 7 2 3]\n",
      " [2 3 8 4 6 7 1 5 9]\n",
      " [7 2 4 6 5 9 8 3 1]\n",
      " [6 8 5 3 4 1 2 9 7]\n",
      " [1 9 3 2 7 8 6 4 5]]\n"
     ]
    },
    {
     "ename": "AttributeError",
     "evalue": "'Sudoku' object has no attribute 'initial_board'",
     "output_type": "error",
     "traceback": [
      "\u001b[1;31m---------------------------------------------------------------------------\u001b[0m",
      "\u001b[1;31mAttributeError\u001b[0m                            Traceback (most recent call last)",
      "Cell \u001b[1;32mIn[3], line 1\u001b[0m\n\u001b[1;32m----> 1\u001b[0m new_individual \u001b[38;5;241m=\u001b[39m \u001b[43mSudoku\u001b[49m\u001b[43m(\u001b[49m\u001b[43mhill_climbing_args\u001b[49m\u001b[38;5;241;43m=\u001b[39;49m\u001b[43m{\u001b[49m\u001b[38;5;124;43m'\u001b[39;49m\u001b[38;5;124;43mmax_iterations\u001b[39;49m\u001b[38;5;124;43m'\u001b[39;49m\u001b[43m \u001b[49m\u001b[43m:\u001b[49m\u001b[43m \u001b[49m\u001b[38;5;241;43m100000\u001b[39;49m\u001b[43m,\u001b[49m\u001b[43m \u001b[49m\n\u001b[0;32m      2\u001b[0m \u001b[43m                                            \u001b[49m\u001b[38;5;124;43m'\u001b[39;49m\u001b[38;5;124;43mverbose\u001b[39;49m\u001b[38;5;124;43m'\u001b[39;49m\u001b[43m:\u001b[49m\u001b[43m \u001b[49m\u001b[38;5;241;43m3\u001b[39;49m\u001b[43m,\u001b[49m\u001b[43m \u001b[49m\n\u001b[0;32m      3\u001b[0m \u001b[43m                                            \u001b[49m\u001b[38;5;124;43m'\u001b[39;49m\u001b[38;5;124;43mnum_neighbours\u001b[39;49m\u001b[38;5;124;43m'\u001b[39;49m\u001b[43m:\u001b[49m\u001b[43m \u001b[49m\u001b[38;5;241;43m100\u001b[39;49m\u001b[43m,\u001b[49m\n\u001b[0;32m      4\u001b[0m \u001b[43m                                            \u001b[49m\u001b[38;5;124;43m'\u001b[39;49m\u001b[38;5;124;43mplateau_threshold\u001b[39;49m\u001b[38;5;124;43m'\u001b[39;49m\u001b[43m:\u001b[49m\u001b[43m \u001b[49m\u001b[38;5;241;43m10000\u001b[39;49m\u001b[43m}\u001b[49m\u001b[43m)\u001b[49m\n",
      "File \u001b[1;32mc:\\Users\\Mateus\\Documents\\IMS\\CIFO24\\Objects\\sudoku.py:37\u001b[0m, in \u001b[0;36mSudoku.__init__\u001b[1;34m(self, initial_board, board, fill_board, size, difficulty, fitness_function, hill_climbing_args, diff_function)\u001b[0m\n\u001b[0;32m     35\u001b[0m \u001b[38;5;66;03m# If no board is given, fill the board\u001b[39;00m\n\u001b[0;32m     36\u001b[0m \u001b[38;5;28;01mif\u001b[39;00m board \u001b[38;5;129;01mis\u001b[39;00m \u001b[38;5;28;01mNone\u001b[39;00m:\n\u001b[1;32m---> 37\u001b[0m     \u001b[38;5;28;43mself\u001b[39;49m\u001b[38;5;241;43m.\u001b[39;49m\u001b[43mfill_board\u001b[49m\u001b[43m(\u001b[49m\u001b[43mmode\u001b[49m\u001b[38;5;241;43m=\u001b[39;49m\u001b[43mfill_board\u001b[49m\u001b[43m)\u001b[49m\n\u001b[0;32m     38\u001b[0m \u001b[38;5;28;01melse\u001b[39;00m:\n\u001b[0;32m     39\u001b[0m     \u001b[38;5;28mself\u001b[39m\u001b[38;5;241m.\u001b[39mboard \u001b[38;5;241m=\u001b[39m board\u001b[38;5;241m.\u001b[39mcopy()\n",
      "File \u001b[1;32mc:\\Users\\Mateus\\Documents\\IMS\\CIFO24\\Objects\\sudoku.py:97\u001b[0m, in \u001b[0;36mSudoku.fill_board\u001b[1;34m(self, mode)\u001b[0m\n\u001b[0;32m     94\u001b[0m     \u001b[38;5;28;01mreturn\u001b[39;00m\n\u001b[0;32m     96\u001b[0m \u001b[38;5;66;03m# Randomly fill-in the rest of the board\u001b[39;00m\n\u001b[1;32m---> 97\u001b[0m flat_board \u001b[38;5;241m=\u001b[39m \u001b[38;5;28;43mself\u001b[39;49m\u001b[38;5;241;43m.\u001b[39;49m\u001b[43minitial_board\u001b[49m\u001b[38;5;241m.\u001b[39mcopy()\u001b[38;5;241m.\u001b[39mflatten()\n\u001b[0;32m     99\u001b[0m \u001b[38;5;66;03m# Get how many of each number is still missing from the board\u001b[39;00m\n\u001b[0;32m    100\u001b[0m number_counts \u001b[38;5;241m=\u001b[39m np\u001b[38;5;241m.\u001b[39mbincount(flat_board, minlength\u001b[38;5;241m=\u001b[39m\u001b[38;5;28mself\u001b[39m\u001b[38;5;241m.\u001b[39mN \u001b[38;5;241m+\u001b[39m \u001b[38;5;241m1\u001b[39m)\n",
      "\u001b[1;31mAttributeError\u001b[0m: 'Sudoku' object has no attribute 'initial_board'"
     ]
    }
   ],
   "source": [
    "new_individual = Sudoku(hill_climbing_args={'max_iterations' : 100000, \n",
    "                                            'verbose': 3, \n",
    "                                            'num_neighbours': 100,\n",
    "                                            'plateau_threshold': 10000})"
   ]
  },
  {
   "cell_type": "code",
   "execution_count": null,
   "metadata": {},
   "outputs": [],
   "source": []
  },
  {
   "cell_type": "code",
   "execution_count": 5,
   "metadata": {},
   "outputs": [
    {
     "data": {
      "text/plain": [
       "[[5 3 4 7 6 2 8 1 9]\n",
       " [2 1 8 9 3 5 7 6 4]\n",
       " [9 7 6 4 8 1 5 2 3]\n",
       " [4 5 1 8 7 3 6 9 2]\n",
       " [7 6 2 1 4 9 3 8 5]\n",
       " [8 9 3 5 2 6 4 7 1]\n",
       " [6 2 5 3 9 7 1 4 8]\n",
       " [1 8 9 6 5 4 2 3 7]\n",
       " [3 4 7 2 1 8 9 5 6]]"
      ]
     },
     "execution_count": 5,
     "metadata": {},
     "output_type": "execute_result"
    }
   ],
   "source": [
    "new_individual"
   ]
  },
  {
   "cell_type": "code",
   "execution_count": 2,
   "metadata": {},
   "outputs": [],
   "source": [
    "board = np.array([[9, 4, 7, 3, 2, 6, 5, 8, 1],\n",
    "       [0, 0, 0, 0, 0, 0, 0, 0, 0],\n",
    "       [0, 0, 0, 0, 0, 0, 0, 0, 0],\n",
    "       [4, 7, 3, 5, 9, 2, 1, 6, 8],\n",
    "       [1, 2, 9, 8, 6, 4, 7, 3, 5],\n",
    "       [5, 6, 8, 7, 1, 3, 4, 9, 2],\n",
    "       [7, 9, 2, 4, 5, 8, 3, 1, 6],\n",
    "       [6, 1, 5, 2, 3, 9, 8, 7, 4],\n",
    "       [3, 8, 4, 6, 7, 1, 2, 5, 9]])\n",
    "new_individual = Sudoku(initial_board=board)"
   ]
  },
  {
   "cell_type": "code",
   "execution_count": 19,
   "metadata": {},
   "outputs": [
    {
     "name": "stdout",
     "output_type": "stream",
     "text": [
      "Iter 0 : Found a better board with fitness 25\n",
      "Iter 3 : Found a better board with fitness 25\n",
      "Iter 5 : Found a better board with fitness 23\n",
      "Iter 6 : Found a better board with fitness 23\n",
      "Iter 8 : Found a better board with fitness 21\n",
      "Iter 10 : Found a better board with fitness 21\n",
      "Iter 11 : Found a better board with fitness 21\n",
      "Iter 12 : Found a better board with fitness 21\n",
      "Iter 14 : Found a better board with fitness 18\n",
      "Iter 15 : Found a better board with fitness 18\n",
      "Iter 17 : Found a better board with fitness 18\n",
      "Iter 18 : Found a better board with fitness 18\n",
      "Iter 20 : Found a better board with fitness 18\n",
      "Iter 21 : Found a better board with fitness 17\n",
      "Iter 28 : Found a better board with fitness 17\n",
      "Iter 30 : Found a better board with fitness 17\n",
      "Iter 31 : Found a better board with fitness 15\n",
      "Iter 36 : Found a better board with fitness 12\n",
      "Iter 38 : Found a better board with fitness 12\n",
      "Iter 39 : Found a better board with fitness 12\n",
      "Iter 46 : Found a better board with fitness 12\n",
      "Iter 47 : Found a better board with fitness 11\n",
      "Iter 51 : Found a better board with fitness 11\n",
      "Iter 56 : Found a better board with fitness 11\n",
      "Iter 62 : Found a better board with fitness 10\n",
      "Iter 63 : Found a better board with fitness 10\n",
      "Iter 71 : Found a better board with fitness 10\n",
      "Iter 78 : Found a better board with fitness 10\n",
      "Iter 93 : Found a better board with fitness 10\n",
      "Iter 95 : Found a better board with fitness 10\n",
      "Iter 99 : Found a better board with fitness 10\n",
      "Iter 108 : Found a better board with fitness 9\n",
      "Iter 115 : Found a better board with fitness 8\n",
      "Iter 118 : Found a better board with fitness 8\n",
      "Iter 121 : Found a better board with fitness 8\n",
      "Iter 133 : Found a better board with fitness 7\n",
      "Iter 155 : Found a better board with fitness 7\n",
      "Iter 156 : Found a better board with fitness 7\n",
      "Iter 181 : Found a better board with fitness 7\n",
      "Iter 183 : Found a better board with fitness 7\n",
      "Iter 197 : Found a better board with fitness 7\n",
      "Iter 198 : Found a better board with fitness 7\n",
      "Iter 207 : Found a better board with fitness 7\n",
      "Iter 210 : Found a better board with fitness 7\n",
      "Iter 216 : Found a better board with fitness 7\n",
      "Iter 217 : Found a better board with fitness 7\n",
      "Iter 227 : Found a better board with fitness 7\n",
      "Iter 232 : Found a better board with fitness 7\n",
      "Iter 282 : Found a better board with fitness 6\n",
      "Iter 285 : Found a better board with fitness 6\n",
      "Iter 288 : Found a better board with fitness 6\n",
      "Iter 289 : Found a better board with fitness 5\n",
      "Iter 305 : Found a better board with fitness 5\n",
      "Iter 311 : Found a better board with fitness 5\n",
      "Iter 320 : Found a better board with fitness 5\n",
      "Iter 325 : Found a better board with fitness 5\n",
      "Iter 326 : Found a better board with fitness 5\n",
      "Iter 335 : Found a better board with fitness 5\n",
      "Iter 346 : Found a better board with fitness 5\n",
      "Iter 357 : Found a better board with fitness 5\n",
      "Iter 363 : Found a better board with fitness 5\n",
      "Iter 365 : Found a better board with fitness 5\n",
      "Iter 377 : Found a better board with fitness 4\n",
      "Iter 379 : Found a better board with fitness 4\n",
      "Iter 380 : Found a better board with fitness 4\n",
      "Iter 382 : Found a better board with fitness 4\n",
      "Iter 408 : Found a better board with fitness 4\n",
      "Iter 412 : Found a better board with fitness 4\n",
      "Iter 437 : Found a better board with fitness 4\n",
      "Iter 448 : Found a better board with fitness 4\n",
      "Iter 455 : Found a better board with fitness 4\n",
      "Iter 458 : Found a better board with fitness 4\n",
      "Iter 466 : Found a better board with fitness 4\n",
      "Iter 473 : Found a better board with fitness 4\n",
      "Iter 483 : Found a better board with fitness 2\n",
      "Iter 485 : Found a better board with fitness 2\n",
      "Iter 513 : Found a better board with fitness 2\n",
      "Iter 515 : Found a better board with fitness 2\n",
      "Iter 534 : Found a better board with fitness 0\n",
      "Found a solution in 534 iterations\n"
     ]
    }
   ],
   "source": [
    "climb = HillClimbing(new_individual.initial_board, new_individual.board)\n",
    "climb.run(max_iterations=1000, swap_number=1, number_of_neighbours=1, verbose=True)"
   ]
  },
  {
   "cell_type": "code",
   "execution_count": 11,
   "metadata": {},
   "outputs": [
    {
     "data": {
      "text/plain": [
       "array([[9, 4, 7, 3, 2, 6, 5, 8, 1],\n",
       "       [8, 3, 1, 9, 4, 5, 6, 2, 7],\n",
       "       [2, 5, 6, 1, 8, 7, 9, 4, 3],\n",
       "       [4, 7, 3, 5, 9, 2, 1, 6, 8],\n",
       "       [1, 2, 9, 8, 6, 4, 7, 3, 5],\n",
       "       [5, 6, 8, 7, 1, 3, 4, 9, 2],\n",
       "       [7, 9, 2, 4, 5, 8, 3, 1, 6],\n",
       "       [6, 1, 5, 2, 3, 9, 8, 7, 4],\n",
       "       [3, 8, 4, 6, 7, 1, 2, 5, 9]])"
      ]
     },
     "execution_count": 11,
     "metadata": {},
     "output_type": "execute_result"
    }
   ],
   "source": [
    "climb.board"
   ]
  },
  {
   "cell_type": "code",
   "execution_count": 13,
   "metadata": {},
   "outputs": [
    {
     "name": "stdout",
     "output_type": "stream",
     "text": [
      "\n",
      " 3  6  7  |  1  6  3  |  9  2  9 \n",
      " 4  4  2  |  9  3  9  |  4  9  1 \n",
      " 3  3  8  |  8  2  7  |  3  8  8 \n",
      "----------|-----------|----------\n",
      " 8  7  7  |  5  5  2  |  3  1  2 \n",
      " 5  7  6  |  7  7  1  |  4  1  9 \n",
      " 1  5  8  |  1  5  2  |  8  2  3 \n",
      "----------|-----------|----------\n",
      " 2  6  6  |  7  9  6  |  7  7  4 \n",
      " 3  5  6  |  9  4  4  |  2  5  6 \n",
      " 9  8  2  |  1  3  3  |  3  8  1 \n"
     ]
    }
   ],
   "source": [
    "new_individual.display()"
   ]
  }
 ],
 "metadata": {
  "kernelspec": {
   "display_name": "Python 3",
   "language": "python",
   "name": "python3"
  },
  "language_info": {
   "codemirror_mode": {
    "name": "ipython",
    "version": 3
   },
   "file_extension": ".py",
   "mimetype": "text/x-python",
   "name": "python",
   "nbconvert_exporter": "python",
   "pygments_lexer": "ipython3",
   "version": "3.11.3"
  }
 },
 "nbformat": 4,
 "nbformat_minor": 2
}
