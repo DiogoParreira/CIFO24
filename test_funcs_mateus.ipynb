{
 "cells": [
  {
   "cell_type": "code",
   "execution_count": 3,
   "metadata": {},
   "outputs": [],
   "source": [
    "import numpy as np \n",
    "from Algorithms.sudoku import Individual"
   ]
  },
  {
   "cell_type": "code",
   "execution_count": 35,
   "metadata": {},
   "outputs": [],
   "source": [
    "board = np.array([[3, 0, 0, 1, 0, 0, 0, 0, 0],\n",
    "       [0, 0, 0, 9, 0, 9, 4, 0, 0],\n",
    "       [0, 0, 8, 0, 0, 7, 3, 8, 0],\n",
    "       [0, 7, 0, 5, 0, 2, 0, 0, 0],\n",
    "       [0, 0, 0, 0, 0, 0, 0, 0, 0],\n",
    "       [1, 0, 0, 0, 0, 0, 0, 2, 3],\n",
    "       [2, 0, 0, 0, 0, 0, 0, 0, 4],\n",
    "       [0, 5, 6, 0, 0, 0, 0, 0, 6],\n",
    "       [0, 0, 2, 0, 0, 0, 3, 0, 1]])\n",
    "new_individual = Individual(initial_board=board, board=board)"
   ]
  },
  {
   "cell_type": "code",
   "execution_count": 36,
   "metadata": {},
   "outputs": [
    {
     "data": {
      "text/plain": [
       "array([7, 8, 9])"
      ]
     },
     "execution_count": 36,
     "metadata": {},
     "output_type": "execute_result"
    }
   ],
   "source": [
    "new_individual.get_possible_numbers((6,0))"
   ]
  },
  {
   "cell_type": "code",
   "execution_count": 18,
   "metadata": {},
   "outputs": [],
   "source": []
  },
  {
   "cell_type": "code",
   "execution_count": null,
   "metadata": {},
   "outputs": [],
   "source": []
  }
 ],
 "metadata": {
  "kernelspec": {
   "display_name": "Python 3",
   "language": "python",
   "name": "python3"
  },
  "language_info": {
   "codemirror_mode": {
    "name": "ipython",
    "version": 3
   },
   "file_extension": ".py",
   "mimetype": "text/x-python",
   "name": "python",
   "nbconvert_exporter": "python",
   "pygments_lexer": "ipython3",
   "version": "3.11.3"
  }
 },
 "nbformat": 4,
 "nbformat_minor": 2
}
