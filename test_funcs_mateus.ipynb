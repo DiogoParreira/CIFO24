{
 "cells": [
  {
   "cell_type": "code",
   "execution_count": 1,
   "metadata": {},
   "outputs": [],
   "source": [
    "import numpy as np \n",
    "from Objects.sudoku import Sudoku\n",
    "from Objects.population import Population\n",
    "from Operators.fitness import fitness\n",
    "from Operators.conflicts import box_conflicts, row_conflicts, col_conflicts\n",
    "from Algorithms.search import Sim_annealing, Hill_climbing\n",
    "import pandas as pd\n",
    "\n",
    "import time\n",
    "import tqdm"
   ]
  },
  {
   "cell_type": "code",
   "execution_count": 2,
   "metadata": {},
   "outputs": [],
   "source": [
    "test_board = np.array([[5, 4, 3, 6, 7, 9, 1, 2, 8],\n",
    "       [0, 7, 0, 3, 2, 5, 6, 0, 4],\n",
    "       [0, 2, 6, 1, 4, 8, 5, 3, 7],\n",
    "       [1, 9, 0, 2, 8, 0, 0, 4, 6],\n",
    "       [4, 0, 2, 9, 1, 7, 8, 5, 3],\n",
    "       [7, 0, 0, 4, 5, 6, 9, 1, 2],\n",
    "       [3, 1, 9, 7, 6, 2, 0, 8, 0],\n",
    "       [0, 8, 0, 0, 3, 1, 2, 0, 9],\n",
    "       [0, 0, 7, 0, 9, 0, 0, 6, 0]])"
   ]
  },
  {
   "cell_type": "markdown",
   "metadata": {},
   "source": [
    "#### Testing genetic algorithms"
   ]
  },
  {
   "cell_type": "code",
   "execution_count": 3,
   "metadata": {},
   "outputs": [],
   "source": [
    "population = Population(size=100, initial_board=test_board)"
   ]
  },
  {
   "cell_type": "code",
   "execution_count": 4,
   "metadata": {},
   "outputs": [
    {
     "data": {
      "text/plain": [
       "array([0.6462585 , 0.57823129, 0.46258503, 0.44217687, 0.29931973,\n",
       "       0.04761905, 0.76870748, 0.61904762, 0.68027211, 0.76870748,\n",
       "       0.39455782, 0.29931973, 0.26530612, 0.        , 0.44217687,\n",
       "       0.2244898 , 0.44217687, 0.3537415 , 0.57823129, 0.39455782,\n",
       "       0.4829932 , 0.78911565, 0.53061224, 0.23129252, 0.60544218,\n",
       "       0.34013605, 0.61904762, 0.41496599, 0.6122449 , 0.55102041,\n",
       "       0.40816327, 0.27210884, 0.55782313, 0.50340136, 0.44217687,\n",
       "       0.52380952, 0.68027211, 0.67346939, 1.        , 0.49659864,\n",
       "       0.47619048, 0.57823129, 0.49659864, 0.66666667, 0.44897959,\n",
       "       0.51020408, 0.44897959, 0.6462585 , 0.66666667, 0.56462585,\n",
       "       0.63265306, 0.52380952, 0.34013605, 0.37414966, 0.4829932 ,\n",
       "       0.31292517, 0.27210884, 0.41496599, 0.46938776, 0.53061224,\n",
       "       0.54421769, 0.54421769, 0.40136054, 0.46938776, 0.66666667,\n",
       "       0.46258503, 0.59863946, 0.33333333, 0.55782313, 0.68707483,\n",
       "       0.36054422, 0.46258503, 0.46938776, 0.30612245, 0.42176871,\n",
       "       0.54421769, 0.85034014, 0.40816327, 0.4829932 , 0.6122449 ,\n",
       "       0.48979592, 0.3537415 , 0.5170068 , 0.80272109, 0.70068027,\n",
       "       0.59183673, 0.57142857, 0.59183673, 0.75510204, 0.32653061,\n",
       "       0.60544218, 0.14285714, 0.72108844, 0.57823129, 0.41496599,\n",
       "       0.32653061, 0.58503401, 0.31292517, 0.51020408, 0.45578231])"
      ]
     },
     "execution_count": 4,
     "metadata": {},
     "output_type": "execute_result"
    }
   ],
   "source": [
    "population.get_distances(normalize=True)"
   ]
  },
  {
   "cell_type": "code",
   "execution_count": 21,
   "metadata": {},
   "outputs": [
    {
     "name": "stdout",
     "output_type": "stream",
     "text": [
      "Best individual of gen #1: 22. Mean fitness: 34.36\n",
      "Best individual of gen #2: 22. Mean fitness: 33.74\n",
      "Best individual of gen #3: 22. Mean fitness: 34.0\n",
      "Best individual of gen #4: 22. Mean fitness: 34.265\n",
      "Best individual of gen #5: 22. Mean fitness: 33.565\n",
      "Best individual of gen #6: 22. Mean fitness: 33.82\n",
      "Best individual of gen #7: 22. Mean fitness: 33.385\n",
      "Best individual of gen #8: 22. Mean fitness: 34.23\n",
      "Best individual of gen #9: 22. Mean fitness: 34.05\n",
      "Best individual of gen #10: 22. Mean fitness: 34.605\n",
      "Best individual of gen #11: 22. Mean fitness: 33.68\n",
      "Best individual of gen #12: 22. Mean fitness: 34.205\n",
      "Best individual of gen #13: 22. Mean fitness: 33.725\n",
      "Best individual of gen #14: 22. Mean fitness: 34.135\n",
      "Best individual of gen #15: 22. Mean fitness: 34.085\n",
      "Best individual of gen #16: 22. Mean fitness: 33.4\n",
      "Best individual of gen #17: 22. Mean fitness: 33.375\n",
      "Best individual of gen #18: 22. Mean fitness: 32.865\n",
      "Best individual of gen #19: 22. Mean fitness: 33.735\n"
     ]
    },
    {
     "ename": "KeyboardInterrupt",
     "evalue": "",
     "output_type": "error",
     "traceback": [
      "\u001b[1;31m---------------------------------------------------------------------------\u001b[0m",
      "\u001b[1;31mKeyboardInterrupt\u001b[0m                         Traceback (most recent call last)",
      "Cell \u001b[1;32mIn[21], line 1\u001b[0m\n\u001b[1;32m----> 1\u001b[0m \u001b[43mpopulation\u001b[49m\u001b[38;5;241;43m.\u001b[39;49m\u001b[43mevolve\u001b[49m\u001b[43m(\u001b[49m\n\u001b[0;32m      2\u001b[0m \u001b[43m    \u001b[49m\u001b[43mgens\u001b[49m\u001b[43m \u001b[49m\u001b[38;5;241;43m=\u001b[39;49m\u001b[43m \u001b[49m\u001b[38;5;241;43m10000\u001b[39;49m\u001b[43m,\u001b[49m\u001b[43m \u001b[49m\n\u001b[0;32m      3\u001b[0m \u001b[43m    \u001b[49m\u001b[43mxo_prob\u001b[49m\u001b[43m \u001b[49m\u001b[38;5;241;43m=\u001b[39;49m\u001b[43m \u001b[49m\u001b[38;5;241;43m1\u001b[39;49m\u001b[43m,\u001b[49m\n\u001b[0;32m      4\u001b[0m \u001b[43m    \u001b[49m\u001b[43mmut_prob\u001b[49m\u001b[43m \u001b[49m\u001b[38;5;241;43m=\u001b[39;49m\u001b[43m \u001b[49m\u001b[38;5;241;43m1\u001b[39;49m\u001b[43m,\u001b[49m\u001b[43m \u001b[49m\n\u001b[0;32m      5\u001b[0m \u001b[43m    \u001b[49m\u001b[43mselect_type\u001b[49m\u001b[38;5;241;43m=\u001b[39;49m\u001b[38;5;124;43m'\u001b[39;49m\u001b[38;5;124;43mroulette\u001b[39;49m\u001b[38;5;124;43m'\u001b[39;49m\u001b[43m,\u001b[49m\n\u001b[0;32m      6\u001b[0m \u001b[43m    \u001b[49m\u001b[43mxo\u001b[49m\u001b[38;5;241;43m=\u001b[39;49m\u001b[38;5;124;43m'\u001b[39;49m\u001b[38;5;124;43msingle_point\u001b[39;49m\u001b[38;5;124;43m'\u001b[39;49m\u001b[43m,\u001b[49m\n\u001b[0;32m      7\u001b[0m \u001b[43m    \u001b[49m\u001b[43mmutation\u001b[49m\u001b[38;5;241;43m=\u001b[39;49m\u001b[38;5;124;43m'\u001b[39;49m\u001b[38;5;124;43mchange\u001b[39;49m\u001b[38;5;124;43m'\u001b[39;49m\u001b[43m,\u001b[49m\u001b[43m   \u001b[49m\u001b[38;5;66;43;03m# Change instead of swap\u001b[39;49;00m\n\u001b[0;32m      8\u001b[0m \u001b[43m    \u001b[49m\u001b[43melite_size\u001b[49m\u001b[38;5;241;43m=\u001b[39;49m\u001b[38;5;241;43m20\u001b[39;49m\u001b[43m,\u001b[49m\n\u001b[0;32m      9\u001b[0m \u001b[43m    \u001b[49m\u001b[43mswap_number\u001b[49m\u001b[38;5;241;43m=\u001b[39;49m\u001b[38;5;241;43m2\u001b[39;49m\n\u001b[0;32m     10\u001b[0m \u001b[43m)\u001b[49m\n",
      "File \u001b[1;32mc:\\Users\\Mateus\\Documents\\IMS\\CIFO24\\Objects\\population.py:46\u001b[0m, in \u001b[0;36mPopulation.evolve\u001b[1;34m(self, gens, xo_prob, mut_prob, select_type, xo, elite_size, mutation, swap_number, keep_distribution)\u001b[0m\n\u001b[0;32m     44\u001b[0m \u001b[38;5;28mself\u001b[39m\u001b[38;5;241m.\u001b[39mcrossover(\u001b[38;5;28mtype\u001b[39m\u001b[38;5;241m=\u001b[39mxo, prob\u001b[38;5;241m=\u001b[39mxo_prob)\n\u001b[0;32m     45\u001b[0m \u001b[38;5;28;01mfor\u001b[39;00m j \u001b[38;5;129;01min\u001b[39;00m \u001b[38;5;28mrange\u001b[39m(\u001b[38;5;28mlen\u001b[39m(\u001b[38;5;28mself\u001b[39m\u001b[38;5;241m.\u001b[39mindividuals)):\n\u001b[1;32m---> 46\u001b[0m     \u001b[38;5;28mself\u001b[39m[j] \u001b[38;5;241m=\u001b[39m \u001b[38;5;28;43mself\u001b[39;49m\u001b[43m[\u001b[49m\u001b[43mj\u001b[49m\u001b[43m]\u001b[49m\u001b[38;5;241;43m.\u001b[39;49m\u001b[43mmutate\u001b[49m\u001b[43m(\u001b[49m\u001b[43mmut_prob\u001b[49m\u001b[43m,\u001b[49m\u001b[43m \u001b[49m\u001b[43mswap_number\u001b[49m\u001b[43m,\u001b[49m\u001b[43m \u001b[49m\u001b[43mmutation\u001b[49m\u001b[38;5;241;43m=\u001b[39;49m\u001b[43mmutation\u001b[49m\u001b[43m)\u001b[49m\n\u001b[0;32m     48\u001b[0m \u001b[38;5;28;01mif\u001b[39;00m keep_distribution:\n\u001b[0;32m     49\u001b[0m     \u001b[38;5;28mself\u001b[39m\u001b[38;5;241m.\u001b[39mkeep_distribution()\n",
      "File \u001b[1;32mc:\\Users\\Mateus\\Documents\\IMS\\CIFO24\\Objects\\sudoku.py:162\u001b[0m, in \u001b[0;36mmutate\u001b[1;34m(self, mut_prob, n_changes, mutation)\u001b[0m\n\u001b[0;32m    159\u001b[0m     \u001b[38;5;28;01mreturn\u001b[39;00m Sudoku(\u001b[38;5;28mself\u001b[39m\u001b[38;5;241m.\u001b[39minitial_board, neighbour)\n\u001b[0;32m    161\u001b[0m \u001b[38;5;28;01melse\u001b[39;00m: \n\u001b[1;32m--> 162\u001b[0m     \u001b[38;5;28mprint\u001b[39m(\u001b[38;5;124m'\u001b[39m\u001b[38;5;124mWarning ! Mutation not recognized. Returning the individual without mutation\u001b[39m\u001b[38;5;124m'\u001b[39m)\n\u001b[0;32m    163\u001b[0m     \u001b[38;5;28;01mreturn\u001b[39;00m \u001b[38;5;28mself\u001b[39m\n",
      "File \u001b[1;32mc:\\Users\\Mateus\\Documents\\IMS\\CIFO24\\Objects\\sudoku.py:43\u001b[0m, in \u001b[0;36mSudoku.__init__\u001b[1;34m(self, initial_board, board, fill_board, size, difficulty, fitness_function, hill_climbing_args, diff_function)\u001b[0m\n\u001b[0;32m     40\u001b[0m     \u001b[38;5;28mself\u001b[39m\u001b[38;5;241m.\u001b[39mboard \u001b[38;5;241m=\u001b[39m board\u001b[38;5;241m.\u001b[39mcopy()\n\u001b[0;32m     42\u001b[0m \u001b[38;5;28mself\u001b[39m\u001b[38;5;241m.\u001b[39mswappable_positions \u001b[38;5;241m=\u001b[39m \u001b[38;5;28mlist\u001b[39m(\u001b[38;5;28mzip\u001b[39m(\u001b[38;5;241m*\u001b[39mnp\u001b[38;5;241m.\u001b[39mwhere(\u001b[38;5;28mself\u001b[39m\u001b[38;5;241m.\u001b[39minitial_board \u001b[38;5;241m==\u001b[39m \u001b[38;5;241m0\u001b[39m)))\n\u001b[1;32m---> 43\u001b[0m \u001b[38;5;28mself\u001b[39m\u001b[38;5;241m.\u001b[39mfitness \u001b[38;5;241m=\u001b[39m \u001b[43mfitness_function\u001b[49m\u001b[43m(\u001b[49m\u001b[38;5;28;43mself\u001b[39;49m\u001b[38;5;241;43m.\u001b[39;49m\u001b[43mboard\u001b[49m\u001b[43m)\u001b[49m\n\u001b[0;32m     45\u001b[0m \u001b[38;5;66;03m# Other attributes for crossover\u001b[39;00m\n\u001b[0;32m     46\u001b[0m \u001b[38;5;28mself\u001b[39m\u001b[38;5;241m.\u001b[39mswap_points \u001b[38;5;241m=\u001b[39m \u001b[38;5;28mself\u001b[39m\u001b[38;5;241m.\u001b[39minitial_board \u001b[38;5;241m==\u001b[39m \u001b[38;5;241m0\u001b[39m\n",
      "File \u001b[1;32mc:\\Users\\Mateus\\Documents\\IMS\\CIFO24\\Operators\\fitness.py:14\u001b[0m, in \u001b[0;36mfitness\u001b[1;34m(board)\u001b[0m\n\u001b[0;32m     12\u001b[0m row_sum \u001b[38;5;241m=\u001b[39m np\u001b[38;5;241m.\u001b[39msum([row_conflicts(board, i) \u001b[38;5;28;01mfor\u001b[39;00m i \u001b[38;5;129;01min\u001b[39;00m \u001b[38;5;28mrange\u001b[39m(N)])\n\u001b[0;32m     13\u001b[0m column_sum \u001b[38;5;241m=\u001b[39m np\u001b[38;5;241m.\u001b[39msum([col_conflicts(board, i) \u001b[38;5;28;01mfor\u001b[39;00m i \u001b[38;5;129;01min\u001b[39;00m \u001b[38;5;28mrange\u001b[39m(N)])\n\u001b[1;32m---> 14\u001b[0m box_sum \u001b[38;5;241m=\u001b[39m np\u001b[38;5;241m.\u001b[39msum(\u001b[43m[\u001b[49m\u001b[43mbox_conflicts\u001b[49m\u001b[43m(\u001b[49m\u001b[43mboard\u001b[49m\u001b[43m,\u001b[49m\u001b[43m \u001b[49m\u001b[43mi\u001b[49m\u001b[43m)\u001b[49m\u001b[43m \u001b[49m\u001b[38;5;28;43;01mfor\u001b[39;49;00m\u001b[43m \u001b[49m\u001b[43mi\u001b[49m\u001b[43m \u001b[49m\u001b[38;5;129;43;01min\u001b[39;49;00m\u001b[43m \u001b[49m\u001b[38;5;28;43mrange\u001b[39;49m\u001b[43m(\u001b[49m\u001b[43mN\u001b[49m\u001b[43m)\u001b[49m\u001b[43m]\u001b[49m)\n\u001b[0;32m     15\u001b[0m \u001b[38;5;28;01mreturn\u001b[39;00m row_sum \u001b[38;5;241m+\u001b[39m column_sum \u001b[38;5;241m+\u001b[39m box_sum\n",
      "File \u001b[1;32mc:\\Users\\Mateus\\Documents\\IMS\\CIFO24\\Operators\\fitness.py:14\u001b[0m, in \u001b[0;36m<listcomp>\u001b[1;34m(.0)\u001b[0m\n\u001b[0;32m     12\u001b[0m row_sum \u001b[38;5;241m=\u001b[39m np\u001b[38;5;241m.\u001b[39msum([row_conflicts(board, i) \u001b[38;5;28;01mfor\u001b[39;00m i \u001b[38;5;129;01min\u001b[39;00m \u001b[38;5;28mrange\u001b[39m(N)])\n\u001b[0;32m     13\u001b[0m column_sum \u001b[38;5;241m=\u001b[39m np\u001b[38;5;241m.\u001b[39msum([col_conflicts(board, i) \u001b[38;5;28;01mfor\u001b[39;00m i \u001b[38;5;129;01min\u001b[39;00m \u001b[38;5;28mrange\u001b[39m(N)])\n\u001b[1;32m---> 14\u001b[0m box_sum \u001b[38;5;241m=\u001b[39m np\u001b[38;5;241m.\u001b[39msum([\u001b[43mbox_conflicts\u001b[49m\u001b[43m(\u001b[49m\u001b[43mboard\u001b[49m\u001b[43m,\u001b[49m\u001b[43m \u001b[49m\u001b[43mi\u001b[49m\u001b[43m)\u001b[49m \u001b[38;5;28;01mfor\u001b[39;00m i \u001b[38;5;129;01min\u001b[39;00m \u001b[38;5;28mrange\u001b[39m(N)])\n\u001b[0;32m     15\u001b[0m \u001b[38;5;28;01mreturn\u001b[39;00m row_sum \u001b[38;5;241m+\u001b[39m column_sum \u001b[38;5;241m+\u001b[39m box_sum\n",
      "File \u001b[1;32mc:\\Users\\Mateus\\Documents\\IMS\\CIFO24\\Operators\\conflicts.py:54\u001b[0m, in \u001b[0;36mbox_conflicts\u001b[1;34m(board, position)\u001b[0m\n\u001b[0;32m     52\u001b[0m rows, cols \u001b[38;5;241m=\u001b[39m \u001b[38;5;28mzip\u001b[39m(\u001b[38;5;241m*\u001b[39mbox_coordinates)\n\u001b[0;32m     53\u001b[0m box \u001b[38;5;241m=\u001b[39m board[np\u001b[38;5;241m.\u001b[39marray(rows), np\u001b[38;5;241m.\u001b[39marray(cols)]\n\u001b[1;32m---> 54\u001b[0m \u001b[38;5;28;01mreturn\u001b[39;00m N \u001b[38;5;241m-\u001b[39m \u001b[38;5;28mlen\u001b[39m(\u001b[43mnp\u001b[49m\u001b[38;5;241;43m.\u001b[39;49m\u001b[43munique\u001b[49m\u001b[43m(\u001b[49m\u001b[43mbox\u001b[49m\u001b[43m)\u001b[49m)\n",
      "File \u001b[1;32m<__array_function__ internals>:180\u001b[0m, in \u001b[0;36munique\u001b[1;34m(*args, **kwargs)\u001b[0m\n",
      "File \u001b[1;32mc:\\Python311\\Lib\\site-packages\\numpy\\lib\\arraysetops.py:276\u001b[0m, in \u001b[0;36munique\u001b[1;34m(ar, return_index, return_inverse, return_counts, axis, equal_nan)\u001b[0m\n\u001b[0;32m    273\u001b[0m \u001b[38;5;28;01mif\u001b[39;00m axis \u001b[38;5;129;01mis\u001b[39;00m \u001b[38;5;28;01mNone\u001b[39;00m:\n\u001b[0;32m    274\u001b[0m     ret \u001b[38;5;241m=\u001b[39m _unique1d(ar, return_index, return_inverse, return_counts, \n\u001b[0;32m    275\u001b[0m                     equal_nan\u001b[38;5;241m=\u001b[39mequal_nan)\n\u001b[1;32m--> 276\u001b[0m     \u001b[38;5;28;01mreturn\u001b[39;00m \u001b[43m_unpack_tuple\u001b[49m\u001b[43m(\u001b[49m\u001b[43mret\u001b[49m\u001b[43m)\u001b[49m\n\u001b[0;32m    278\u001b[0m \u001b[38;5;66;03m# axis was specified and not None\u001b[39;00m\n\u001b[0;32m    279\u001b[0m \u001b[38;5;28;01mtry\u001b[39;00m:\n",
      "File \u001b[1;32mc:\\Python311\\Lib\\site-packages\\numpy\\lib\\arraysetops.py:125\u001b[0m, in \u001b[0;36m_unpack_tuple\u001b[1;34m(x)\u001b[0m\n\u001b[0;32m    121\u001b[0m     np\u001b[38;5;241m.\u001b[39msubtract(ary[\u001b[38;5;241m1\u001b[39m:], ary[:\u001b[38;5;241m-\u001b[39m\u001b[38;5;241m1\u001b[39m], result[l_begin:l_begin \u001b[38;5;241m+\u001b[39m l_diff])\n\u001b[0;32m    122\u001b[0m     \u001b[38;5;28;01mreturn\u001b[39;00m result\n\u001b[1;32m--> 125\u001b[0m \u001b[38;5;28;01mdef\u001b[39;00m \u001b[38;5;21m_unpack_tuple\u001b[39m(x):\n\u001b[0;32m    126\u001b[0m \u001b[38;5;250m    \u001b[39m\u001b[38;5;124;03m\"\"\" Unpacks one-element tuples for use as return values \"\"\"\u001b[39;00m\n\u001b[0;32m    127\u001b[0m     \u001b[38;5;28;01mif\u001b[39;00m \u001b[38;5;28mlen\u001b[39m(x) \u001b[38;5;241m==\u001b[39m \u001b[38;5;241m1\u001b[39m:\n",
      "\u001b[1;31mKeyboardInterrupt\u001b[0m: "
     ]
    }
   ],
   "source": [
    "population.evolve(\n",
    "    gens = 10000, \n",
    "    xo_prob = 1,\n",
    "    mut_prob = 1, \n",
    "    select_type='roulette',\n",
    "    xo='single_point',\n",
    "    mutation='change',   # Change instead of swap\n",
    "    elite_size=20,\n",
    "    swap_number=2\n",
    ")"
   ]
  },
  {
   "cell_type": "code",
   "execution_count": 2,
   "metadata": {},
   "outputs": [
    {
     "name": "stderr",
     "output_type": "stream",
     "text": [
      "100%|██████████| 1/1 [00:00<?, ?it/s]"
     ]
    },
    {
     "name": "stdout",
     "output_type": "stream",
     "text": [
      "Unable to solve the puzzle with arguments:  {'num_neighbours': 1, 'swap_number': 1, 'max_iterations': 100000, 'plateau_threshold': 1000, 'verbose': 2}\n"
     ]
    },
    {
     "name": "stderr",
     "output_type": "stream",
     "text": [
      "\n"
     ]
    }
   ],
   "source": [
    "# Lets do grid search to find the best parameters for the hill climbing algorithm\n",
    "hill_climbing_args={'num_neighbours': np.arange(1, 10, 1), \n",
    "                    'swap_number': np.arange(1, 10, 1)}\n",
    "\n",
    "num_iterations = 20\n",
    "num_combinations = 1\n",
    "\n",
    "means = {}\n",
    "stds = {}\n",
    "unable_args = []\n",
    "\n",
    "for combination in tqdm.tqdm(range(num_combinations)):\n",
    "    unable = False\n",
    "    # Get the random parameters\n",
    "    # arg_dictionnary = {'num_neighbours': np.random.choice(hill_climbing_args['num_neighbours']),\n",
    "    #                     'swap_number': np.random.choice(hill_climbing_args['swap_number']), \n",
    "    #                     'max_iterations': 100000,\n",
    "    #                     'plateau_threshold': 100\n",
    "    #                     }\n",
    "\n",
    "    arg_dictionnary = {'num_neighbours': 10*combination+1,\n",
    "                        'swap_number': 1, \n",
    "                        'max_iterations': 100000,\n",
    "                        'plateau_threshold': 1000,\n",
    "                        'verbose': 2\n",
    "                        }\n",
    "    \n",
    "    temp_results = []\n",
    "    for iteration in range(num_iterations):\n",
    "        if unable:\n",
    "            break\n",
    "        start = time.time()\n",
    "        try:\n",
    "            Sudoku(hill_climbing_args=arg_dictionnary)\n",
    "        except:\n",
    "            unable = True\n",
    "            continue\n",
    "\n",
    "        finish = time.time()\n",
    "        temp_results.append(finish-start)\n",
    "    \n",
    "    if unable:\n",
    "        print('Unable to solve the puzzle with arguments: ', arg_dictionnary)\n",
    "        unable_args.append(arg_dictionnary)\n",
    "        continue\n",
    "\n",
    "    means[arg_dictionnary['num_neighbours'], arg_dictionnary['swap_number']] = np.mean(temp_results)\n",
    "    stds[arg_dictionnary['num_neighbours'], arg_dictionnary['swap_number']] = np.std(temp_results)"
   ]
  },
  {
   "cell_type": "markdown",
   "metadata": {},
   "source": [
    "#### Initialization of the sudoku arguments"
   ]
  },
  {
   "cell_type": "code",
   "execution_count": 3,
   "metadata": {},
   "outputs": [
    {
     "name": "stdout",
     "output_type": "stream",
     "text": [
      "\n",
      " 9  5  1  |  9  2  2  |  6  5  7 \n",
      " 6  1  3  |  1  3  1  |  2  7  2 \n",
      " 3  8  8  |  1  1  3  |  6  4  9 \n",
      "----------|-----------|----------\n",
      " 4  2  6  |  8  4  5  |  4  8  3 \n",
      " 6  8  1  |  3  3  4  |  3  4  6 \n",
      " 8  9  7  |  5  9  8  |  7  7  3 \n",
      "----------|-----------|----------\n",
      " 8  7  4  |  7  7  1  |  2  9  6 \n",
      " 6  6  4  |  4  5  2  |  5  9  5 \n",
      " 9  9  5  |  2  8  2  |  7  5  1 \n"
     ]
    }
   ],
   "source": [
    "sudoku = Sudoku(initial_board=np.zeros((9,9), dtype=int), fill_board='random')\n",
    "sudoku.display()"
   ]
  },
  {
   "cell_type": "code",
   "execution_count": 17,
   "metadata": {},
   "outputs": [],
   "source": [
    "sudoku = Sudoku()"
   ]
  },
  {
   "cell_type": "code",
   "execution_count": 15,
   "metadata": {},
   "outputs": [
    {
     "data": {
      "text/plain": [
       "[[3 6 2 9 1 4 7 5 8]\n",
       " [9 1 4 5 7 8 3 2 6]\n",
       " [5 7 8 3 2 6 9 1 4]\n",
       " [8 9 1 2 3 5 4 7 6]\n",
       " [2 4 5 1 6 7 8 9 3]\n",
       " [7 3 6 8 4 9 1 2 5]\n",
       " [6 5 7 4 9 1 2 8 9]\n",
       " [1 8 9 6 8 2 5 3 7]\n",
       " [4 2 3 7 5 3 6 4 1]]"
      ]
     },
     "execution_count": 15,
     "metadata": {},
     "output_type": "execute_result"
    }
   ],
   "source": [
    "sim_annealing_algo = Sim_annealing(sudoku)\n",
    "sim_annealing_algo.run(L=100, c=20, alpha=0.95)"
   ]
  },
  {
   "cell_type": "code",
   "execution_count": null,
   "metadata": {},
   "outputs": [
    {
     "name": "stderr",
     "output_type": "stream",
     "text": [
      "100%|██████████| 1/1 [00:00<?, ?it/s]"
     ]
    },
    {
     "name": "stdout",
     "output_type": "stream",
     "text": [
      "Unable to solve the puzzle with arguments:  {'num_neighbours': 1, 'swap_number': 1, 'max_iterations': 100000, 'plateau_threshold': 1000, 'verbose': 2}\n"
     ]
    },
    {
     "name": "stderr",
     "output_type": "stream",
     "text": [
      "\n"
     ]
    }
   ],
   "source": [
    "# Lets do grid search to find the best parameters for the hill climbing algorithm\n",
    "hill_climbing_args={'num_neighbours': np.arange(1, 10, 1), \n",
    "                    'swap_number': np.arange(1, 10, 1)}\n",
    "\n",
    "num_iterations = 20\n",
    "num_combinations = 1\n",
    "\n",
    "means = {}\n",
    "stds = {}\n",
    "unable_args = []\n",
    "\n",
    "for combination in tqdm.tqdm(range(num_combinations)):\n",
    "    unable = False\n",
    "    # Get the random parameters\n",
    "    # arg_dictionnary = {'num_neighbours': np.random.choice(hill_climbing_args['num_neighbours']),\n",
    "    #                     'swap_number': np.random.choice(hill_climbing_args['swap_number']), \n",
    "    #                     'max_iterations': 100000,\n",
    "    #                     'plateau_threshold': 100\n",
    "    #                     }\n",
    "\n",
    "    arg_dictionnary = {'num_neighbours': 10*combination+1,\n",
    "                        'swap_number': 1, \n",
    "                        'max_iterations': 100000,\n",
    "                        'plateau_threshold': 1000,\n",
    "                        'verbose': 2\n",
    "                        }\n",
    "    \n",
    "    temp_results = []\n",
    "    for iteration in range(num_iterations):\n",
    "        if unable:\n",
    "            break\n",
    "        start = time.time()\n",
    "        try:\n",
    "            Sudoku(hill_climbing_args=arg_dictionnary)\n",
    "        except:\n",
    "            unable = True\n",
    "            continue\n",
    "\n",
    "        finish = time.time()\n",
    "        temp_results.append(finish-start)\n",
    "    \n",
    "    if unable:\n",
    "        print('Unable to solve the puzzle with arguments: ', arg_dictionnary)\n",
    "        unable_args.append(arg_dictionnary)\n",
    "        continue\n",
    "\n",
    "    means[arg_dictionnary['num_neighbours'], arg_dictionnary['swap_number']] = np.mean(temp_results)\n",
    "    stds[arg_dictionnary['num_neighbours'], arg_dictionnary['swap_number']] = np.std(temp_results)"
   ]
  },
  {
   "cell_type": "code",
   "execution_count": 211,
   "metadata": {},
   "outputs": [
    {
     "name": "stderr",
     "output_type": "stream",
     "text": [
      "100%|██████████| 100/100 [17:47<00:00, 10.68s/it]\n"
     ]
    }
   ],
   "source": [
    "fitness_time = {}\n",
    "num_combs = 100\n",
    "num_iters = 20\n",
    "\n",
    "for i in tqdm.tqdm(range(num_combs)):\n",
    "    alpha = np.random.uniform(0.5, 0.99)\n",
    "    c = np.random.randint(1, 50)\n",
    "    L = np.random.randint(1, 50)\n",
    "\n",
    "    temp_times = []\n",
    "    temp_fitness = []\n",
    "\n",
    "    for j in range(num_iters):\n",
    "        start = time.time()\n",
    "        fitness = sim_annealing(sudoku, verbose=0, alpha=alpha, c=c, L=L).fitness\n",
    "        finish = time.time()\n",
    "        temp_times.append(finish-start)\n",
    "        temp_fitness.append(fitness)\n",
    "\n",
    "    mean_time = np.mean(temp_times)\n",
    "    mean_fitness = np.mean(temp_fitness)\n",
    "    fitness_time[alpha, c, L, mean_fitness] = mean_time\n",
    "\n",
    "\n",
    "df = pd.DataFrame.from_dict(fitness_time, orient='index', columns=['time'])\n",
    "# Sepparate the index into columns\n",
    "df['alpha'] = df.index.map(lambda x: x[0])\n",
    "df['c'] = df.index.map(lambda x: x[1])\n",
    "df['L'] = df.index.map(lambda x: x[2])\n",
    "df['fitness'] = df.index.map(lambda x: x[3])\n",
    "# Drop the index\n",
    "df = df.reset_index().drop(columns='index')\n",
    "\n",
    "df[df['fitness'] < 10]"
   ]
  },
  {
   "cell_type": "code",
   "execution_count": 41,
   "metadata": {},
   "outputs": [
    {
     "data": {
      "text/plain": [
       "82"
      ]
     },
     "execution_count": 41,
     "metadata": {},
     "output_type": "execute_result"
    }
   ],
   "source": [
    "sudoku.fitness"
   ]
  },
  {
   "cell_type": "code",
   "execution_count": 50,
   "metadata": {},
   "outputs": [
    {
     "name": "stdout",
     "output_type": "stream",
     "text": [
      "Reached max iterations, returned [[9 5 6 8 8 2 1 4 6]\n",
      " [5 3 5 1 4 5 8 7 2]\n",
      " [3 1 8 6 2 7 7 2 3]\n",
      " [8 7 5 7 9 1 3 2 6]\n",
      " [7 2 9 5 3 9 4 8 1]\n",
      " [7 6 1 4 9 2 3 5 8]\n",
      " [2 4 6 1 6 8 9 4 7]\n",
      " [1 9 3 5 4 1 6 3 7]\n",
      " [4 4 6 9 9 3 2 8 5]]\n",
      "SA found with fitness 18\n"
     ]
    },
    {
     "data": {
      "text/plain": [
       "2"
      ]
     },
     "execution_count": 50,
     "metadata": {},
     "output_type": "execute_result"
    }
   ],
   "source": [
    "filled_sudoku = hill_climbing(sudoku, max_iterations=100, plateau_threshold=100, verbose=2, num_neighbours=1, swap_number=1)\n",
    "filled_sudoku = sim_annealing(filled_sudoku, verbose=1, alpha=0.978727, c=4, L=33)\n",
    "filled_sudoku.fitness"
   ]
  },
  {
   "cell_type": "code",
   "execution_count": 53,
   "metadata": {},
   "outputs": [
    {
     "name": "stdout",
     "output_type": "stream",
     "text": [
      "SA found with fitness 25\n",
      "Reached max iterations, returned [[2 1 7 8 3 4 5 9 6]\n",
      " [5 9 4 6 2 7 1 3 8]\n",
      " [3 8 6 9 5 1 2 7 4]\n",
      " [9 3 8 4 1 6 2 5 7]\n",
      " [4 7 5 2 8 9 3 4 1]\n",
      " [1 6 2 3 7 5 8 6 9]\n",
      " [6 2 9 5 4 8 7 1 3]\n",
      " [7 4 3 1 9 2 6 8 5]\n",
      " [8 5 1 7 6 3 4 2 9]]\n"
     ]
    }
   ],
   "source": [
    "filled_sudoku = sim_annealing(sudoku, verbose=1, alpha=0.985, c=10, L=5)\n",
    "filled_sudoku = hill_climbing(filled_sudoku, verbose=1, num_neighbours=1, swap_number=2, max_iterations=100000, plateau_threshold=1000)"
   ]
  },
  {
   "cell_type": "code",
   "execution_count": 198,
   "metadata": {},
   "outputs": [],
   "source": [
    "filled_sudoku = hill_climbing(sudoku, verbose=1, num_neighbours=10, swap_number=1, max_iterations=100000, plateau_threshold=1000)"
   ]
  },
  {
   "cell_type": "code",
   "execution_count": 4,
   "metadata": {},
   "outputs": [
    {
     "name": "stdout",
     "output_type": "stream",
     "text": [
      "\n",
      " 1  6  5  |  8  2  3  |  7  4  9 \n",
      " 2  7  9  |  6  1  4  |  5  3  8 \n",
      " 3  4  8  |  9  5  7  |  6  2  1 \n",
      "----------|-----------|----------\n",
      " 3  9  6  |  1  4  5  |  8  7  2 \n",
      " 5  4  2  |  3  8  2  |  9  1  6 \n",
      " 3  7  1  |  2  6  9  |  8  5  4 \n",
      "----------|-----------|----------\n",
      " 8  5  7  |  3  9  2  |  1  6  4 \n",
      " 6  3  9  |  5  1  8  |  4  5  7 \n",
      " 7  1  4  |  9  7  6  |  3  2  8 \n"
     ]
    }
   ],
   "source": [
    "filled_sudoku.display()"
   ]
  },
  {
   "cell_type": "code",
   "execution_count": 5,
   "metadata": {},
   "outputs": [
    {
     "name": "stdout",
     "output_type": "stream",
     "text": [
      "1th Box conflicts: 0\n",
      "1th Row conflicts: 0\n",
      "1th Col conflicts: 2\n",
      "2th Box conflicts: 0\n",
      "2th Row conflicts: 0\n",
      "2th Col conflicts: 2\n",
      "3th Box conflicts: 0\n",
      "3th Row conflicts: 0\n",
      "3th Col conflicts: 1\n",
      "4th Box conflicts: 1\n",
      "4th Row conflicts: 0\n",
      "4th Col conflicts: 2\n",
      "5th Box conflicts: 1\n",
      "5th Row conflicts: 1\n",
      "5th Col conflicts: 1\n",
      "6th Box conflicts: 1\n",
      "6th Row conflicts: 0\n",
      "6th Col conflicts: 1\n",
      "7th Box conflicts: 1\n",
      "7th Row conflicts: 0\n",
      "7th Col conflicts: 1\n",
      "8th Box conflicts: 1\n",
      "8th Row conflicts: 1\n",
      "8th Col conflicts: 2\n",
      "9th Box conflicts: 1\n",
      "9th Row conflicts: 1\n",
      "9th Col conflicts: 2\n"
     ]
    }
   ],
   "source": [
    "# Iterate over all the positions to get where the conflict is \n",
    "for i in range(9):\n",
    "    print(f'{i+1}th Box conflicts: {box_conflicts(filled_sudoku.board, i)}')\n",
    "    print(f'{i+1}th Row conflicts: {row_conflicts(filled_sudoku.board, i)}')\n",
    "    print(f'{i+1}th Col conflicts: {col_conflicts(filled_sudoku.board, i)}')"
   ]
  },
  {
   "cell_type": "code",
   "execution_count": 3,
   "metadata": {},
   "outputs": [
    {
     "name": "stdout",
     "output_type": "stream",
     "text": [
      "Iteration 0 : Found a better solution with fitness: 74\n",
      "Iteration 1 : Found a better solution with fitness: 71\n",
      "Iteration 2 : Found a better solution with fitness: 67\n",
      "Iteration 3 : Found a better solution with fitness: 63\n",
      "Iteration 4 : Found a better solution with fitness: 60\n",
      "Iteration 5 : Found a better solution with fitness: 57\n",
      "Iteration 6 : Found a better solution with fitness: 54\n",
      "Iteration 7 : Found a better solution with fitness: 52\n",
      "Iteration 8 : Found a better solution with fitness: 50\n",
      "Iteration 9 : Found a better solution with fitness: 48\n",
      "Iteration 10 : Found a better solution with fitness: 46\n",
      "Iteration 11 : Found a better solution with fitness: 44\n",
      "Iteration 12 : Found a better solution with fitness: 43\n",
      "Iteration 13 : Found a better solution with fitness: 42\n",
      "Iteration 14 : Found a better solution with fitness: 39\n",
      "Iteration 15 : Found a better solution with fitness: 37\n",
      "Iteration 16 : Found a better solution with fitness: 36\n",
      "Iteration 17 : Found a better solution with fitness: 35\n",
      "Iteration 19 : Found a better solution with fitness: 34\n",
      "Iteration 20 : Found a better solution with fitness: 33\n",
      "Iteration 21 : Found a better solution with fitness: 32\n",
      "Iteration 24 : Found a better solution with fitness: 30\n",
      "Iteration 27 : Found a better solution with fitness: 29\n",
      "Iteration 28 : Found a better solution with fitness: 28\n",
      "Iteration 29 : Found a better solution with fitness: 26\n",
      "Iteration 31 : Found a better solution with fitness: 25\n",
      "Iteration 32 : Found a better solution with fitness: 24\n",
      "Iteration 33 : Found a better solution with fitness: 22\n",
      "Iteration 34 : Found a better solution with fitness: 21\n",
      "Iteration 40 : Found a better solution with fitness: 20\n",
      "Iteration 41 : Found a better solution with fitness: 19\n",
      "Iteration 42 : Found a better solution with fitness: 17\n",
      "Iteration 43 : Found a better solution with fitness: 16\n",
      "Iteration 46 : Found a better solution with fitness: 15\n",
      "Iteration 55 : Found a better solution with fitness: 14\n",
      "Iteration 56 : Found a better solution with fitness: 13\n",
      "Iteration 62 : Found a better solution with fitness: 11\n",
      "Iteration 63 : Found a better solution with fitness: 10\n",
      "Iteration 65 : Found a better solution with fitness: 9\n",
      "Iteration 68 : Found a better solution with fitness: 7\n",
      "Iteration 80 : Found a better solution with fitness: 6\n",
      "Iteration 252 : Found a better solution with fitness: 4\n",
      "Iteration 304 : Found a better solution with fitness: 2\n",
      "Iteration 342 : Found a better solution with fitness: 0\n",
      "Hill climbing found [[3 4 1 7 9 2 5 6 8]\n",
      " [8 6 9 5 1 4 3 7 2]\n",
      " [5 7 2 8 3 6 9 1 4]\n",
      " [9 5 7 1 2 3 4 8 6]\n",
      " [4 1 6 9 8 5 7 2 3]\n",
      " [2 3 8 4 6 7 1 5 9]\n",
      " [7 2 4 6 5 9 8 3 1]\n",
      " [6 8 5 3 4 1 2 9 7]\n",
      " [1 9 3 2 7 8 6 4 5]]\n"
     ]
    },
    {
     "ename": "AttributeError",
     "evalue": "'Sudoku' object has no attribute 'initial_board'",
     "output_type": "error",
     "traceback": [
      "\u001b[1;31m---------------------------------------------------------------------------\u001b[0m",
      "\u001b[1;31mAttributeError\u001b[0m                            Traceback (most recent call last)",
      "Cell \u001b[1;32mIn[3], line 1\u001b[0m\n\u001b[1;32m----> 1\u001b[0m new_individual \u001b[38;5;241m=\u001b[39m \u001b[43mSudoku\u001b[49m\u001b[43m(\u001b[49m\u001b[43mhill_climbing_args\u001b[49m\u001b[38;5;241;43m=\u001b[39;49m\u001b[43m{\u001b[49m\u001b[38;5;124;43m'\u001b[39;49m\u001b[38;5;124;43mmax_iterations\u001b[39;49m\u001b[38;5;124;43m'\u001b[39;49m\u001b[43m \u001b[49m\u001b[43m:\u001b[49m\u001b[43m \u001b[49m\u001b[38;5;241;43m100000\u001b[39;49m\u001b[43m,\u001b[49m\u001b[43m \u001b[49m\n\u001b[0;32m      2\u001b[0m \u001b[43m                                            \u001b[49m\u001b[38;5;124;43m'\u001b[39;49m\u001b[38;5;124;43mverbose\u001b[39;49m\u001b[38;5;124;43m'\u001b[39;49m\u001b[43m:\u001b[49m\u001b[43m \u001b[49m\u001b[38;5;241;43m3\u001b[39;49m\u001b[43m,\u001b[49m\u001b[43m \u001b[49m\n\u001b[0;32m      3\u001b[0m \u001b[43m                                            \u001b[49m\u001b[38;5;124;43m'\u001b[39;49m\u001b[38;5;124;43mnum_neighbours\u001b[39;49m\u001b[38;5;124;43m'\u001b[39;49m\u001b[43m:\u001b[49m\u001b[43m \u001b[49m\u001b[38;5;241;43m100\u001b[39;49m\u001b[43m,\u001b[49m\n\u001b[0;32m      4\u001b[0m \u001b[43m                                            \u001b[49m\u001b[38;5;124;43m'\u001b[39;49m\u001b[38;5;124;43mplateau_threshold\u001b[39;49m\u001b[38;5;124;43m'\u001b[39;49m\u001b[43m:\u001b[49m\u001b[43m \u001b[49m\u001b[38;5;241;43m10000\u001b[39;49m\u001b[43m}\u001b[49m\u001b[43m)\u001b[49m\n",
      "File \u001b[1;32mc:\\Users\\Mateus\\Documents\\IMS\\CIFO24\\Objects\\sudoku.py:37\u001b[0m, in \u001b[0;36mSudoku.__init__\u001b[1;34m(self, initial_board, board, fill_board, size, difficulty, fitness_function, hill_climbing_args, diff_function)\u001b[0m\n\u001b[0;32m     35\u001b[0m \u001b[38;5;66;03m# If no board is given, fill the board\u001b[39;00m\n\u001b[0;32m     36\u001b[0m \u001b[38;5;28;01mif\u001b[39;00m board \u001b[38;5;129;01mis\u001b[39;00m \u001b[38;5;28;01mNone\u001b[39;00m:\n\u001b[1;32m---> 37\u001b[0m     \u001b[38;5;28;43mself\u001b[39;49m\u001b[38;5;241;43m.\u001b[39;49m\u001b[43mfill_board\u001b[49m\u001b[43m(\u001b[49m\u001b[43mmode\u001b[49m\u001b[38;5;241;43m=\u001b[39;49m\u001b[43mfill_board\u001b[49m\u001b[43m)\u001b[49m\n\u001b[0;32m     38\u001b[0m \u001b[38;5;28;01melse\u001b[39;00m:\n\u001b[0;32m     39\u001b[0m     \u001b[38;5;28mself\u001b[39m\u001b[38;5;241m.\u001b[39mboard \u001b[38;5;241m=\u001b[39m board\u001b[38;5;241m.\u001b[39mcopy()\n",
      "File \u001b[1;32mc:\\Users\\Mateus\\Documents\\IMS\\CIFO24\\Objects\\sudoku.py:97\u001b[0m, in \u001b[0;36mSudoku.fill_board\u001b[1;34m(self, mode)\u001b[0m\n\u001b[0;32m     94\u001b[0m     \u001b[38;5;28;01mreturn\u001b[39;00m\n\u001b[0;32m     96\u001b[0m \u001b[38;5;66;03m# Randomly fill-in the rest of the board\u001b[39;00m\n\u001b[1;32m---> 97\u001b[0m flat_board \u001b[38;5;241m=\u001b[39m \u001b[38;5;28;43mself\u001b[39;49m\u001b[38;5;241;43m.\u001b[39;49m\u001b[43minitial_board\u001b[49m\u001b[38;5;241m.\u001b[39mcopy()\u001b[38;5;241m.\u001b[39mflatten()\n\u001b[0;32m     99\u001b[0m \u001b[38;5;66;03m# Get how many of each number is still missing from the board\u001b[39;00m\n\u001b[0;32m    100\u001b[0m number_counts \u001b[38;5;241m=\u001b[39m np\u001b[38;5;241m.\u001b[39mbincount(flat_board, minlength\u001b[38;5;241m=\u001b[39m\u001b[38;5;28mself\u001b[39m\u001b[38;5;241m.\u001b[39mN \u001b[38;5;241m+\u001b[39m \u001b[38;5;241m1\u001b[39m)\n",
      "\u001b[1;31mAttributeError\u001b[0m: 'Sudoku' object has no attribute 'initial_board'"
     ]
    }
   ],
   "source": [
    "new_individual = Sudoku(hill_climbing_args={'max_iterations' : 100000, \n",
    "                                            'verbose': 3, \n",
    "                                            'num_neighbours': 100,\n",
    "                                            'plateau_threshold': 10000})"
   ]
  }
 ],
 "metadata": {
  "kernelspec": {
   "display_name": "Python 3",
   "language": "python",
   "name": "python3"
  },
  "language_info": {
   "codemirror_mode": {
    "name": "ipython",
    "version": 3
   },
   "file_extension": ".py",
   "mimetype": "text/x-python",
   "name": "python",
   "nbconvert_exporter": "python",
   "pygments_lexer": "ipython3",
   "version": "3.11.3"
  }
 },
 "nbformat": 4,
 "nbformat_minor": 2
}
